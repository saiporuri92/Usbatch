{
 "cells": [
  {
   "cell_type": "code",
   "execution_count": 1,
   "metadata": {},
   "outputs": [
    {
     "name": "stdout",
     "output_type": "stream",
     "text": [
      "this is class\n"
     ]
    }
   ],
   "source": [
    "def fun():\n",
    "    print(\"this is fun\")\n",
    "class Emp:\n",
    "    print(\"this is class\")\n"
   ]
  },
  {
   "cell_type": "code",
   "execution_count": 2,
   "metadata": {},
   "outputs": [
    {
     "name": "stdout",
     "output_type": "stream",
     "text": [
      "this is class\n",
      "Jayaram\n"
     ]
    }
   ],
   "source": [
    "def fun():\n",
    "    print(\"this is fun\")\n",
    "class Emp:\n",
    "    print(\"this is class\")\n",
    "    name=\"Jayaram\"\n",
    "print(Emp.name)"
   ]
  },
  {
   "cell_type": "code",
   "execution_count": 3,
   "metadata": {},
   "outputs": [
    {
     "name": "stdout",
     "output_type": "stream",
     "text": [
      "this is class\n",
      "Jayaram\n",
      "10\n"
     ]
    }
   ],
   "source": [
    "def fun():\n",
    "    print(\"this is fun\")\n",
    "class Emp:\n",
    "    print(\"this is class\")\n",
    "    name=\"Jayaram\"\n",
    "    def fun(x):\n",
    "        print(x)\n",
    "print(Emp.name)\n",
    "Emp.fun(10)"
   ]
  },
  {
   "cell_type": "code",
   "execution_count": 5,
   "metadata": {},
   "outputs": [
    {
     "name": "stdout",
     "output_type": "stream",
     "text": [
      "this is class\n",
      "<__main__.Emp object at 0x0000023F756D1CC0>\n"
     ]
    }
   ],
   "source": [
    "class Emp:\n",
    "    print(\"this is class\")\n",
    "    name=\"Jayaram\"\n",
    "    def fun(x):\n",
    "        print(x)\n",
    "jay=Emp()\n",
    "Emp.fun(jay)"
   ]
  },
  {
   "cell_type": "code",
   "execution_count": 7,
   "metadata": {},
   "outputs": [
    {
     "name": "stdout",
     "output_type": "stream",
     "text": [
      "this is class\n",
      "<__main__.Emp object at 0x0000023F7574F128>\n",
      "<__main__.Emp object at 0x0000023F7574F128>\n"
     ]
    }
   ],
   "source": [
    "class Emp:\n",
    "    print(\"this is class\")\n",
    "    name=\"Jayaram\"\n",
    "    def fun(x):\n",
    "        print(x)\n",
    "jay=Emp()\n",
    "Emp.fun(jay)\n",
    "jay.fun()"
   ]
  },
  {
   "cell_type": "code",
   "execution_count": 8,
   "metadata": {},
   "outputs": [
    {
     "name": "stdout",
     "output_type": "stream",
     "text": [
      "this is class\n",
      "<__main__.Emp object at 0x0000023F756D1FD0>\n"
     ]
    }
   ],
   "source": [
    "class Emp:\n",
    "    print(\"this is class\")\n",
    "    name=\"Jayaram\"\n",
    "    def fun(x):\n",
    "        print(x)\n",
    "jay=Emp()\n",
    "jay.fun()"
   ]
  },
  {
   "cell_type": "code",
   "execution_count": 9,
   "metadata": {},
   "outputs": [
    {
     "name": "stdout",
     "output_type": "stream",
     "text": [
      "this is class\n"
     ]
    },
    {
     "ename": "TypeError",
     "evalue": "fun() missing 1 required positional argument: 'y'",
     "output_type": "error",
     "traceback": [
      "\u001b[1;31m---------------------------------------------------------------------------\u001b[0m",
      "\u001b[1;31mTypeError\u001b[0m                                 Traceback (most recent call last)",
      "\u001b[1;32m<ipython-input-9-84c0fa2fa96a>\u001b[0m in \u001b[0;36m<module>\u001b[1;34m()\u001b[0m\n\u001b[0;32m      6\u001b[0m         \u001b[0mprint\u001b[0m\u001b[1;33m(\u001b[0m\u001b[0my\u001b[0m\u001b[1;33m)\u001b[0m\u001b[1;33m\u001b[0m\u001b[0m\n\u001b[0;32m      7\u001b[0m \u001b[0mjay\u001b[0m\u001b[1;33m=\u001b[0m\u001b[0mEmp\u001b[0m\u001b[1;33m(\u001b[0m\u001b[1;33m)\u001b[0m\u001b[1;33m\u001b[0m\u001b[0m\n\u001b[1;32m----> 8\u001b[1;33m \u001b[0mjay\u001b[0m\u001b[1;33m.\u001b[0m\u001b[0mfun\u001b[0m\u001b[1;33m(\u001b[0m\u001b[1;33m)\u001b[0m\u001b[1;33m\u001b[0m\u001b[0m\n\u001b[0m",
      "\u001b[1;31mTypeError\u001b[0m: fun() missing 1 required positional argument: 'y'"
     ]
    }
   ],
   "source": [
    "class Emp:\n",
    "    print(\"this is class\")\n",
    "    name=\"Jayaram\"\n",
    "    def fun(x,y):\n",
    "        print(x)\n",
    "        print(y)\n",
    "jay=Emp()\n",
    "jay.fun()"
   ]
  },
  {
   "cell_type": "code",
   "execution_count": 10,
   "metadata": {},
   "outputs": [
    {
     "name": "stdout",
     "output_type": "stream",
     "text": [
      "this is class\n",
      "<__main__.Emp object at 0x0000023F756B3828>\n",
      "100\n"
     ]
    }
   ],
   "source": [
    "class Emp:\n",
    "    print(\"this is class\")\n",
    "    name=\"Jayaram\"\n",
    "    def fun(x,y):\n",
    "        print(x)\n",
    "        print(y)\n",
    "jay=Emp()\n",
    "jay.fun(100) # Emp.fun(jay,100)"
   ]
  },
  {
   "cell_type": "code",
   "execution_count": 11,
   "metadata": {},
   "outputs": [
    {
     "name": "stdout",
     "output_type": "stream",
     "text": [
      "this is class\n",
      "<__main__.Emp object at 0x0000023F755E29E8>\n",
      "100\n"
     ]
    }
   ],
   "source": [
    "class Emp:\n",
    "    print(\"this is class\")\n",
    "    name=\"Jayaram\"\n",
    "    def fun(self,y):\n",
    "        print(self)\n",
    "        print(y)\n",
    "jay=Emp()\n",
    "jay.fun(100) # Emp.fun(jay,100)"
   ]
  },
  {
   "cell_type": "code",
   "execution_count": 12,
   "metadata": {},
   "outputs": [
    {
     "name": "stdout",
     "output_type": "stream",
     "text": [
      "this is class\n",
      "<__main__.Emp object at 0x0000023F7574F630>\n",
      "100\n"
     ]
    }
   ],
   "source": [
    "class Emp:\n",
    "    print(\"this is class\")\n",
    "    name=\"Jayaram\"\n",
    "    def fun(self,y):\n",
    "        print(self)\n",
    "        print(y)\n",
    "jay=Emp()\n",
    "jay.fun(100) # Emp.fun(jay,100)"
   ]
  },
  {
   "cell_type": "code",
   "execution_count": 14,
   "metadata": {},
   "outputs": [
    {
     "name": "stdout",
     "output_type": "stream",
     "text": [
      "['abcd;abcd;def;fsf;sdfds;fds;fdsf;dsf;dsfds;fds;fds;f;dsdsf;', 'sf', 'dsf', 'ds', 'fds', 'fdsf']\n"
     ]
    }
   ],
   "source": [
    "s=\"abcd;abcd;def;fsf;sdfds;fds;fdsf;dsf;dsfds;fds;fds;f;dsdsf;;sf;dsf;ds;fds;fdsf\"\n",
    "l=s.rsplit(\";\",5)\n",
    "print(l)"
   ]
  },
  {
   "cell_type": "code",
   "execution_count": 16,
   "metadata": {},
   "outputs": [
    {
     "name": "stdout",
     "output_type": "stream",
     "text": [
      "abcd;abcd;def;fsf;sdfds;fds;fdsf;dsf;dsfds;fds;fds;f;dsdsf;;sf1dsf2ds3fds4fd5sf\n"
     ]
    }
   ],
   "source": [
    "s=\"abcd;abcd;def;fsf;sdfds;fds;fdsf;dsf;dsfds;fds;fds;f;dsdsf;;sf1;dsf2;ds3;fds4;fd5;sf\"\n",
    "l=s.rsplit(\";\",5)\n",
    "print(\"\".join(l))"
   ]
  },
  {
   "cell_type": "code",
   "execution_count": 17,
   "metadata": {},
   "outputs": [
    {
     "name": "stdout",
     "output_type": "stream",
     "text": [
      "apple,orange,banana,apple,apple,,\n"
     ]
    }
   ],
   "source": [
    "s=\"apple,orange,banana,apple,apple,apple,apple\"\n",
    "l=s.rsplit(\"apple\",2)\n",
    "print(\"\".join(l))"
   ]
  },
  {
   "cell_type": "code",
   "execution_count": null,
   "metadata": {},
   "outputs": [],
   "source": []
  }
 ],
 "metadata": {
  "kernelspec": {
   "display_name": "Python 3",
   "language": "python",
   "name": "python3"
  },
  "language_info": {
   "codemirror_mode": {
    "name": "ipython",
    "version": 3
   },
   "file_extension": ".py",
   "mimetype": "text/x-python",
   "name": "python",
   "nbconvert_exporter": "python",
   "pygments_lexer": "ipython3",
   "version": "3.7.0"
  }
 },
 "nbformat": 4,
 "nbformat_minor": 2
}
