{
 "cells": [
  {
   "cell_type": "code",
   "execution_count": 1,
   "metadata": {},
   "outputs": [
    {
     "name": "stdout",
     "output_type": "stream",
     "text": [
      "\n",
      "phone\n",
      "9676622023\n",
      "9676622024\n",
      "9676622025\n"
     ]
    }
   ],
   "source": [
    "s=\"\"\"\n",
    "name,email,phone\n",
    "samba,sambaodoo@gmail.com,9676622023\n",
    "varun,varu12@yahoo.co.in,9676622024\n",
    "latha,LTHA234@rediff.com,9676622025\n",
    "\"\"\"\n",
    "for i in s.splitlines():\n",
    "    print(i.split(',')[-1])"
   ]
  },
  {
   "cell_type": "code",
   "execution_count": 3,
   "metadata": {},
   "outputs": [
    {
     "name": "stdout",
     "output_type": "stream",
     "text": [
      "email\n",
      "sambaodoo@gmail.com\n",
      "varu12@yahoo.co.in\n",
      "LTHA234@rediff.com\n"
     ]
    }
   ],
   "source": [
    "s=\"\"\"name,email,phone\n",
    "samba,sambaodoo@gmail.com,9676622023\n",
    "varun,varu12@yahoo.co.in,9676622024\n",
    "latha,LTHA234@rediff.com,9676622025\n",
    "\"\"\"\n",
    "for i in s.splitlines():\n",
    "    print(i.split(',')[1])"
   ]
  },
  {
   "cell_type": "code",
   "execution_count": 4,
   "metadata": {},
   "outputs": [
    {
     "name": "stdout",
     "output_type": "stream",
     "text": [
      "sambaodoo@gmail.com\n",
      "varun\n",
      "latha\n"
     ]
    }
   ],
   "source": [
    "s=\"\"\"samba,sambaodoo@gmail.com,9676622023\n",
    "varu12@yahoo.co.in,varun,9676622024\n",
    "9676622025,latha,LTHA234@rediff.com\n",
    "\"\"\"\n",
    "for i in s.splitlines():\n",
    "    print(i.split(',')[1])"
   ]
  },
  {
   "cell_type": "code",
   "execution_count": 5,
   "metadata": {},
   "outputs": [
    {
     "data": {
      "text/plain": [
       "['9676622023', '9676622024', '9676622025']"
      ]
     },
     "execution_count": 5,
     "metadata": {},
     "output_type": "execute_result"
    }
   ],
   "source": [
    "import re\n"
   ]
  },
  {
   "cell_type": "code",
   "execution_count": 7,
   "metadata": {},
   "outputs": [
    {
     "name": "stdout",
     "output_type": "stream",
     "text": [
      "['a', 'b', 'a', 'a', 'b', 'a', 'd', 'a', 'c', 'a', 'a', 'c', 'a', 'a', 'a', 'd', 'c']\n"
     ]
    }
   ],
   "source": [
    "s=\"\"\"samba,sambaodoo@gmail.com,9676622023\n",
    "varu12@yahoo.co.in,varun,9676622024\n",
    "9676622025,latha,LTHA234@rediff.com\n",
    "\"\"\"\n",
    "print(re.findall(\"[abcd]\",s))"
   ]
  },
  {
   "cell_type": "code",
   "execution_count": 8,
   "metadata": {},
   "outputs": [
    {
     "name": "stdout",
     "output_type": "stream",
     "text": [
      "['a', 'b', 'a', 'a', 'b', 'a', 'd', 'a', 'c', 'a', 'a', 'c', 'a', 'a', 'a', 'A', 'd', 'c']\n"
     ]
    }
   ],
   "source": [
    "s=\"\"\"samba,sambaodoo@gmail.com,9676622023\n",
    "varu12@yahoo.co.in,varun,9676622024\n",
    "9676622025,latha,LTHA234@rediff.com\n",
    "\"\"\"\n",
    "print(re.findall(\"[abcd]\",s,re.I))"
   ]
  },
  {
   "cell_type": "code",
   "execution_count": 9,
   "metadata": {},
   "outputs": [
    {
     "name": "stdout",
     "output_type": "stream",
     "text": [
      "['s', 'a', 'm', 'b', 'a', 's', 'a', 'm', 'b', 'a', 'o', 'd', 'o', 'o', 'g', 'm', 'a', 'i', 'l', 'c', 'o', 'm', 'v', 'a', 'r', 'u', 'y', 'a', 'h', 'o', 'o', 'c', 'o', 'i', 'n', 'v', 'a', 'r', 'u', 'n', 'l', 'a', 't', 'h', 'a', 'L', 'T', 'H', 'A', 'r', 'e', 'd', 'i', 'f', 'f', 'c', 'o', 'm']\n"
     ]
    }
   ],
   "source": [
    "s=\"\"\"samba,sambaodoo@gmail.com,9676622023\n",
    "varu12@yahoo.co.in,varun,9676622024\n",
    "9676622025,latha,LTHA234@rediff.com\n",
    "\"\"\"\n",
    "print(re.findall(\"[a-z]\",s,re.I))"
   ]
  },
  {
   "cell_type": "code",
   "execution_count": 10,
   "metadata": {},
   "outputs": [
    {
     "name": "stdout",
     "output_type": "stream",
     "text": [
      "['9', '6', '7', '6', '6', '2', '2', '0', '2', '3', '1', '2', '9', '6', '7', '6', '6', '2', '2', '0', '2', '4', '9', '6', '7', '6', '6', '2', '2', '0', '2', '5', '2', '3', '4']\n"
     ]
    }
   ],
   "source": [
    "s=\"\"\"samba,sambaodoo@gmail.com,9676622023\n",
    "varu12@yahoo.co.in,varun,9676622024\n",
    "9676622025,latha,LTHA234@rediff.com\n",
    "\"\"\"\n",
    "print(re.findall(\"[0-9]\",s,re.I))"
   ]
  },
  {
   "cell_type": "code",
   "execution_count": 11,
   "metadata": {},
   "outputs": [
    {
     "name": "stdout",
     "output_type": "stream",
     "text": [
      "['@', '9', '6', '7', '6', '6', '2', '2', '0', '2', '3', '1', '2', '@', '9', '6', '7', '6', '6', '2', '2', '0', '2', '4', '9', '6', '7', '6', '6', '2', '2', '0', '2', '5', '2', '3', '4', '@']\n"
     ]
    }
   ],
   "source": [
    "s=\"\"\"samba,sambaodoo@gmail.com,9676622023\n",
    "varu12@yahoo.co.in,varun,9676622024\n",
    "9676622025,latha,LTHA234@rediff.com\n",
    "\"\"\"\n",
    "print(re.findall(\"[0-9@]\",s,re.I))"
   ]
  },
  {
   "cell_type": "code",
   "execution_count": 13,
   "metadata": {},
   "outputs": [
    {
     "name": "stdout",
     "output_type": "stream",
     "text": [
      "['u1', 'A2']\n"
     ]
    }
   ],
   "source": [
    "s=\"\"\"samba,sambaodoo@gmail.com,9676622023\n",
    "varu12@yahoo.co.in,varun,9676622024\n",
    "9676622025,latha,LTHA234@rediff.com\n",
    "\"\"\"\n",
    "print(re.findall(\"[a-z][0-9]\",s,re.I))"
   ]
  },
  {
   "cell_type": "code",
   "execution_count": 14,
   "metadata": {},
   "outputs": [
    {
     "name": "stdout",
     "output_type": "stream",
     "text": [
      "['967', '662', '202', '967', '662', '202', '967', '662', '202', '234']\n"
     ]
    }
   ],
   "source": [
    "s=\"\"\"samba,sambaodoo@gmail.com,9676622023\n",
    "varu12@yahoo.co.in,varun,9676622024\n",
    "9676622025,latha,LTHA234@rediff.com\n",
    "\"\"\"\n",
    "print(re.findall(\"[0-9][0-9][0-9]\",s,re.I))"
   ]
  },
  {
   "cell_type": "code",
   "execution_count": 15,
   "metadata": {},
   "outputs": [
    {
     "name": "stdout",
     "output_type": "stream",
     "text": [
      "['9676622023', '9676622024', '9676622025']\n"
     ]
    }
   ],
   "source": [
    "s=\"\"\"samba,sambaodoo@gmail.com,9676622023\n",
    "varu12@yahoo.co.in,varun,9676622024\n",
    "9676622025,latha,LTHA234@rediff.com\n",
    "\"\"\"\n",
    "print(re.findall(\"[0-9][0-9][0-9][0-9][0-9][0-9][0-9][0-9][0-9][0-9]\",s,re.I))"
   ]
  },
  {
   "cell_type": "code",
   "execution_count": 16,
   "metadata": {},
   "outputs": [
    {
     "name": "stdout",
     "output_type": "stream",
     "text": [
      "['9676622023', '9676622024', '9676622025']\n"
     ]
    }
   ],
   "source": [
    "s=\"\"\"samba,sambaodoo@gmail.com,9676622023\n",
    "varu12@yahoo.co.in,varun,9676622024\n",
    "9676622025,latha,LTHA234@rediff.com\n",
    "\"\"\"\n",
    "print(re.findall(\"[0-9]{10}\",s,re.I))"
   ]
  },
  {
   "cell_type": "code",
   "execution_count": 17,
   "metadata": {},
   "outputs": [
    {
     "name": "stdout",
     "output_type": "stream",
     "text": [
      "['96766', '22023', '96766', '22024', '96766', '22025', '234', '123', '678']\n"
     ]
    }
   ],
   "source": [
    "s=\"\"\"samba,sambaodoo@gmail.com,9676622023\n",
    "varu12@yahoo.co.in,varun,9676622024\n",
    "9676622025,latha,LTHA234@rediff.com\n",
    "123,45,678,98\n",
    "\"\"\"\n",
    "print(re.findall(\"[0-9]{3,5}\",s,re.I))"
   ]
  },
  {
   "cell_type": "code",
   "execution_count": 18,
   "metadata": {},
   "outputs": [
    {
     "name": "stdout",
     "output_type": "stream",
     "text": [
      "['9676622023', '9676622024', '9676622025', '234', '123', '678']\n"
     ]
    }
   ],
   "source": [
    "s=\"\"\"samba,sambaodoo@gmail.com,9676622023\n",
    "varu12@yahoo.co.in,varun,9676622024\n",
    "9676622025,latha,LTHA234@rediff.com\n",
    "123,45,678,98\n",
    "\"\"\"\n",
    "print(re.findall(\"[0-9]{3,}\",s,re.I))"
   ]
  },
  {
   "cell_type": "code",
   "execution_count": 19,
   "metadata": {},
   "outputs": [
    {
     "name": "stdout",
     "output_type": "stream",
     "text": [
      "['9676622023', '12', '9676622024', '9676622025', '234', '123', '45', '678', '98']\n"
     ]
    }
   ],
   "source": [
    "s=\"\"\"samba,sambaodoo@gmail.com,9676622023\n",
    "varu12@yahoo.co.in,varun,9676622024\n",
    "9676622025,latha,LTHA234@rediff.com\n",
    "123,45,678,98\n",
    "\"\"\"\n",
    "print(re.findall(\"[0-9]{1,}\",s,re.I))"
   ]
  },
  {
   "cell_type": "code",
   "execution_count": 20,
   "metadata": {},
   "outputs": [
    {
     "name": "stdout",
     "output_type": "stream",
     "text": [
      "['9676622023', '12', '9676622024', '9676622025', '234', '123', '45', '678', '98']\n",
      "['9676622023', '12', '9676622024', '9676622025', '234', '123', '45', '678', '98']\n"
     ]
    }
   ],
   "source": [
    "s=\"\"\"samba,sambaodoo@gmail.com,9676622023\n",
    "varu12@yahoo.co.in,varun,9676622024\n",
    "9676622025,latha,LTHA234@rediff.com\n",
    "123,45,678,98\n",
    "\"\"\"\n",
    "print(re.findall(\"[0-9]{1,}\",s,re.I))\n",
    "print(re.findall(\"[0-9]+\",s,re.I))"
   ]
  },
  {
   "cell_type": "code",
   "execution_count": 21,
   "metadata": {},
   "outputs": [
    {
     "name": "stdout",
     "output_type": "stream",
     "text": [
      "['', '', '', '', '', '', '', '', '', '', '', '', '', '', '', '', '', '', '', '', '', '', '', '', '', '', '9676622023', '', '', '', '', '', '12', '', '', '', '', '', '', '', '', '', '', '', '', '', '', '', '', '', '', '', '9676622024', '', '9676622025', '', '', '', '', '', '', '', '', '', '', '', '234', '', '', '', '', '', '', '', '', '', '', '', '', '123', '', '45', '', '678', '', '98', '', '']\n",
      "['', '', '', '', '', '', '', '', '', '', '', '', '', '', '', '', '', '', '', '', '', '', '', '', '', '', '9676622023', '', '', '', '', '', '12', '', '', '', '', '', '', '', '', '', '', '', '', '', '', '', '', '', '', '', '9676622024', '', '9676622025', '', '', '', '', '', '', '', '', '', '', '', '234', '', '', '', '', '', '', '', '', '', '', '', '', '123', '', '45', '', '678', '', '98', '', '']\n"
     ]
    }
   ],
   "source": [
    "s=\"\"\"samba,sambaodoo@gmail.com,9676622023\n",
    "varu12@yahoo.co.in,varun,9676622024\n",
    "9676622025,latha,LTHA234@rediff.com\n",
    "123,45,678,98\n",
    "\"\"\"\n",
    "print(re.findall(\"[0-9]{0,}\",s,re.I))\n",
    "print(re.findall(\"[0-9]*\",s,re.I))"
   ]
  },
  {
   "cell_type": "code",
   "execution_count": 22,
   "metadata": {},
   "outputs": [
    {
     "name": "stdout",
     "output_type": "stream",
     "text": [
      "['', '', '', '', '', '', '', '', '', '', '', '', '', '', '', '', '', '', '', '', '', '', '', '', '', '', '9', '6', '7', '6', '6', '2', '2', '0', '2', '3', '', '', '', '', '', '1', '2', '', '', '', '', '', '', '', '', '', '', '', '', '', '', '', '', '', '', '', '9', '6', '7', '6', '6', '2', '2', '0', '2', '4', '', '9', '6', '7', '6', '6', '2', '2', '0', '2', '5', '', '', '', '', '', '', '', '', '', '', '', '2', '3', '4', '', '', '', '', '', '', '', '', '', '', '', '', '1', '2', '3', '', '4', '5', '', '6', '7', '8', '', '9', '8', '', '']\n",
      "['', '', '', '', '', '', '', '', '', '', '', '', '', '', '', '', '', '', '', '', '', '', '', '', '', '', '9', '6', '7', '6', '6', '2', '2', '0', '2', '3', '', '', '', '', '', '1', '2', '', '', '', '', '', '', '', '', '', '', '', '', '', '', '', '', '', '', '', '9', '6', '7', '6', '6', '2', '2', '0', '2', '4', '', '9', '6', '7', '6', '6', '2', '2', '0', '2', '5', '', '', '', '', '', '', '', '', '', '', '', '2', '3', '4', '', '', '', '', '', '', '', '', '', '', '', '', '1', '2', '3', '', '4', '5', '', '6', '7', '8', '', '9', '8', '', '']\n"
     ]
    }
   ],
   "source": [
    "s=\"\"\"samba,sambaodoo@gmail.com,9676622023\n",
    "varu12@yahoo.co.in,varun,9676622024\n",
    "9676622025,latha,LTHA234@rediff.com\n",
    "123,45,678,98\n",
    "\"\"\"\n",
    "print(re.findall(\"[0-9]{0,1}\",s,re.I))\n",
    "print(re.findall(\"[0-9]?\",s,re.I))"
   ]
  },
  {
   "cell_type": "code",
   "execution_count": 23,
   "metadata": {},
   "outputs": [
    {
     "name": "stdout",
     "output_type": "stream",
     "text": [
      "['s', 'a', 'm', 'b', 'a', ',', 's', 'a', 'm', 'b', 'a', 'o', 'd', 'o', 'o', '@', 'g', 'm', 'a', 'i', 'l', '.', 'c', 'o', 'm', ',', '9', '6', '7', '6', '6', '2', '2', '0', '2', '3', 'v', 'a', 'r', 'u', '1', '2', '@', 'y', 'a', 'h', 'o', 'o', '.', 'c', 'o', '.', 'i', 'n', ',', 'v', 'a', 'r', 'u', 'n', ',', '9', '6', '7', '6', '6', '2', '2', '0', '2', '4', '9', '6', '7', '6', '6', '2', '2', '0', '2', '5', ',', 'l', 'a', 't', 'h', 'a', ',', 'L', 'T', 'H', 'A', '2', '3', '4', '@', 'r', 'e', 'd', 'i', 'f', 'f', '.', 'c', 'o', 'm', '1', '2', '3', ',', '4', '5', ',', '6', '7', '8', ',', '9', '8']\n"
     ]
    }
   ],
   "source": [
    "s=\"\"\"samba,sambaodoo@gmail.com,9676622023\n",
    "varu12@yahoo.co.in,varun,9676622024\n",
    "9676622025,latha,LTHA234@rediff.com\n",
    "123,45,678,98\n",
    "\"\"\"\n",
    "print(re.findall(\".\",s,re.I))"
   ]
  },
  {
   "cell_type": "code",
   "execution_count": 24,
   "metadata": {},
   "outputs": [
    {
     "data": {
      "text/plain": [
       "'samba,sambaodoo@gmail.com,9676622023\\nvaru12@yahoo.co.in,varun,9676622024\\n9676622025,latha,LTHA234@rediff.com\\n123,45,678,98\\n'"
      ]
     },
     "execution_count": 24,
     "metadata": {},
     "output_type": "execute_result"
    }
   ],
   "source": [
    "s"
   ]
  },
  {
   "cell_type": "code",
   "execution_count": 25,
   "metadata": {},
   "outputs": [
    {
     "name": "stdout",
     "output_type": "stream",
     "text": [
      "['s', 'a', 'm', 'b', 'a', ',', 's', 'a', 'm', 'b', 'a', 'o', 'd', 'o', 'o', '@', 'g', 'm', 'a', 'i', 'l', '.', 'c', 'o', 'm', ',', '9', '6', '7', '6', '6', '2', '2', '0', '2', '3', '\\n', 'v', 'a', 'r', 'u', '1', '2', '@', 'y', 'a', 'h', 'o', 'o', '.', 'c', 'o', '.', 'i', 'n', ',', 'v', 'a', 'r', 'u', 'n', ',', '9', '6', '7', '6', '6', '2', '2', '0', '2', '4', '\\n', '9', '6', '7', '6', '6', '2', '2', '0', '2', '5', ',', 'l', 'a', 't', 'h', 'a', ',', 'L', 'T', 'H', 'A', '2', '3', '4', '@', 'r', 'e', 'd', 'i', 'f', 'f', '.', 'c', 'o', 'm', '\\n', '1', '2', '3', ',', '4', '5', ',', '6', '7', '8', ',', '9', '8', '\\n']\n"
     ]
    }
   ],
   "source": [
    "s=\"\"\"samba,sambaodoo@gmail.com,9676622023\n",
    "varu12@yahoo.co.in,varun,9676622024\n",
    "9676622025,latha,LTHA234@rediff.com\n",
    "123,45,678,98\n",
    "\"\"\"\n",
    "print(re.findall(\".\",s,re.I|re.DOTALL))"
   ]
  },
  {
   "cell_type": "code",
   "execution_count": 27,
   "metadata": {},
   "outputs": [
    {
     "name": "stdout",
     "output_type": "stream",
     "text": [
      "['9', '6', '7', '6', '6', '2', '2', '0', '2', '3', '1', '2', '9', '6', '7', '6', '6', '2', '2', '0', '2', '4', '9', '6', '7', '6', '6', '2', '2', '0', '2', '5', '2', '3', '4', '1', '2', '3', '4', '5', '6', '7', '8', '9', '8']\n"
     ]
    }
   ],
   "source": [
    "s=\"\"\"samba,sambaodoo@gmail.com,9676622023\n",
    "varu12@yahoo.co.in,varun,9676622024\n",
    "9676622025,latha,LTHA234@rediff.com\n",
    "123,45,678,98\n",
    "\"\"\"\n",
    "print(re.findall(\"[0-9]\",s))"
   ]
  },
  {
   "cell_type": "code",
   "execution_count": 28,
   "metadata": {},
   "outputs": [
    {
     "name": "stdout",
     "output_type": "stream",
     "text": [
      "['s', 'a', 'm', 'b', 'a', ',', 's', 'a', 'm', 'b', 'a', 'o', 'd', 'o', 'o', '@', 'g', 'm', 'a', 'i', 'l', '.', 'c', 'o', 'm', ',', '\\n', 'v', 'a', 'r', 'u', '@', 'y', 'a', 'h', 'o', 'o', '.', 'c', 'o', '.', 'i', 'n', ',', 'v', 'a', 'r', 'u', 'n', ',', '\\n', ',', 'l', 'a', 't', 'h', 'a', ',', 'L', 'T', 'H', 'A', '@', 'r', 'e', 'd', 'i', 'f', 'f', '.', 'c', 'o', 'm', '\\n', ',', ',', ',', '\\n']\n"
     ]
    }
   ],
   "source": [
    "s=\"\"\"samba,sambaodoo@gmail.com,9676622023\n",
    "varu12@yahoo.co.in,varun,9676622024\n",
    "9676622025,latha,LTHA234@rediff.com\n",
    "123,45,678,98\n",
    "\"\"\"\n",
    "print(re.findall(\"[^0-9]\",s))"
   ]
  },
  {
   "cell_type": "code",
   "execution_count": 29,
   "metadata": {},
   "outputs": [
    {
     "name": "stdout",
     "output_type": "stream",
     "text": [
      "[]\n"
     ]
    }
   ],
   "source": [
    "s=\"\"\"samba,sambaodoo@gmail.com,9676622023\n",
    "varu12@yahoo.co.in,varun,9676622024\n",
    "9676622025,latha,LTHA234@rediff.com\n",
    "123,45,678,98\n",
    "\"\"\"\n",
    "print(re.findall(\"^[0-9]\",s))"
   ]
  },
  {
   "cell_type": "code",
   "execution_count": 30,
   "metadata": {},
   "outputs": [
    {
     "name": "stdout",
     "output_type": "stream",
     "text": [
      "['1']\n"
     ]
    }
   ],
   "source": [
    "s=\"\"\"12samba,sambaodoo@gmail.com,9676622023\n",
    "varu12@yahoo.co.in,varun,9676622024\n",
    "9676622025,latha,LTHA234@rediff.com\n",
    "123,45,678,98\n",
    "\"\"\"\n",
    "print(re.findall(\"^[0-9]\",s))"
   ]
  },
  {
   "cell_type": "code",
   "execution_count": 31,
   "metadata": {},
   "outputs": [
    {
     "name": "stdout",
     "output_type": "stream",
     "text": [
      "['8']\n"
     ]
    }
   ],
   "source": [
    "s=\"\"\"12samba,sambaodoo@gmail.com,9676622023\n",
    "varu12@yahoo.co.in,varun,9676622024\n",
    "9676622025,latha,LTHA234@rediff.com\n",
    "123,45,678,98\n",
    "\"\"\"\n",
    "print(re.findall(\"[0-9]$\",s))"
   ]
  },
  {
   "cell_type": "code",
   "execution_count": 32,
   "metadata": {},
   "outputs": [
    {
     "name": "stdout",
     "output_type": "stream",
     "text": [
      "['3', '4', '8']\n"
     ]
    }
   ],
   "source": [
    "s=\"\"\"12samba,sambaodoo@gmail.com,9676622023\n",
    "varu12@yahoo.co.in,varun,9676622024\n",
    "9676622025,latha,LTHA234@rediff.com\n",
    "123,45,678,98\n",
    "\"\"\"\n",
    "print(re.findall(\"[0-9]$\",s,re.M))"
   ]
  },
  {
   "cell_type": "code",
   "execution_count": 33,
   "metadata": {},
   "outputs": [
    {
     "name": "stdout",
     "output_type": "stream",
     "text": [
      "['9676622023', '9676622024', '9676622025']\n"
     ]
    }
   ],
   "source": [
    "s=\"\"\"12samba,sambaodoo@gmail.com,9676622023\n",
    "varu12@yahoo.co.in,varun,9676622024\n",
    "9676622025,latha,LTHA234@rediff.com\n",
    "123,45,678,98\n",
    "\"\"\"\n",
    "print(re.findall(\"[0-9]{10}\",s,re.M))"
   ]
  },
  {
   "cell_type": "code",
   "execution_count": 34,
   "metadata": {},
   "outputs": [
    {
     "name": "stdout",
     "output_type": "stream",
     "text": [
      "['9676622023', '9676622024', '9676622025']\n"
     ]
    }
   ],
   "source": [
    "s=\"\"\"12samba,sambaodoo@gmail.com,9676622023\n",
    "varu12@yahoo.co.in,varun,9676622024\n",
    "9676622025,latha,LTHA234@rediff.com\n",
    "123,45,678,98\n",
    "\"\"\"\n",
    "print(re.findall(\"[0-9]{10}\",s))"
   ]
  },
  {
   "cell_type": "code",
   "execution_count": 35,
   "metadata": {},
   "outputs": [
    {
     "name": "stdout",
     "output_type": "stream",
     "text": [
      "['sambaodoo@gmail.com', 'varu12@yahoo.co.in', '234@rediff.com']\n"
     ]
    }
   ],
   "source": [
    "s=\"\"\"12samba,sambaodoo@gmail.com,9676622023\n",
    "varu12@yahoo.co.in,varun,9676622024\n",
    "9676622025,latha,LTHA234@rediff.com\n",
    "123,45,678,98\n",
    "\"\"\"\n",
    "#username==[a-z0-9_]+\n",
    "#@==@\n",
    "#domain@[a-z]+\n",
    "#.==\\.\n",
    "#extension==[a-z.]+\n",
    "print(re.findall(\"[a-z0-9_]+@[a-z]+\\.[a-z.]+\",s))"
   ]
  },
  {
   "cell_type": "code",
   "execution_count": 36,
   "metadata": {},
   "outputs": [
    {
     "name": "stdout",
     "output_type": "stream",
     "text": [
      "['sambaodoo@gmail.com', 'varu12@yahoo.co.in', 'LTHA234@rediff.com']\n"
     ]
    }
   ],
   "source": [
    "s=\"\"\"12samba,sambaodoo@gmail.com,9676622023\n",
    "varu12@yahoo.co.in,varun,9676622024\n",
    "9676622025,latha,LTHA234@rediff.com\n",
    "123,45,678,98\n",
    "\"\"\"\n",
    "#username==[a-z0-9_]+\n",
    "#@==@\n",
    "#domain@[a-z]+\n",
    "#.==\\.\n",
    "#extension==[a-z.]+\n",
    "print(re.findall(\"[a-z0-9_]+@[a-z]+\\.[a-z.]+\",s,re.I))"
   ]
  },
  {
   "cell_type": "code",
   "execution_count": 37,
   "metadata": {},
   "outputs": [
    {
     "name": "stdout",
     "output_type": "stream",
     "text": [
      "['sambaodoo@gmail.com', 'varu12@yahoo.co.in', 'LTHA234@rediff.com']\n"
     ]
    }
   ],
   "source": [
    "s=\"\"\"12samba,sambaodoo@gmail.com,9676622023\n",
    "varu12@yahoo.co.in,varun,9676622024\n",
    "9676622025,latha,LTHA234@rediff.com\n",
    "123,45,678,98\n",
    "\"\"\"\n",
    "#username==[a-z0-9_]+\n",
    "#@==@\n",
    "#domain@[a-z]+\n",
    "#.==\\.\n",
    "#extension==[a-z.]+\n",
    "print(re.findall(\"\\w+@[a-z]+\\.[a-z.]+\",s,re.I))"
   ]
  },
  {
   "cell_type": "code",
   "execution_count": 38,
   "metadata": {},
   "outputs": [
    {
     "name": "stdout",
     "output_type": "stream",
     "text": [
      "['12', '9676622023', '12', '9676622024', '9676622025', '234', '123', '45', '678', '98']\n"
     ]
    }
   ],
   "source": [
    "s=\"\"\"12samba,sambaodoo@gmail.com,9676622023\n",
    "varu12@yahoo.co.in,varun,9676622024\n",
    "9676622025,latha,LTHA234@rediff.com\n",
    "123,45,678,98\n",
    "\"\"\"\n",
    "#username==[a-z0-9_]+\n",
    "#@==@\n",
    "#domain@[a-z]+\n",
    "#.==\\.\n",
    "#extension==[a-z.]+\n",
    "print(re.findall(\"\\d+\",s,re.I))"
   ]
  },
  {
   "cell_type": "code",
   "execution_count": 39,
   "metadata": {},
   "outputs": [
    {
     "name": "stdout",
     "output_type": "stream",
     "text": [
      "['samba,sambaodoo@gmail.com,', '\\nvaru', '@yahoo.co.in,varun,', '\\n', ',latha,LTHA', '@rediff.com\\n', ',', ',', ',', '\\n']\n"
     ]
    }
   ],
   "source": [
    "s=\"\"\"12samba,sambaodoo@gmail.com,9676622023\n",
    "varu12@yahoo.co.in,varun,9676622024\n",
    "9676622025,latha,LTHA234@rediff.com\n",
    "123,45,678,98\n",
    "\"\"\"\n",
    "#username==[a-z0-9_]+\n",
    "#@==@\n",
    "#domain@[a-z]+\n",
    "#.==\\.\n",
    "#extension==[a-z.]+\n",
    "print(re.findall(\"\\D+\",s,re.I))"
   ]
  },
  {
   "cell_type": "code",
   "execution_count": 42,
   "metadata": {},
   "outputs": [
    {
     "name": "stdout",
     "output_type": "stream",
     "text": [
      "['sambaodoo@gmail.com', 'varu12@yahoo.co.in', 'LTHA234@rediff.com']\n"
     ]
    }
   ],
   "source": [
    "s=\"\"\"12samba,sambaodoo@gmail.com,9676622023\n",
    "varu12@yahoo.co.in,varun,9676622024\n",
    "9676622025,latha,LTHA234@rediff.com\n",
    "123,45,678,98\n",
    "\"\"\"\n",
    "#username==[a-z0-9_]+\n",
    "#@==@\n",
    "#domain@[a-z]+\n",
    "#.==\\.\n",
    "#extension==[a-z.]+\n",
    "print(re.findall(\"\\w+@[a-z]+\\.[a-z.]+\",s,re.I))"
   ]
  },
  {
   "cell_type": "code",
   "execution_count": 43,
   "metadata": {},
   "outputs": [],
   "source": [
    "s=\"\"\"12samba,sambaodoo@gmail.com,9676622023\n",
    "varu12@yahoo.co.in,varun,9676622024\n",
    "9676622025,latha,LTHA234@rediff.com\n",
    "123,45,678,98\n",
    "\"\"\"\n",
    "#username==[a-z0-9_]+\n",
    "#@==@\n",
    "#domain@[a-z]+\n",
    "#.==\\.\n",
    "#extension==[a-z.]+\n",
    "data = re.finditer(\"\\w+@[a-z]+\\.[a-z.]+\",s,re.I)"
   ]
  },
  {
   "cell_type": "code",
   "execution_count": 44,
   "metadata": {},
   "outputs": [
    {
     "data": {
      "text/plain": [
       "<callable_iterator at 0x103b8cc4320>"
      ]
     },
     "execution_count": 44,
     "metadata": {},
     "output_type": "execute_result"
    }
   ],
   "source": [
    "data"
   ]
  },
  {
   "cell_type": "code",
   "execution_count": 47,
   "metadata": {},
   "outputs": [
    {
     "name": "stdout",
     "output_type": "stream",
     "text": [
      "sambaodoo@gmail.com\n",
      "varu12@yahoo.co.in\n",
      "LTHA234@rediff.com\n"
     ]
    }
   ],
   "source": [
    "s=\"\"\"12samba,sambaodoo@gmail.com,9676622023\n",
    "varu12@yahoo.co.in,varun,9676622024\n",
    "9676622025,latha,LTHA234@rediff.com\n",
    "123,45,678,98\n",
    "\"\"\"\n",
    "#username==[a-z0-9_]+\n",
    "#@==@\n",
    "#domain@[a-z]+\n",
    "#.==\\.\n",
    "#extension==[a-z.]+\n",
    "data = re.finditer(\"\\w+@[a-z]+\\.[a-z.]+\",s,re.I)\n",
    "for i in data:\n",
    "    print(i.group(0))"
   ]
  },
  {
   "cell_type": "code",
   "execution_count": 49,
   "metadata": {},
   "outputs": [
    {
     "name": "stdout",
     "output_type": "stream",
     "text": [
      "<re.Match object; span=(8, 27), match='sambaodoo@gmail.com'>\n",
      "email can be found in data\n"
     ]
    }
   ],
   "source": [
    "s=\"\"\"12samba,sambaodoo@gmail.com,9676622023\n",
    "varu12@yahoo.co.in,varun,9676622024\n",
    "9676622025,latha,LTHA234@rediff.com\n",
    "123,45,678,98\n",
    "\"\"\"\n",
    "#username==[a-z0-9_]+\n",
    "#@==@\n",
    "#domain@[a-z]+\n",
    "#.==\\.\n",
    "#extension==[a-z.]+\n",
    "data = re.search(\"\\w+@[a-z]+\\.[a-z.]+\",s,re.I)\n",
    "print(data)\n",
    "if data:\n",
    "    print(\"email can be found in data\")"
   ]
  },
  {
   "cell_type": "code",
   "execution_count": 50,
   "metadata": {},
   "outputs": [
    {
     "name": "stdout",
     "output_type": "stream",
     "text": [
      "None\n"
     ]
    }
   ],
   "source": [
    "s=\"\"\"12samba,sambaodoo@gmail.com,9676622023\n",
    "varu12@yahoo.co.in,varun,9676622024\n",
    "9676622025,latha,LTHA234@rediff.com\n",
    "123,45,678,98\n",
    "\"\"\"\n",
    "#username==[a-z0-9_]+\n",
    "#@==@\n",
    "#domain@[a-z]+\n",
    "#.==\\.\n",
    "#extension==[a-z.]+\n",
    "data = re.match(\"\\w+@[a-z]+\\.[a-z.]+\",s,re.I)\n",
    "print(data)\n",
    "if data:\n",
    "    print(\"email can be found in data\")"
   ]
  },
  {
   "cell_type": "code",
   "execution_count": 51,
   "metadata": {},
   "outputs": [
    {
     "name": "stdout",
     "output_type": "stream",
     "text": [
      "None\n"
     ]
    }
   ],
   "source": [
    "s=\"\"\"12samba,sambaodoo@gmail.com,9676622023\n",
    "varu12@yahoo.co.in,varun,9676622024\n",
    "9676622025,latha,LTHA234@rediff.com\n",
    "123,45,678,98\n",
    "\"\"\"\n",
    "#username==[a-z0-9_]+\n",
    "#@==@\n",
    "#domain@[a-z]+\n",
    "#.==\\.\n",
    "#extension==[a-z.]+\n",
    "data = re.match(\"\\w+@[a-z]+\\.[a-z.]+\",s,re.I|re.M)\n",
    "print(data)\n",
    "if data:\n",
    "    print(\"email can be found in data\")"
   ]
  },
  {
   "cell_type": "code",
   "execution_count": 53,
   "metadata": {},
   "outputs": [
    {
     "name": "stdout",
     "output_type": "stream",
     "text": [
      "['LTHA234@rediff.com', 'WXbc@gmail.com', 'sambaodoo@gmail.com', 'varu12@yahoo.co.in']\n"
     ]
    }
   ],
   "source": [
    "l=['sambaodoo@gmail.com', 'varu12@yahoo.co.in', 'LTHA234@rediff.com',\"WXbc@gmail.com\"]\n",
    "l.sort()\n",
    "print(l)"
   ]
  },
  {
   "cell_type": "code",
   "execution_count": 55,
   "metadata": {},
   "outputs": [
    {
     "data": {
      "text/plain": [
       "['sambaodoo@gmail.com', 'varu12@yahoo.co.in', 'LTHA234@rediff.com']"
      ]
     },
     "execution_count": 55,
     "metadata": {},
     "output_type": "execute_result"
    }
   ],
   "source": [
    "s=\"\"\"12samba,sambaodoo@gmail.com,9676622023\n",
    "varu12@yahoo.co.in,varun,9676622024\n",
    "9676622025,latha,LTHA234@rediff.com\n",
    "123,45,678,98\n",
    "\"\"\"\n",
    "#username==[a-z0-9_]+\n",
    "#@==@\n",
    "#domain@[a-z]+\n",
    "#.==\\.\n",
    "#extension==[a-z.]+\n",
    "import re\n",
    "email_reg = re.compile(\"\\w+@[a-z]+\\.[a-z.]+\")\n",
    "email_reg.findall(s)"
   ]
  },
  {
   "cell_type": "code",
   "execution_count": 56,
   "metadata": {},
   "outputs": [],
   "source": [
    "import re"
   ]
  },
  {
   "cell_type": "code",
   "execution_count": 58,
   "metadata": {},
   "outputs": [
    {
     "name": "stdout",
     "output_type": "stream",
     "text": [
      "[',', '@', '.', ',', '\\n', '@', '.', '.', ',', ',', '\\n', ',', ',', '@', '.', '\\n', ',', ',', ',', '\\n']\n"
     ]
    }
   ],
   "source": [
    "s=\"\"\"12samba,sambaodoo@gmail.com,9676622023\n",
    "varu12@yahoo.co.in,varun,9676622024\n",
    "9676622025,latha,LTHA234@rediff.com\n",
    "123,45,678,98\n",
    "\"\"\"\n",
    "#username==[a-z0-9_]+\n",
    "#@==@\n",
    "#domain@[a-z]+\n",
    "#.==\\.\n",
    "#extension==[a-z.]+\n",
    "import re\n",
    "print(re.findall(\"[^0-9a-z]\",s,re.I))"
   ]
  },
  {
   "cell_type": "code",
   "execution_count": null,
   "metadata": {},
   "outputs": [],
   "source": []
  }
 ],
 "metadata": {
  "kernelspec": {
   "display_name": "Python 3",
   "language": "python",
   "name": "python3"
  },
  "language_info": {
   "codemirror_mode": {
    "name": "ipython",
    "version": 3
   },
   "file_extension": ".py",
   "mimetype": "text/x-python",
   "name": "python",
   "nbconvert_exporter": "python",
   "pygments_lexer": "ipython3",
   "version": "3.7.0"
  }
 },
 "nbformat": 4,
 "nbformat_minor": 2
}
