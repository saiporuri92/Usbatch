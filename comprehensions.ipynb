{
 "cells": [
  {
   "cell_type": "code",
   "execution_count": 1,
   "metadata": {},
   "outputs": [
    {
     "name": "stdout",
     "output_type": "stream",
     "text": [
      "[1, 2, 3, 4]\n",
      "['1', '2', '3', '4']\n"
     ]
    }
   ],
   "source": [
    "l=['1','2','3','4']\n",
    "res=[]\n",
    "for i in l:\n",
    "    res.append(int(i))\n",
    "    \n",
    "print(res)\n",
    "print(l)\n"
   ]
  },
  {
   "cell_type": "code",
   "execution_count": 3,
   "metadata": {},
   "outputs": [
    {
     "name": "stdout",
     "output_type": "stream",
     "text": [
      "[1, 2, 3, 4]\n",
      "['1', '2', '3', '4']\n"
     ]
    }
   ],
   "source": [
    "l=['1','2','3','4']\n",
    "res=[int(i) for i in l]  \n",
    "print(res)\n",
    "print(l)\n"
   ]
  },
  {
   "cell_type": "code",
   "execution_count": 4,
   "metadata": {},
   "outputs": [
    {
     "name": "stdout",
     "output_type": "stream",
     "text": [
      "['ODD', 'EVEN', 'ODD', 'EVEN']\n"
     ]
    }
   ],
   "source": [
    "l=[11, 24, 35, 46]\n",
    "#[\"ODD\",\"EVEN\",\"ODD\",\"EVEn\"]\n",
    "res=[]\n",
    "for i in l:\n",
    "    if i%2==0:\n",
    "        res.append(\"EVEN\")\n",
    "    else:\n",
    "        res.append(\"ODD\")\n",
    "print(res)"
   ]
  },
  {
   "cell_type": "code",
   "execution_count": 5,
   "metadata": {},
   "outputs": [
    {
     "name": "stdout",
     "output_type": "stream",
     "text": [
      "['ODD', 'EVEN', 'ODD', 'EVEN']\n"
     ]
    }
   ],
   "source": [
    "l=[11, 24, 35, 46]\n",
    "#[\"ODD\",\"EVEN\",\"ODD\",\"EVEn\"]\n",
    "res=[]\n",
    "for i in l:\n",
    "    res.append(\"EVEN\") if i%2==0 else res.append(\"ODD\")\n",
    "print(res)"
   ]
  },
  {
   "cell_type": "code",
   "execution_count": 6,
   "metadata": {},
   "outputs": [
    {
     "name": "stdout",
     "output_type": "stream",
     "text": [
      "['ODD', 'EVEN', 'ODD', 'EVEN']\n"
     ]
    }
   ],
   "source": [
    "l=[11, 24, 35, 46]\n",
    "#[\"ODD\",\"EVEN\",\"ODD\",\"EVEn\"]\n",
    "res=[\"EVEN\" if i%2==0 else \"ODD\" for i in l]\n",
    "print(res)"
   ]
  },
  {
   "cell_type": "code",
   "execution_count": 9,
   "metadata": {},
   "outputs": [
    {
     "name": "stdout",
     "output_type": "stream",
     "text": [
      "['11,ODD', '24,EVEN', '35,ODD', '46,EVEN', '23,ODD']\n"
     ]
    }
   ],
   "source": [
    "l=[11, 24, 35, 46,\"python\",[1,2,3,4],23]\n",
    "#[\"ODD\",\"EVEN\",\"ODD\",\"EVEn\"]\n",
    "res=[]\n",
    "for i in l:\n",
    "    if isinstance(i,int):\n",
    "        if i%2==0:\n",
    "            res.append(\"%s,EVEN\"%i)\n",
    "        else:\n",
    "            res.append(\"%s,ODD\"%i)\n",
    "print(res)"
   ]
  },
  {
   "cell_type": "code",
   "execution_count": 11,
   "metadata": {},
   "outputs": [
    {
     "name": "stdout",
     "output_type": "stream",
     "text": [
      "['11,ODD', '24,EVEN', '35,ODD', '46,EVEN', '23,ODD']\n"
     ]
    }
   ],
   "source": [
    "l=[11, 24, 35, 46,\"python\",[1,2,3,4],23]\n",
    "#[\"ODD\",\"EVEN\",\"ODD\",\"EVEn\"]\n",
    "res=[\"%s,EVEN\"%i if i%2==0 else \"%s,ODD\"%i for i in l if isinstance(i,int)]\n",
    "print(res)"
   ]
  },
  {
   "cell_type": "code",
   "execution_count": 12,
   "metadata": {},
   "outputs": [
    {
     "name": "stdout",
     "output_type": "stream",
     "text": [
      "<generator object <genexpr> at 0x0000021FD685E228>\n"
     ]
    }
   ],
   "source": [
    "l=[11, 24, 35, 46,\"python\",[1,2,3,4],23]\n",
    "#[\"ODD\",\"EVEN\",\"ODD\",\"EVEn\"]\n",
    "res=(\"%s,EVEN\"%i if i%2==0 else \"%s,ODD\"%i for i in l if isinstance(i,int))\n",
    "print(res)"
   ]
  },
  {
   "cell_type": "code",
   "execution_count": 13,
   "metadata": {},
   "outputs": [
    {
     "name": "stdout",
     "output_type": "stream",
     "text": [
      "11,ODD\n",
      "24,EVEN\n",
      "35,ODD\n",
      "46,EVEN\n",
      "23,ODD\n"
     ]
    }
   ],
   "source": [
    "l=[11, 24, 35, 46,\"python\",[1,2,3,4],23]\n",
    "#[\"ODD\",\"EVEN\",\"ODD\",\"EVEn\"]\n",
    "res=(\"%s,EVEN\"%i if i%2==0 else \"%s,ODD\"%i for i in l if isinstance(i,int))\n",
    "for i in res:\n",
    "    print(i)"
   ]
  },
  {
   "cell_type": "code",
   "execution_count": 14,
   "metadata": {},
   "outputs": [],
   "source": [
    "l=[\"st1\",\"st2\",\"4%3\",\"#$\",\"df34\",\"$#%\",\"abcd\",\"234\"]\n"
   ]
  },
  {
   "cell_type": "code",
   "execution_count": 15,
   "metadata": {},
   "outputs": [
    {
     "data": {
      "text/plain": [
       "True"
      ]
     },
     "execution_count": 15,
     "metadata": {},
     "output_type": "execute_result"
    }
   ],
   "source": [
    "s=\"erew\"\n",
    "s.isalnum()"
   ]
  },
  {
   "cell_type": "code",
   "execution_count": 16,
   "metadata": {},
   "outputs": [],
   "source": [
    "k=[10,20,30,40]\n",
    "l=[50,60,70,80]\n",
    "#[60,80,100,120]"
   ]
  },
  {
   "cell_type": "code",
   "execution_count": 17,
   "metadata": {},
   "outputs": [
    {
     "name": "stdout",
     "output_type": "stream",
     "text": [
      "(10, 50)\n",
      "(20, 60)\n",
      "(30, 70)\n",
      "(40, 80)\n"
     ]
    }
   ],
   "source": [
    "k=[10,20,30,40]\n",
    "l=[50,60,70,80]\n",
    "for i in zip(k,l):\n",
    "    print(i)"
   ]
  },
  {
   "cell_type": "code",
   "execution_count": 18,
   "metadata": {},
   "outputs": [
    {
     "name": "stdout",
     "output_type": "stream",
     "text": [
      "10 50\n",
      "20 60\n",
      "30 70\n",
      "40 80\n"
     ]
    }
   ],
   "source": [
    "k=[10,20,30,40]\n",
    "l=[50,60,70,80]\n",
    "for i,j in zip(k,l):\n",
    "    print(i,j)"
   ]
  },
  {
   "cell_type": "code",
   "execution_count": 19,
   "metadata": {},
   "outputs": [
    {
     "name": "stdout",
     "output_type": "stream",
     "text": [
      "60\n",
      "80\n",
      "100\n",
      "120\n"
     ]
    }
   ],
   "source": [
    "k=[10,20,30,40]\n",
    "l=[50,60,70,80]\n",
    "for i,j in zip(k,l):\n",
    "    print(i+j)"
   ]
  },
  {
   "cell_type": "code",
   "execution_count": 21,
   "metadata": {},
   "outputs": [
    {
     "name": "stdout",
     "output_type": "stream",
     "text": [
      "[60, 80, 100, 120]\n"
     ]
    }
   ],
   "source": [
    "k=[10,20,30,40]\n",
    "l=[50,60,70,80]\n",
    "res=[]\n",
    "for i,j in zip(k,l):\n",
    "    res.append(i+j)\n",
    "print(res)"
   ]
  },
  {
   "cell_type": "code",
   "execution_count": 22,
   "metadata": {},
   "outputs": [
    {
     "name": "stdout",
     "output_type": "stream",
     "text": [
      "[60, 80, 100, 120]\n"
     ]
    }
   ],
   "source": [
    "k=[10,20,30,40]\n",
    "l=[50,60,70,80]\n",
    "res=[i+j for i,j in zip(k,l)]\n",
    "print(res)"
   ]
  },
  {
   "cell_type": "code",
   "execution_count": 23,
   "metadata": {},
   "outputs": [
    {
     "name": "stdout",
     "output_type": "stream",
     "text": [
      "(0, 10)\n",
      "(1, 20)\n",
      "(2, 30)\n",
      "(3, 40)\n"
     ]
    }
   ],
   "source": [
    "k=[10,20,30,40]\n",
    "for i in enumerate(k):\n",
    "    print(i)"
   ]
  },
  {
   "cell_type": "code",
   "execution_count": 24,
   "metadata": {},
   "outputs": [
    {
     "name": "stdout",
     "output_type": "stream",
     "text": [
      "{'k1': 'v1', 'k2': 'v2', 'k3': 'v3', 'k4': 'v4'}\n"
     ]
    }
   ],
   "source": [
    "keys=[\"k1\",\"k2\",\"k3\",\"k4\"]\n",
    "values=[\"v1\",\"v2\",\"v3\",\"v4\"]\n",
    "#{\"k1\":\"v1\",\"k2\":\"v2\",\"k3\":\"v3\",\"k4\":\"v4\"}\n",
    "res={}\n",
    "for k,v in zip(keys,values):\n",
    "    res.update({k:v})\n",
    "print(res)"
   ]
  },
  {
   "cell_type": "code",
   "execution_count": 25,
   "metadata": {},
   "outputs": [
    {
     "name": "stdout",
     "output_type": "stream",
     "text": [
      "{'k1': 'v1', 'k2': 'v2', 'k3': 'v3', 'k4': 'v4'}\n"
     ]
    }
   ],
   "source": [
    "keys=[\"k1\",\"k2\",\"k3\",\"k4\"]\n",
    "values=[\"v1\",\"v2\",\"v3\",\"v4\"]\n",
    "#{\"k1\":\"v1\",\"k2\":\"v2\",\"k3\":\"v3\",\"k4\":\"v4\"}\n",
    "res={k:v for k,v in zip(keys,values)}\n",
    "print(res)"
   ]
  },
  {
   "cell_type": "code",
   "execution_count": 26,
   "metadata": {},
   "outputs": [
    {
     "data": {
      "text/plain": [
       "{'k1': 'v1', 'k2': 'v2', 'k3': 'v3', 'k4': 'v4'}"
      ]
     },
     "execution_count": 26,
     "metadata": {},
     "output_type": "execute_result"
    }
   ],
   "source": [
    "keys=[\"k1\",\"k2\",\"k3\",\"k4\"]\n",
    "values=[\"v1\",\"v2\",\"v3\",\"v4\"]\n",
    "dict(zip(keys,values))"
   ]
  },
  {
   "cell_type": "code",
   "execution_count": 27,
   "metadata": {},
   "outputs": [
    {
     "data": {
      "text/plain": [
       "{1: 2, 3: 4, 5: 6}"
      ]
     },
     "execution_count": 27,
     "metadata": {},
     "output_type": "execute_result"
    }
   ],
   "source": [
    "dict([(1,2),(3,4),(5,6)])"
   ]
  },
  {
   "cell_type": "code",
   "execution_count": 29,
   "metadata": {},
   "outputs": [
    {
     "name": "stdout",
     "output_type": "stream",
     "text": [
      "{'k1': 'v1', 'k2': 'v2', 'k3': 'v3', 'k4': 'v4'}\n"
     ]
    }
   ],
   "source": [
    "keys=[\"k%s\"%i for i in range(1,5)]\n",
    "values=[\"v%s\"%i for i in range(1,5)]\n",
    "#{\"k1\":\"v1\",\"k2\":\"v2\",\"k3\":\"v3\",\"k4\":\"v4\"}\n",
    "res={k:v for k,v in zip(keys,values)}\n",
    "print(res)"
   ]
  },
  {
   "cell_type": "code",
   "execution_count": 30,
   "metadata": {},
   "outputs": [
    {
     "name": "stdout",
     "output_type": "stream",
     "text": [
      "('a', 'd')\n",
      "('b', 'e')\n",
      "('c', 'f')\n"
     ]
    }
   ],
   "source": [
    "for i in zip(\"abc\",\"def\"):\n",
    "    print(i)"
   ]
  },
  {
   "cell_type": "code",
   "execution_count": 31,
   "metadata": {},
   "outputs": [
    {
     "name": "stdout",
     "output_type": "stream",
     "text": [
      "<class 'function'>\n",
      "<class 'function'>\n"
     ]
    }
   ],
   "source": [
    "def fun(x,y):\n",
    "    return x+y\n",
    "f=lambda x,y:x+y\n",
    "print(type(fun))\n",
    "print(type(f))"
   ]
  },
  {
   "cell_type": "code",
   "execution_count": 32,
   "metadata": {},
   "outputs": [
    {
     "name": "stdout",
     "output_type": "stream",
     "text": [
      "<class 'function'>\n",
      "<class 'function'>\n"
     ]
    }
   ],
   "source": [
    "def fun(x):\n",
    "    if x%2==0:\n",
    "        return \"EVEN\"\n",
    "    else:\n",
    "        return \"ODD\"\n",
    "def fun1(x):\n",
    "    return \"EVEN\" if x%2==0 else \"ODD\"\n",
    "f=lambda x:\"EVEN\" if x%2==0 else \"ODD\"\n",
    "print(type(fun))\n",
    "print(type(f))"
   ]
  },
  {
   "cell_type": "code",
   "execution_count": 33,
   "metadata": {},
   "outputs": [
    {
     "name": "stdout",
     "output_type": "stream",
     "text": [
      "EVEN\n",
      "EVEN\n"
     ]
    }
   ],
   "source": [
    "def fun1(x):\n",
    "    return \"EVEN\" if x%2==0 else \"ODD\"\n",
    "f=lambda x:\"EVEN\" if x%2==0 else \"ODD\"\n",
    "print(fun1(10))\n",
    "print(f(10))"
   ]
  },
  {
   "cell_type": "code",
   "execution_count": 35,
   "metadata": {},
   "outputs": [
    {
     "name": "stdout",
     "output_type": "stream",
     "text": [
      "ODD\n",
      "ODD\n",
      "EVEN\n",
      "EVEN\n",
      "ODD\n",
      "ODD\n",
      "EVEN\n"
     ]
    }
   ],
   "source": [
    "def fun1(x):\n",
    "    return \"EVEN\" if x%2==0 else \"ODD\"\n",
    "l=[11,23,42,36,57,65,46]\n",
    "for i in l:\n",
    "    print(fun1(i))"
   ]
  },
  {
   "cell_type": "code",
   "execution_count": 36,
   "metadata": {},
   "outputs": [
    {
     "name": "stdout",
     "output_type": "stream",
     "text": [
      "['ODD', 'ODD', 'EVEN', 'EVEN', 'ODD', 'ODD', 'EVEN']\n"
     ]
    }
   ],
   "source": [
    "def fun1(x):\n",
    "    return \"EVEN\" if x%2==0 else \"ODD\"\n",
    "l=[11,23,42,36,57,65,46]\n",
    "res=[]\n",
    "for i in l:\n",
    "    res.append(fun1(i))\n",
    "print(res)"
   ]
  },
  {
   "cell_type": "code",
   "execution_count": 37,
   "metadata": {},
   "outputs": [
    {
     "name": "stdout",
     "output_type": "stream",
     "text": [
      "['ODD', 'ODD', 'EVEN', 'EVEN', 'ODD', 'ODD', 'EVEN']\n"
     ]
    }
   ],
   "source": [
    "def fun1(x):\n",
    "    return \"EVEN\" if x%2==0 else \"ODD\"\n",
    "l=[11,23,42,36,57,65,46]\n",
    "res=[fun1(ia) for i in l]\n",
    "print(res)"
   ]
  },
  {
   "cell_type": "code",
   "execution_count": 38,
   "metadata": {},
   "outputs": [
    {
     "name": "stdout",
     "output_type": "stream",
     "text": [
      "<map object at 0x0000021FD69026A0>\n"
     ]
    }
   ],
   "source": [
    "def fun1(x):\n",
    "    return \"EVEN\" if x%2==0 else \"ODD\"\n",
    "l=[11,23,42,36,57,65,46]\n",
    "res=map(fun1,l)\n",
    "print(res)"
   ]
  },
  {
   "cell_type": "code",
   "execution_count": 39,
   "metadata": {},
   "outputs": [
    {
     "name": "stdout",
     "output_type": "stream",
     "text": [
      "ODD\n",
      "ODD\n",
      "EVEN\n",
      "EVEN\n",
      "ODD\n",
      "ODD\n",
      "EVEN\n"
     ]
    }
   ],
   "source": [
    "def fun1(x):\n",
    "    return \"EVEN\" if x%2==0 else \"ODD\"\n",
    "l=[11,23,42,36,57,65,46]\n",
    "res=map(fun1,l)\n",
    "for i in res:\n",
    "    print(i)"
   ]
  },
  {
   "cell_type": "code",
   "execution_count": 41,
   "metadata": {},
   "outputs": [
    {
     "name": "stdout",
     "output_type": "stream",
     "text": [
      "1 5\n",
      "6\n",
      "2 6\n",
      "8\n",
      "3 7\n",
      "10\n",
      "4 8\n",
      "12\n"
     ]
    }
   ],
   "source": [
    "k=[1,2,3,4]\n",
    "l=[5,6,7,8]\n",
    "def fun(x,y):\n",
    "    print(x,y)\n",
    "    return x+y\n",
    "res=map(fun,k,l)\n",
    "for i in res:\n",
    "    print(i)"
   ]
  },
  {
   "cell_type": "code",
   "execution_count": 43,
   "metadata": {},
   "outputs": [
    {
     "name": "stdout",
     "output_type": "stream",
     "text": [
      "ea\n",
      "fb\n",
      "gc\n",
      "hd\n"
     ]
    }
   ],
   "source": [
    "k=\"efgh\"\n",
    "l=\"abcd\"\n",
    "def fun(x,y):\n",
    "    return x+y\n",
    "res=map(fun,k,l)\n",
    "for i in res:\n",
    "    print(i)"
   ]
  },
  {
   "cell_type": "code",
   "execution_count": 44,
   "metadata": {},
   "outputs": [
    {
     "name": "stdout",
     "output_type": "stream",
     "text": [
      "ea\n",
      "fb\n",
      "gc\n",
      "hd\n"
     ]
    }
   ],
   "source": [
    "k=\"efgh\"\n",
    "l=\"abcd\"\n",
    "res=map(lambda x,y:x+y,k,l)\n",
    "for i in res:\n",
    "    print(i)"
   ]
  },
  {
   "cell_type": "code",
   "execution_count": 45,
   "metadata": {},
   "outputs": [
    {
     "name": "stdout",
     "output_type": "stream",
     "text": [
      "ea\n",
      "fb\n",
      "gc\n",
      "hd\n"
     ]
    }
   ],
   "source": [
    "k=\"efgh\"\n",
    "l=\"abcd\"\n",
    "f=lambda x,y:x+y\n",
    "res=map(f,k,l)\n",
    "for i in res:\n",
    "    print(i)"
   ]
  },
  {
   "cell_type": "code",
   "execution_count": 48,
   "metadata": {},
   "outputs": [
    {
     "data": {
      "text/plain": [
       "[12, 34, 46]"
      ]
     },
     "execution_count": 48,
     "metadata": {},
     "output_type": "execute_result"
    }
   ],
   "source": [
    "l=[12,34,53,46,77,85,91]\n",
    "list(filter(lambda x:x%2==0,l))"
   ]
  },
  {
   "cell_type": "code",
   "execution_count": 49,
   "metadata": {},
   "outputs": [
    {
     "name": "stdout",
     "output_type": "stream",
     "text": [
      "[True, True, False, True, False, False, False]\n"
     ]
    }
   ],
   "source": [
    "l=[12,34,53,46,77,85,91]\n",
    "def fun(x):\n",
    "    if x%2==0:\n",
    "        return True\n",
    "    else:\n",
    "        return False\n",
    "print([fun(i) for i in l])"
   ]
  },
  {
   "cell_type": "code",
   "execution_count": 51,
   "metadata": {},
   "outputs": [
    {
     "name": "stdout",
     "output_type": "stream",
     "text": [
      "[True, True, False, True, False, False, False]\n"
     ]
    }
   ],
   "source": [
    "l=[12,34,53,46,77,85,91]\n",
    "def fun(x):\n",
    "    return x%2==0\n",
    "print([fun(i) for i in l])"
   ]
  },
  {
   "cell_type": "code",
   "execution_count": 52,
   "metadata": {},
   "outputs": [
    {
     "data": {
      "text/plain": [
       "[12, 34, 46]"
      ]
     },
     "execution_count": 52,
     "metadata": {},
     "output_type": "execute_result"
    }
   ],
   "source": [
    "l=[12,34,53,46,77,85,91]\n",
    "def fun(x):\n",
    "    return x%2==0\n",
    "list(filter(fun,l))"
   ]
  },
  {
   "cell_type": "code",
   "execution_count": 53,
   "metadata": {},
   "outputs": [
    {
     "data": {
      "text/plain": [
       "[True, True, False, True, False, False, False]"
      ]
     },
     "execution_count": 53,
     "metadata": {},
     "output_type": "execute_result"
    }
   ],
   "source": [
    "l=[12,34,53,46,77,85,91]\n",
    "def fun(x):\n",
    "    return x%2==0\n",
    "list(map(fun,l))"
   ]
  },
  {
   "cell_type": "code",
   "execution_count": 55,
   "metadata": {},
   "outputs": [
    {
     "data": {
      "text/plain": [
       "[-10, -45, -89]"
      ]
     },
     "execution_count": 55,
     "metadata": {},
     "output_type": "execute_result"
    }
   ],
   "source": [
    "l=[-10,23,45,-45,67,-89]\n",
    "list(filter(lambda x:x<0,l))"
   ]
  },
  {
   "cell_type": "code",
   "execution_count": null,
   "metadata": {},
   "outputs": [],
   "source": []
  }
 ],
 "metadata": {
  "kernelspec": {
   "display_name": "Python 3",
   "language": "python",
   "name": "python3"
  },
  "language_info": {
   "codemirror_mode": {
    "name": "ipython",
    "version": 3
   },
   "file_extension": ".py",
   "mimetype": "text/x-python",
   "name": "python",
   "nbconvert_exporter": "python",
   "pygments_lexer": "ipython3",
   "version": "3.7.0"
  }
 },
 "nbformat": 4,
 "nbformat_minor": 2
}
