{
 "cells": [
  {
   "cell_type": "code",
   "execution_count": 1,
   "metadata": {},
   "outputs": [],
   "source": [
    "f=open(\"data.csv\",\"w\")"
   ]
  },
  {
   "cell_type": "code",
   "execution_count": 2,
   "metadata": {},
   "outputs": [
    {
     "data": {
      "text/plain": [
       "9"
      ]
     },
     "execution_count": 2,
     "metadata": {},
     "output_type": "execute_result"
    }
   ],
   "source": [
    "f.write(\"some data\")"
   ]
  },
  {
   "cell_type": "code",
   "execution_count": 3,
   "metadata": {},
   "outputs": [],
   "source": [
    "f.close()"
   ]
  },
  {
   "cell_type": "code",
   "execution_count": 4,
   "metadata": {},
   "outputs": [
    {
     "ename": "ValueError",
     "evalue": "I/O operation on closed file.",
     "output_type": "error",
     "traceback": [
      "\u001b[1;31m---------------------------------------------------------------------------\u001b[0m",
      "\u001b[1;31mValueError\u001b[0m                                Traceback (most recent call last)",
      "\u001b[1;32m<ipython-input-4-14d2c7d9ec99>\u001b[0m in \u001b[0;36m<module>\u001b[1;34m()\u001b[0m\n\u001b[1;32m----> 1\u001b[1;33m \u001b[0mf\u001b[0m\u001b[1;33m.\u001b[0m\u001b[0mwrite\u001b[0m\u001b[1;33m(\u001b[0m\u001b[1;34m\"some more content\"\u001b[0m\u001b[1;33m)\u001b[0m\u001b[1;33m\u001b[0m\u001b[0m\n\u001b[0m",
      "\u001b[1;31mValueError\u001b[0m: I/O operation on closed file."
     ]
    }
   ],
   "source": [
    "f.write(\"some more content\")"
   ]
  },
  {
   "cell_type": "code",
   "execution_count": 5,
   "metadata": {},
   "outputs": [],
   "source": [
    "f=open(\"data.csv\",\"w\")"
   ]
  },
  {
   "cell_type": "code",
   "execution_count": 6,
   "metadata": {},
   "outputs": [],
   "source": [
    "f.write(\"some content\")\n",
    "f.flush()"
   ]
  },
  {
   "cell_type": "code",
   "execution_count": 7,
   "metadata": {},
   "outputs": [
    {
     "data": {
      "text/plain": [
       "17"
      ]
     },
     "execution_count": 7,
     "metadata": {},
     "output_type": "execute_result"
    }
   ],
   "source": [
    "f.write(\"some more content\")"
   ]
  },
  {
   "cell_type": "code",
   "execution_count": 8,
   "metadata": {},
   "outputs": [],
   "source": [
    "f.close()"
   ]
  },
  {
   "cell_type": "code",
   "execution_count": 9,
   "metadata": {},
   "outputs": [],
   "source": [
    "f=open(\"data.csv\",\"a\")\n",
    "f.write(\"adding content in append mode..\")\n",
    "f.close()"
   ]
  },
  {
   "cell_type": "code",
   "execution_count": 10,
   "metadata": {},
   "outputs": [
    {
     "ename": "TypeError",
     "evalue": "write() argument must be str, not list",
     "output_type": "error",
     "traceback": [
      "\u001b[1;31m---------------------------------------------------------------------------\u001b[0m",
      "\u001b[1;31mTypeError\u001b[0m                                 Traceback (most recent call last)",
      "\u001b[1;32m<ipython-input-10-ce7e24ddc481>\u001b[0m in \u001b[0;36m<module>\u001b[1;34m()\u001b[0m\n\u001b[0;32m      1\u001b[0m \u001b[0mf\u001b[0m\u001b[1;33m=\u001b[0m\u001b[0mopen\u001b[0m\u001b[1;33m(\u001b[0m\u001b[1;34m\"data.csv\"\u001b[0m\u001b[1;33m,\u001b[0m\u001b[1;34m\"a\"\u001b[0m\u001b[1;33m)\u001b[0m\u001b[1;33m\u001b[0m\u001b[0m\n\u001b[0;32m      2\u001b[0m \u001b[0ml\u001b[0m\u001b[1;33m=\u001b[0m\u001b[1;33m[\u001b[0m\u001b[1;34m\"apple\"\u001b[0m\u001b[1;33m,\u001b[0m\u001b[1;34m\"banana\"\u001b[0m\u001b[1;33m,\u001b[0m\u001b[1;34m\"oranghe\"\u001b[0m\u001b[1;33m,\u001b[0m\u001b[1;34m\"grape\"\u001b[0m\u001b[1;33m]\u001b[0m\u001b[1;33m\u001b[0m\u001b[0m\n\u001b[1;32m----> 3\u001b[1;33m \u001b[0mf\u001b[0m\u001b[1;33m.\u001b[0m\u001b[0mwrite\u001b[0m\u001b[1;33m(\u001b[0m\u001b[0ml\u001b[0m\u001b[1;33m)\u001b[0m\u001b[1;33m\u001b[0m\u001b[0m\n\u001b[0m\u001b[0;32m      4\u001b[0m \u001b[0mf\u001b[0m\u001b[1;33m.\u001b[0m\u001b[0mclose\u001b[0m\u001b[1;33m(\u001b[0m\u001b[1;33m)\u001b[0m\u001b[1;33m\u001b[0m\u001b[0m\n",
      "\u001b[1;31mTypeError\u001b[0m: write() argument must be str, not list"
     ]
    }
   ],
   "source": [
    "f=open(\"data.csv\",\"a\")\n",
    "l=[\"apple\",\"banana\",\"oranghe\",\"grape\"]\n",
    "f.write(l)\n",
    "f.close()"
   ]
  },
  {
   "cell_type": "code",
   "execution_count": 11,
   "metadata": {},
   "outputs": [],
   "source": [
    "f=open(\"data.csv\",\"a\")\n",
    "l=[\"apple\",\"banana\",\"oranghe\",\"grape\"]\n",
    "f.writelines(l)\n",
    "f.close()"
   ]
  },
  {
   "cell_type": "code",
   "execution_count": 12,
   "metadata": {},
   "outputs": [],
   "source": [
    "f=open(\"data.csv\",\"a\")\n",
    "l=[\"apple\\n\",\"banana\\n\",\"oranghe\\n\",\"grape\\n\"]\n",
    "f.writelines(l)\n",
    "f.close()"
   ]
  },
  {
   "cell_type": "code",
   "execution_count": 23,
   "metadata": {},
   "outputs": [],
   "source": [
    "f=open(\"data.csv\",\"w\")\n",
    "f.write(\"id,name,sal\")\n",
    "names=[\"rahul\",\"sara\",\"varun\",\"latha\",\"shreyas\",\"krish\"]\n",
    "salaries=range(30000,1000000,10000)\n",
    "import random\n",
    "for i in range(100):\n",
    "    row=\"\\n%s,%s,%s\"%(i,random.choice(names),random.choice(salaries))\n",
    "    f.write(row)\n",
    "    f.flush()\n",
    "f.close()"
   ]
  },
  {
   "cell_type": "code",
   "execution_count": 24,
   "metadata": {},
   "outputs": [
    {
     "ename": "FileNotFoundError",
     "evalue": "[Errno 2] No such file or directory: 'data1.csv'",
     "output_type": "error",
     "traceback": [
      "\u001b[1;31m---------------------------------------------------------------------------\u001b[0m",
      "\u001b[1;31mFileNotFoundError\u001b[0m                         Traceback (most recent call last)",
      "\u001b[1;32m<ipython-input-24-f9ed7aa1e9f2>\u001b[0m in \u001b[0;36m<module>\u001b[1;34m()\u001b[0m\n\u001b[1;32m----> 1\u001b[1;33m \u001b[0mf\u001b[0m\u001b[1;33m=\u001b[0m\u001b[0mopen\u001b[0m\u001b[1;33m(\u001b[0m\u001b[1;34m\"data1.csv\"\u001b[0m\u001b[1;33m,\u001b[0m\u001b[1;34m\"r\"\u001b[0m\u001b[1;33m)\u001b[0m\u001b[1;33m\u001b[0m\u001b[0m\n\u001b[0m",
      "\u001b[1;31mFileNotFoundError\u001b[0m: [Errno 2] No such file or directory: 'data1.csv'"
     ]
    }
   ],
   "source": [
    "f=open(\"data1.csv\",\"r\")"
   ]
  },
  {
   "cell_type": "code",
   "execution_count": 25,
   "metadata": {},
   "outputs": [
    {
     "name": "stdout",
     "output_type": "stream",
     "text": [
      "id,name,sal\n",
      "0,sara,120000\n",
      "1,sara,580000\n",
      "2,krish,840000\n",
      "3,varun,880000\n",
      "4,krish,990000\n",
      "5,krish,690000\n",
      "6,shreyas,650000\n",
      "7,krish,100000\n",
      "8,latha,950000\n",
      "9,sara,530000\n",
      "10,sara,470000\n",
      "11,krish,280000\n",
      "12,krish,890000\n",
      "13,rahul,120000\n",
      "14,latha,370000\n",
      "15,krish,460000\n",
      "16,latha,90000\n",
      "17,krish,310000\n",
      "18,shreyas,760000\n",
      "19,krish,540000\n",
      "20,sara,540000\n",
      "21,latha,880000\n",
      "22,krish,880000\n",
      "23,sara,260000\n",
      "24,krish,910000\n",
      "25,varun,550000\n",
      "26,shreyas,120000\n",
      "27,varun,160000\n",
      "28,varun,400000\n",
      "29,latha,90000\n",
      "30,sara,790000\n",
      "31,shreyas,80000\n",
      "32,varun,170000\n",
      "33,shreyas,770000\n",
      "34,sara,550000\n",
      "35,varun,490000\n",
      "36,rahul,60000\n",
      "37,rahul,730000\n",
      "38,sara,70000\n",
      "39,sara,440000\n",
      "40,sara,240000\n",
      "41,sara,490000\n",
      "42,rahul,900000\n",
      "43,shreyas,850000\n",
      "44,latha,330000\n",
      "45,sara,100000\n",
      "46,rahul,920000\n",
      "47,latha,930000\n",
      "48,varun,580000\n",
      "49,shreyas,250000\n",
      "50,sara,340000\n",
      "51,sara,30000\n",
      "52,latha,670000\n",
      "53,latha,580000\n",
      "54,latha,770000\n",
      "55,shreyas,880000\n",
      "56,rahul,910000\n",
      "57,latha,80000\n",
      "58,sara,360000\n",
      "59,rahul,40000\n",
      "60,rahul,820000\n",
      "61,shreyas,340000\n",
      "62,krish,60000\n",
      "63,varun,130000\n",
      "64,krish,560000\n",
      "65,varun,440000\n",
      "66,rahul,830000\n",
      "67,krish,490000\n",
      "68,varun,460000\n",
      "69,krish,650000\n",
      "70,latha,620000\n",
      "71,varun,140000\n",
      "72,krish,400000\n",
      "73,rahul,690000\n",
      "74,sara,910000\n",
      "75,varun,110000\n",
      "76,krish,40000\n",
      "77,rahul,580000\n",
      "78,latha,410000\n",
      "79,varun,950000\n",
      "80,sara,780000\n",
      "81,rahul,380000\n",
      "82,latha,220000\n",
      "83,shreyas,690000\n",
      "84,latha,160000\n",
      "85,krish,80000\n",
      "86,shreyas,420000\n",
      "87,varun,800000\n",
      "88,sara,600000\n",
      "89,krish,700000\n",
      "90,krish,210000\n",
      "91,krish,960000\n",
      "92,rahul,850000\n",
      "93,shreyas,820000\n",
      "94,varun,790000\n",
      "95,varun,280000\n",
      "96,sara,690000\n",
      "97,varun,480000\n",
      "98,latha,490000\n",
      "99,rahul,300000\n"
     ]
    }
   ],
   "source": [
    "f=open(\"data.csv\",\"r\")\n",
    "data=f.read()\n",
    "print(data)"
   ]
  },
  {
   "cell_type": "code",
   "execution_count": 26,
   "metadata": {},
   "outputs": [
    {
     "name": "stdout",
     "output_type": "stream",
     "text": [
      "id,name,sal\n",
      "\n",
      "0,sara,120000\n",
      "\n"
     ]
    }
   ],
   "source": [
    "f=open(\"data.csv\",\"r\")\n",
    "print(f.readline())\n",
    "print(f.readline())"
   ]
  },
  {
   "cell_type": "code",
   "execution_count": 27,
   "metadata": {},
   "outputs": [
    {
     "data": {
      "text/plain": [
       "'1,sara,580000\\n'"
      ]
     },
     "execution_count": 27,
     "metadata": {},
     "output_type": "execute_result"
    }
   ],
   "source": [
    "f.readline()"
   ]
  },
  {
   "cell_type": "code",
   "execution_count": 28,
   "metadata": {},
   "outputs": [
    {
     "data": {
      "text/plain": [
       "'2,krish,840000\\n'"
      ]
     },
     "execution_count": 28,
     "metadata": {},
     "output_type": "execute_result"
    }
   ],
   "source": [
    "f.readline()"
   ]
  },
  {
   "cell_type": "code",
   "execution_count": 29,
   "metadata": {},
   "outputs": [
    {
     "name": "stdout",
     "output_type": "stream",
     "text": [
      "['id,name,sal\\n', '0,sara,120000\\n', '1,sara,580000\\n', '2,krish,840000\\n', '3,varun,880000\\n', '4,krish,990000\\n', '5,krish,690000\\n', '6,shreyas,650000\\n', '7,krish,100000\\n', '8,latha,950000\\n', '9,sara,530000\\n', '10,sara,470000\\n', '11,krish,280000\\n', '12,krish,890000\\n', '13,rahul,120000\\n', '14,latha,370000\\n', '15,krish,460000\\n', '16,latha,90000\\n', '17,krish,310000\\n', '18,shreyas,760000\\n', '19,krish,540000\\n', '20,sara,540000\\n', '21,latha,880000\\n', '22,krish,880000\\n', '23,sara,260000\\n', '24,krish,910000\\n', '25,varun,550000\\n', '26,shreyas,120000\\n', '27,varun,160000\\n', '28,varun,400000\\n', '29,latha,90000\\n', '30,sara,790000\\n', '31,shreyas,80000\\n', '32,varun,170000\\n', '33,shreyas,770000\\n', '34,sara,550000\\n', '35,varun,490000\\n', '36,rahul,60000\\n', '37,rahul,730000\\n', '38,sara,70000\\n', '39,sara,440000\\n', '40,sara,240000\\n', '41,sara,490000\\n', '42,rahul,900000\\n', '43,shreyas,850000\\n', '44,latha,330000\\n', '45,sara,100000\\n', '46,rahul,920000\\n', '47,latha,930000\\n', '48,varun,580000\\n', '49,shreyas,250000\\n', '50,sara,340000\\n', '51,sara,30000\\n', '52,latha,670000\\n', '53,latha,580000\\n', '54,latha,770000\\n', '55,shreyas,880000\\n', '56,rahul,910000\\n', '57,latha,80000\\n', '58,sara,360000\\n', '59,rahul,40000\\n', '60,rahul,820000\\n', '61,shreyas,340000\\n', '62,krish,60000\\n', '63,varun,130000\\n', '64,krish,560000\\n', '65,varun,440000\\n', '66,rahul,830000\\n', '67,krish,490000\\n', '68,varun,460000\\n', '69,krish,650000\\n', '70,latha,620000\\n', '71,varun,140000\\n', '72,krish,400000\\n', '73,rahul,690000\\n', '74,sara,910000\\n', '75,varun,110000\\n', '76,krish,40000\\n', '77,rahul,580000\\n', '78,latha,410000\\n', '79,varun,950000\\n', '80,sara,780000\\n', '81,rahul,380000\\n', '82,latha,220000\\n', '83,shreyas,690000\\n', '84,latha,160000\\n', '85,krish,80000\\n', '86,shreyas,420000\\n', '87,varun,800000\\n', '88,sara,600000\\n', '89,krish,700000\\n', '90,krish,210000\\n', '91,krish,960000\\n', '92,rahul,850000\\n', '93,shreyas,820000\\n', '94,varun,790000\\n', '95,varun,280000\\n', '96,sara,690000\\n', '97,varun,480000\\n', '98,latha,490000\\n', '99,rahul,300000']\n"
     ]
    }
   ],
   "source": [
    "f=open(\"data.csv\",\"r\")\n",
    "print(f.readlines())"
   ]
  },
  {
   "cell_type": "code",
   "execution_count": 30,
   "metadata": {},
   "outputs": [],
   "source": [
    "f=open(\"data.csv\",\"r\")\n",
    "data=f.read()"
   ]
  },
  {
   "cell_type": "code",
   "execution_count": 31,
   "metadata": {},
   "outputs": [],
   "source": [
    "f=open(\"fun_mem.png\",\"rb\")\n",
    "data=f.read()\n",
    "f.close()\n",
    "f=open(\"fun_mem_copy.png\",\"wb\")\n",
    "for i in range(20):\n",
    "    f.write(data)\n",
    "    f.flush()\n",
    "f.close()"
   ]
  },
  {
   "cell_type": "code",
   "execution_count": 32,
   "metadata": {},
   "outputs": [],
   "source": [
    "f=open(\"fun_mem_copy.png\",\"rb\")\n",
    "data=f.read()"
   ]
  },
  {
   "cell_type": "code",
   "execution_count": 33,
   "metadata": {},
   "outputs": [
    {
     "name": "stdout",
     "output_type": "stream",
     "text": [
      "id,name,sal\n",
      "0,sara,120000\n",
      "1,sara,580000\n",
      "2,krish,840000\n",
      "3,varun,880000\n",
      "4,krish,990000\n",
      "5,krish,690000\n",
      "6,shreyas,650000\n",
      "7,krish,100000\n",
      "8,latha,950000\n",
      "9,sara,530000\n",
      "10,sara,470000\n",
      "11,krish,280000\n",
      "12,krish,890000\n",
      "13,rahul,120000\n",
      "14,latha,370000\n",
      "15,krish,460000\n",
      "16,latha,90000\n",
      "17,krish,310000\n",
      "18,shreyas,760000\n",
      "19,krish,540000\n",
      "20,sara,540000\n",
      "21,latha,880000\n",
      "22,krish,880000\n",
      "23,sara,260000\n",
      "24,krish,910000\n",
      "25,varun,550000\n",
      "26,shreyas,120000\n",
      "27,varun,160000\n",
      "28,varun,400000\n",
      "29,latha,90000\n",
      "30,sara,790000\n",
      "31,shreyas,80000\n",
      "32,varun,170000\n",
      "33,shreyas,770000\n",
      "34,sara,550000\n",
      "35,varun,490000\n",
      "36,rahul,60000\n",
      "37,rahul,730000\n",
      "38,sara,70000\n",
      "39,sara,440000\n",
      "40,sara,240000\n",
      "41,sara,490000\n",
      "42,rahul,900000\n",
      "43,shreyas,850000\n",
      "44,latha,330000\n",
      "45,sara,100000\n",
      "46,rahul,920000\n",
      "47,latha,930000\n",
      "48,varun,580000\n",
      "49,shreyas,250000\n",
      "50,sara,340000\n",
      "51,sara,30000\n",
      "52,latha,670000\n",
      "53,latha,580000\n",
      "54,latha,770000\n",
      "55,shreyas,880000\n",
      "56,rahul,910000\n",
      "57,latha,80000\n",
      "58,sara,360000\n",
      "59,rahul,40000\n",
      "60,rahul,820000\n",
      "61,shreyas,340000\n",
      "62,krish,60000\n",
      "63,varun,130000\n",
      "64,kr\n"
     ]
    }
   ],
   "source": [
    "f=open(\"data.csv\",\"r\")\n",
    "data=f.read(1024)\n",
    "print(data)"
   ]
  },
  {
   "cell_type": "code",
   "execution_count": 34,
   "metadata": {},
   "outputs": [
    {
     "name": "stdout",
     "output_type": "stream",
     "text": [
      "b'\\x89PNG\\r\\n\\x1a\\n\\x00\\x00\\x00\\rIHDR\\x00\\x00\\x05=\\x00\\x00\\x02+\\x08\\x02\\x00\\x00\\x00\\xa2G\\xaaS\\x00\\x00\\x00\\x01sRGB\\x00\\xae\\xce\\x1c\\xe9\\x00\\x00\\x00\\x04gAMA\\x00\\x00\\xb1\\x8f\\x0b\\xfca\\x05\\x00\\x00\\x00\\tpHYs\\x00\\x00\\x0e\\xc3\\x00\\x00\\x0e\\xc3\\x01\\xc7o\\xa8d\\x00\\x00XVIDATx^\\xed\\xfd\\xadr\\xe3L\\x00'\n"
     ]
    }
   ],
   "source": [
    "f=open(\"fun_mem.png\",\"rb\")\n",
    "data=f.read(100)\n",
    "print(data)"
   ]
  },
  {
   "cell_type": "code",
   "execution_count": 35,
   "metadata": {},
   "outputs": [
    {
     "name": "stdout",
     "output_type": "stream",
     "text": [
      "id,name,sal\n",
      "0,sara,120000\n",
      "1,sara,580000\n",
      "2,krish,840000\n",
      "3,varun,880000\n",
      "4,krish,990000\n",
      "5,krish,690000\n",
      "\n"
     ]
    }
   ],
   "source": [
    "f=open(\"data.csv\",\"r\")\n",
    "data=f.read(100)\n",
    "print(data)"
   ]
  },
  {
   "cell_type": "code",
   "execution_count": 36,
   "metadata": {},
   "outputs": [
    {
     "name": "stdout",
     "output_type": "stream",
     "text": [
      "6,shreyas,650000\n",
      "7,krish,100000\n",
      "8,latha,950000\n",
      "9,sara,530000\n",
      "10,sara,470000\n",
      "11,krish,280000\n",
      "12,krish\n"
     ]
    }
   ],
   "source": [
    "data=f.read(100)\n",
    "print(data)"
   ]
  },
  {
   "cell_type": "code",
   "execution_count": 37,
   "metadata": {},
   "outputs": [
    {
     "name": "stdout",
     "output_type": "stream",
     "text": [
      "\n"
     ]
    }
   ],
   "source": [
    "f=open(\"data.csv\",\"r\")\n",
    "data=f.read()\n",
    "data1=f.read()\n",
    "print(data1)"
   ]
  },
  {
   "cell_type": "code",
   "execution_count": 38,
   "metadata": {},
   "outputs": [
    {
     "name": "stdout",
     "output_type": "stream",
     "text": [
      "0\n",
      "1694\n",
      "\n"
     ]
    }
   ],
   "source": [
    "f=open(\"data.csv\",\"r\")\n",
    "print(f.tell())\n",
    "data=f.read()\n",
    "print(f.tell())\n",
    "data1=f.read()\n",
    "print(data1)"
   ]
  },
  {
   "cell_type": "code",
   "execution_count": 39,
   "metadata": {},
   "outputs": [
    {
     "name": "stdout",
     "output_type": "stream",
     "text": [
      "id,name,sal\n",
      "0,sara,120000\n",
      "1,sara,580000\n",
      "2,krish,840000\n",
      "3,varun,880000\n",
      "4,krish,990000\n",
      "5,krish,690000\n",
      "\n",
      "6,shreyas,650000\n",
      "7,krish,100000\n",
      "8,latha,950000\n",
      "9,sara,530000\n",
      "10,sara,470000\n",
      "11,krish,280000\n",
      "12,krish\n",
      ",890000\n",
      "13,rahul,120000\n",
      "14,latha,370000\n",
      "15,krish,460000\n",
      "16,latha,90000\n",
      "17,krish,310000\n",
      "18,shreyas,76\n",
      "0000\n",
      "19,krish,540000\n",
      "20,sara,540000\n",
      "21,latha,880000\n",
      "22,krish,880000\n",
      "23,sara,260000\n",
      "24,krish,910000\n",
      "2\n",
      "5,varun,550000\n",
      "26,shreyas,120000\n",
      "27,varun,160000\n",
      "28,varun,400000\n",
      "29,latha,90000\n",
      "30,sara,790000\n",
      "31,sh\n",
      "reyas,80000\n",
      "32,varun,170000\n",
      "33,shreyas,770000\n",
      "34,sara,550000\n",
      "35,varun,490000\n",
      "36,rahul,60000\n",
      "37,rahul\n",
      ",730000\n",
      "38,sara,70000\n",
      "39,sara,440000\n",
      "40,sara,240000\n",
      "41,sara,490000\n",
      "42,rahul,900000\n",
      "43,shreyas,850000\n",
      "\n",
      "44,latha,330000\n",
      "45,sara,100000\n",
      "46,rahul,920000\n",
      "47,latha,930000\n",
      "48,varun,580000\n",
      "49,shreyas,250000\n",
      "50\n",
      ",sara,340000\n",
      "51,sara,30000\n",
      "52,latha,670000\n",
      "53,latha,580000\n",
      "54,latha,770000\n",
      "55,shreyas,880000\n",
      "56,rahu\n",
      "l,910000\n",
      "57,latha,80000\n",
      "58,sara,360000\n",
      "59,rahul,40000\n",
      "60,rahul,820000\n",
      "61,shreyas,340000\n",
      "62,krish,600\n",
      "00\n",
      "63,varun,130000\n",
      "64,krish,560000\n",
      "65,varun,440000\n",
      "66,rahul,830000\n",
      "67,krish,490000\n",
      "68,varun,460000\n",
      "6\n",
      "9,krish,650000\n",
      "70,latha,620000\n",
      "71,varun,140000\n",
      "72,krish,400000\n",
      "73,rahul,690000\n",
      "74,sara,910000\n",
      "75,var\n",
      "un,110000\n",
      "76,krish,40000\n",
      "77,rahul,580000\n",
      "78,latha,410000\n",
      "79,varun,950000\n",
      "80,sara,780000\n",
      "81,rahul,380\n",
      "000\n",
      "82,latha,220000\n",
      "83,shreyas,690000\n",
      "84,latha,160000\n",
      "85,krish,80000\n",
      "86,shreyas,420000\n",
      "87,varun,8000\n",
      "00\n",
      "88,sara,600000\n",
      "89,krish,700000\n",
      "90,krish,210000\n",
      "91,krish,960000\n",
      "92,rahul,850000\n",
      "93,shreyas,820000\n",
      "\n",
      "94,varun,790000\n",
      "95,varun,280000\n",
      "96,sara,690000\n",
      "97,varun,480000\n",
      "98,latha,490000\n",
      "99,rahul,300000\n",
      "done with file read\n"
     ]
    }
   ],
   "source": [
    "f=open(\"data.csv\",\"r\")\n",
    "while True:\n",
    "    data=f.read(100)\n",
    "    if data:\n",
    "        print(data)\n",
    "    else:\n",
    "        break\n",
    "print(\"done with file read\")\n"
   ]
  },
  {
   "cell_type": "code",
   "execution_count": 40,
   "metadata": {},
   "outputs": [
    {
     "name": "stdout",
     "output_type": "stream",
     "text": [
      "id,name,sal\n",
      "\n",
      "0,sara,120000\n",
      "\n",
      "1,sara,580000\n",
      "\n",
      "2,krish,840000\n",
      "\n",
      "3,varun,880000\n",
      "\n",
      "4,krish,990000\n",
      "\n",
      "5,krish,690000\n",
      "\n",
      "6,shreyas,650000\n",
      "\n",
      "7,krish,100000\n",
      "\n",
      "8,latha,950000\n",
      "\n",
      "9,sara,530000\n",
      "\n",
      "10,sara,470000\n",
      "\n",
      "11,krish,280000\n",
      "\n",
      "12,krish,890000\n",
      "\n",
      "13,rahul,120000\n",
      "\n",
      "14,latha,370000\n",
      "\n",
      "15,krish,460000\n",
      "\n",
      "16,latha,90000\n",
      "\n",
      "17,krish,310000\n",
      "\n",
      "18,shreyas,760000\n",
      "\n",
      "19,krish,540000\n",
      "\n",
      "20,sara,540000\n",
      "\n",
      "21,latha,880000\n",
      "\n",
      "22,krish,880000\n",
      "\n",
      "23,sara,260000\n",
      "\n",
      "24,krish,910000\n",
      "\n",
      "25,varun,550000\n",
      "\n",
      "26,shreyas,120000\n",
      "\n",
      "27,varun,160000\n",
      "\n",
      "28,varun,400000\n",
      "\n",
      "29,latha,90000\n",
      "\n",
      "30,sara,790000\n",
      "\n",
      "31,shreyas,80000\n",
      "\n",
      "32,varun,170000\n",
      "\n",
      "33,shreyas,770000\n",
      "\n",
      "34,sara,550000\n",
      "\n",
      "35,varun,490000\n",
      "\n",
      "36,rahul,60000\n",
      "\n",
      "37,rahul,730000\n",
      "\n",
      "38,sara,70000\n",
      "\n",
      "39,sara,440000\n",
      "\n",
      "40,sara,240000\n",
      "\n",
      "41,sara,490000\n",
      "\n",
      "42,rahul,900000\n",
      "\n",
      "43,shreyas,850000\n",
      "\n",
      "44,latha,330000\n",
      "\n",
      "45,sara,100000\n",
      "\n",
      "46,rahul,920000\n",
      "\n",
      "47,latha,930000\n",
      "\n",
      "48,varun,580000\n",
      "\n",
      "49,shreyas,250000\n",
      "\n",
      "50,sara,340000\n",
      "\n",
      "51,sara,30000\n",
      "\n",
      "52,latha,670000\n",
      "\n",
      "53,latha,580000\n",
      "\n",
      "54,latha,770000\n",
      "\n",
      "55,shreyas,880000\n",
      "\n",
      "56,rahul,910000\n",
      "\n",
      "57,latha,80000\n",
      "\n",
      "58,sara,360000\n",
      "\n",
      "59,rahul,40000\n",
      "\n",
      "60,rahul,820000\n",
      "\n",
      "61,shreyas,340000\n",
      "\n",
      "62,krish,60000\n",
      "\n",
      "63,varun,130000\n",
      "\n",
      "64,krish,560000\n",
      "\n",
      "65,varun,440000\n",
      "\n",
      "66,rahul,830000\n",
      "\n",
      "67,krish,490000\n",
      "\n",
      "68,varun,460000\n",
      "\n",
      "69,krish,650000\n",
      "\n",
      "70,latha,620000\n",
      "\n",
      "71,varun,140000\n",
      "\n",
      "72,krish,400000\n",
      "\n",
      "73,rahul,690000\n",
      "\n",
      "74,sara,910000\n",
      "\n",
      "75,varun,110000\n",
      "\n",
      "76,krish,40000\n",
      "\n",
      "77,rahul,580000\n",
      "\n",
      "78,latha,410000\n",
      "\n",
      "79,varun,950000\n",
      "\n",
      "80,sara,780000\n",
      "\n",
      "81,rahul,380000\n",
      "\n",
      "82,latha,220000\n",
      "\n",
      "83,shreyas,690000\n",
      "\n",
      "84,latha,160000\n",
      "\n",
      "85,krish,80000\n",
      "\n",
      "86,shreyas,420000\n",
      "\n",
      "87,varun,800000\n",
      "\n",
      "88,sara,600000\n",
      "\n",
      "89,krish,700000\n",
      "\n",
      "90,krish,210000\n",
      "\n",
      "91,krish,960000\n",
      "\n",
      "92,rahul,850000\n",
      "\n",
      "93,shreyas,820000\n",
      "\n",
      "94,varun,790000\n",
      "\n",
      "95,varun,280000\n",
      "\n",
      "96,sara,690000\n",
      "\n",
      "97,varun,480000\n",
      "\n",
      "98,latha,490000\n",
      "\n",
      "99,rahul,300000\n",
      "\n"
     ]
    }
   ],
   "source": [
    "f=open(\"data.csv\",\"r\")\n",
    "while True:\n",
    "    l=f.readline()\n",
    "    print(l)\n",
    "    if not l:\n",
    "        break"
   ]
  },
  {
   "cell_type": "code",
   "execution_count": 41,
   "metadata": {},
   "outputs": [
    {
     "name": "stdout",
     "output_type": "stream",
     "text": [
      "id,name,sal\n",
      "\n",
      "0,sara,120000\n",
      "\n",
      "1,sara,580000\n",
      "\n",
      "2,krish,840000\n",
      "\n",
      "3,varun,880000\n",
      "\n",
      "4,krish,990000\n",
      "\n",
      "5,krish,690000\n",
      "\n",
      "6,shreyas,650000\n",
      "\n",
      "7,krish,100000\n",
      "\n",
      "8,latha,950000\n",
      "\n",
      "9,sara,530000\n",
      "\n",
      "10,sara,470000\n",
      "\n",
      "11,krish,280000\n",
      "\n",
      "12,krish,890000\n",
      "\n",
      "13,rahul,120000\n",
      "\n",
      "14,latha,370000\n",
      "\n",
      "15,krish,460000\n",
      "\n",
      "16,latha,90000\n",
      "\n",
      "17,krish,310000\n",
      "\n",
      "18,shreyas,760000\n",
      "\n",
      "19,krish,540000\n",
      "\n",
      "20,sara,540000\n",
      "\n",
      "21,latha,880000\n",
      "\n",
      "22,krish,880000\n",
      "\n",
      "23,sara,260000\n",
      "\n",
      "24,krish,910000\n",
      "\n",
      "25,varun,550000\n",
      "\n",
      "26,shreyas,120000\n",
      "\n",
      "27,varun,160000\n",
      "\n",
      "28,varun,400000\n",
      "\n",
      "29,latha,90000\n",
      "\n",
      "30,sara,790000\n",
      "\n",
      "31,shreyas,80000\n",
      "\n",
      "32,varun,170000\n",
      "\n",
      "33,shreyas,770000\n",
      "\n",
      "34,sara,550000\n",
      "\n",
      "35,varun,490000\n",
      "\n",
      "36,rahul,60000\n",
      "\n",
      "37,rahul,730000\n",
      "\n",
      "38,sara,70000\n",
      "\n",
      "39,sara,440000\n",
      "\n",
      "40,sara,240000\n",
      "\n",
      "41,sara,490000\n",
      "\n",
      "42,rahul,900000\n",
      "\n",
      "43,shreyas,850000\n",
      "\n",
      "44,latha,330000\n",
      "\n",
      "45,sara,100000\n",
      "\n",
      "46,rahul,920000\n",
      "\n",
      "47,latha,930000\n",
      "\n",
      "48,varun,580000\n",
      "\n",
      "49,shreyas,250000\n",
      "\n",
      "50,sara,340000\n",
      "\n",
      "51,sara,30000\n",
      "\n",
      "52,latha,670000\n",
      "\n",
      "53,latha,580000\n",
      "\n",
      "54,latha,770000\n",
      "\n",
      "55,shreyas,880000\n",
      "\n",
      "56,rahul,910000\n",
      "\n",
      "57,latha,80000\n",
      "\n",
      "58,sara,360000\n",
      "\n",
      "59,rahul,40000\n",
      "\n",
      "60,rahul,820000\n",
      "\n",
      "61,shreyas,340000\n",
      "\n",
      "62,krish,60000\n",
      "\n",
      "63,varun,130000\n",
      "\n",
      "64,krish,560000\n",
      "\n",
      "65,varun,440000\n",
      "\n",
      "66,rahul,830000\n",
      "\n",
      "67,krish,490000\n",
      "\n",
      "68,varun,460000\n",
      "\n",
      "69,krish,650000\n",
      "\n",
      "70,latha,620000\n",
      "\n",
      "71,varun,140000\n",
      "\n",
      "72,krish,400000\n",
      "\n",
      "73,rahul,690000\n",
      "\n",
      "74,sara,910000\n",
      "\n",
      "75,varun,110000\n",
      "\n",
      "76,krish,40000\n",
      "\n",
      "77,rahul,580000\n",
      "\n",
      "78,latha,410000\n",
      "\n",
      "79,varun,950000\n",
      "\n",
      "80,sara,780000\n",
      "\n",
      "81,rahul,380000\n",
      "\n",
      "82,latha,220000\n",
      "\n",
      "83,shreyas,690000\n",
      "\n",
      "84,latha,160000\n",
      "\n",
      "85,krish,80000\n",
      "\n",
      "86,shreyas,420000\n",
      "\n",
      "87,varun,800000\n",
      "\n",
      "88,sara,600000\n",
      "\n",
      "89,krish,700000\n",
      "\n",
      "90,krish,210000\n",
      "\n",
      "91,krish,960000\n",
      "\n",
      "92,rahul,850000\n",
      "\n",
      "93,shreyas,820000\n",
      "\n",
      "94,varun,790000\n",
      "\n",
      "95,varun,280000\n",
      "\n",
      "96,sara,690000\n",
      "\n",
      "97,varun,480000\n",
      "\n",
      "98,latha,490000\n",
      "\n",
      "99,rahul,300000\n"
     ]
    }
   ],
   "source": [
    "f=open(\"data.csv\",\"r\")\n",
    "for i in f:\n",
    "    print(i)"
   ]
  },
  {
   "cell_type": "code",
   "execution_count": 42,
   "metadata": {},
   "outputs": [
    {
     "name": "stdout",
     "output_type": "stream",
     "text": [
      "0\n",
      "1694\n",
      "\n"
     ]
    }
   ],
   "source": [
    "f=open(\"data.csv\",\"r\")\n",
    "print(f.tell())\n",
    "data=f.read()\n",
    "print(f.tell())\n",
    "\n",
    "data1=f.read()\n",
    "print(data1)"
   ]
  },
  {
   "cell_type": "code",
   "execution_count": 43,
   "metadata": {},
   "outputs": [
    {
     "name": "stdout",
     "output_type": "stream",
     "text": [
      "0\n",
      "1694\n",
      "100\n",
      "90000\n",
      "6,shreyas,650000\n",
      "7,krish,100000\n",
      "8,latha,950000\n",
      "9,sara,530000\n",
      "10,sara,470000\n",
      "11,krish,280000\n",
      "12,krish,890000\n",
      "13,rahul,120000\n",
      "14,latha,370000\n",
      "15,krish,460000\n",
      "16,latha,90000\n",
      "17,krish,310000\n",
      "18,shreyas,760000\n",
      "19,krish,540000\n",
      "20,sara,540000\n",
      "21,latha,880000\n",
      "22,krish,880000\n",
      "23,sara,260000\n",
      "24,krish,910000\n",
      "25,varun,550000\n",
      "26,shreyas,120000\n",
      "27,varun,160000\n",
      "28,varun,400000\n",
      "29,latha,90000\n",
      "30,sara,790000\n",
      "31,shreyas,80000\n",
      "32,varun,170000\n",
      "33,shreyas,770000\n",
      "34,sara,550000\n",
      "35,varun,490000\n",
      "36,rahul,60000\n",
      "37,rahul,730000\n",
      "38,sara,70000\n",
      "39,sara,440000\n",
      "40,sara,240000\n",
      "41,sara,490000\n",
      "42,rahul,900000\n",
      "43,shreyas,850000\n",
      "44,latha,330000\n",
      "45,sara,100000\n",
      "46,rahul,920000\n",
      "47,latha,930000\n",
      "48,varun,580000\n",
      "49,shreyas,250000\n",
      "50,sara,340000\n",
      "51,sara,30000\n",
      "52,latha,670000\n",
      "53,latha,580000\n",
      "54,latha,770000\n",
      "55,shreyas,880000\n",
      "56,rahul,910000\n",
      "57,latha,80000\n",
      "58,sara,360000\n",
      "59,rahul,40000\n",
      "60,rahul,820000\n",
      "61,shreyas,340000\n",
      "62,krish,60000\n",
      "63,varun,130000\n",
      "64,krish,560000\n",
      "65,varun,440000\n",
      "66,rahul,830000\n",
      "67,krish,490000\n",
      "68,varun,460000\n",
      "69,krish,650000\n",
      "70,latha,620000\n",
      "71,varun,140000\n",
      "72,krish,400000\n",
      "73,rahul,690000\n",
      "74,sara,910000\n",
      "75,varun,110000\n",
      "76,krish,40000\n",
      "77,rahul,580000\n",
      "78,latha,410000\n",
      "79,varun,950000\n",
      "80,sara,780000\n",
      "81,rahul,380000\n",
      "82,latha,220000\n",
      "83,shreyas,690000\n",
      "84,latha,160000\n",
      "85,krish,80000\n",
      "86,shreyas,420000\n",
      "87,varun,800000\n",
      "88,sara,600000\n",
      "89,krish,700000\n",
      "90,krish,210000\n",
      "91,krish,960000\n",
      "92,rahul,850000\n",
      "93,shreyas,820000\n",
      "94,varun,790000\n",
      "95,varun,280000\n",
      "96,sara,690000\n",
      "97,varun,480000\n",
      "98,latha,490000\n",
      "99,rahul,300000\n"
     ]
    }
   ],
   "source": [
    "f=open(\"data.csv\",\"r\")\n",
    "print(f.tell())\n",
    "data=f.read()\n",
    "print(f.tell())\n",
    "f.seek(100)\n",
    "print(f.tell())\n",
    "data1=f.read()\n",
    "print(data1)"
   ]
  },
  {
   "cell_type": "code",
   "execution_count": 1,
   "metadata": {},
   "outputs": [],
   "source": [
    "config_details = [{\"hostname\":\"www.localhost.com\",\"database\":\"db1\",\"db_user\":\"databaseuser\",\"app_user\":\"user1\"}]\n",
    "import json"
   ]
  },
  {
   "cell_type": "code",
   "execution_count": 5,
   "metadata": {},
   "outputs": [],
   "source": [
    "f=open(\"config.json\",\"w\")\n",
    "config_details = [{\"hostname\":\"www.localhost.com\",\"database\":\"db1\",\"db_user\":\"databaseuser\",\"app_user\":\"user1\"}]\n",
    "import json\n",
    "json.dump(config_details,f)\n",
    "f.close()"
   ]
  },
  {
   "cell_type": "code",
   "execution_count": 13,
   "metadata": {},
   "outputs": [
    {
     "name": "stdout",
     "output_type": "stream",
     "text": [
      "[{\"hostname\": \"www.localhost.com\", \"database\": \"db1\", \"db_user\": \"databaseuser\", \"app_user\": \"user1\"}]\n"
     ]
    }
   ],
   "source": [
    "import json\n",
    "f=open(\"config.json\")\n",
    "data=f.read()\n",
    "print(data)"
   ]
  },
  {
   "cell_type": "code",
   "execution_count": 14,
   "metadata": {},
   "outputs": [
    {
     "data": {
      "text/plain": [
       "str"
      ]
     },
     "execution_count": 14,
     "metadata": {},
     "output_type": "execute_result"
    }
   ],
   "source": [
    "type(data)"
   ]
  },
  {
   "cell_type": "code",
   "execution_count": 15,
   "metadata": {},
   "outputs": [
    {
     "name": "stdout",
     "output_type": "stream",
     "text": [
      "[{'hostname': 'www.localhost.com', 'database': 'db1', 'db_user': 'databaseuser', 'app_user': 'user1'}]\n",
      "<class 'list'>\n"
     ]
    }
   ],
   "source": [
    "import json\n",
    "f=open(\"config.json\")\n",
    "data=json.load(f)\n",
    "print(data)\n",
    "print(type(data))"
   ]
  },
  {
   "cell_type": "code",
   "execution_count": 19,
   "metadata": {},
   "outputs": [],
   "source": [
    "config_details = [{\"hostname\":\"www.localhost.com\",\"database\":\"db1\",\"db_user\":\"databaseuser\",\"app_user\":\"user1\"}]\n",
    "import yaml\n",
    "f=open(\"config.yaml\",\"w\")\n",
    "yaml.dump(config_details,f)\n",
    "f.close()"
   ]
  },
  {
   "cell_type": "code",
   "execution_count": 20,
   "metadata": {},
   "outputs": [
    {
     "name": "stdout",
     "output_type": "stream",
     "text": [
      "[{'app_user': 'user1', 'database': 'db1', 'db_user': 'databaseuser', 'hostname': 'www.localhost.com'}]\n",
      "<class 'list'>\n"
     ]
    }
   ],
   "source": [
    "f=open(\"config.yaml\")\n",
    "data=yaml.load(f)\n",
    "print(data)\n",
    "print(type(data))"
   ]
  },
  {
   "cell_type": "code",
   "execution_count": 21,
   "metadata": {},
   "outputs": [
    {
     "ename": "TypeError",
     "evalue": "write() argument must be str, not list",
     "output_type": "error",
     "traceback": [
      "\u001b[1;31m---------------------------------------------------------------------------\u001b[0m",
      "\u001b[1;31mTypeError\u001b[0m                                 Traceback (most recent call last)",
      "\u001b[1;32m<ipython-input-21-7f09370953bd>\u001b[0m in \u001b[0;36m<module>\u001b[1;34m()\u001b[0m\n\u001b[0;32m      1\u001b[0m \u001b[0mdata\u001b[0m \u001b[1;33m=\u001b[0m \u001b[1;33m[\u001b[0m\u001b[1;33m{\u001b[0m\u001b[1;34m\"hostname\"\u001b[0m\u001b[1;33m:\u001b[0m\u001b[1;34m\"www.localhost.com\"\u001b[0m\u001b[1;33m,\u001b[0m\u001b[1;34m\"database\"\u001b[0m\u001b[1;33m:\u001b[0m\u001b[1;34m\"db1\"\u001b[0m\u001b[1;33m,\u001b[0m\u001b[1;34m\"db_user\"\u001b[0m\u001b[1;33m:\u001b[0m\u001b[1;34m\"databaseuser\"\u001b[0m\u001b[1;33m,\u001b[0m\u001b[1;34m\"app_user\"\u001b[0m\u001b[1;33m:\u001b[0m\u001b[1;34m\"user1\"\u001b[0m\u001b[1;33m}\u001b[0m\u001b[1;33m]\u001b[0m\u001b[1;33m\u001b[0m\u001b[0m\n\u001b[0;32m      2\u001b[0m \u001b[0mf\u001b[0m\u001b[1;33m=\u001b[0m\u001b[0mopen\u001b[0m\u001b[1;33m(\u001b[0m\u001b[1;34m\"data.txt\"\u001b[0m\u001b[1;33m,\u001b[0m\u001b[1;34m\"w\"\u001b[0m\u001b[1;33m)\u001b[0m\u001b[1;33m\u001b[0m\u001b[0m\n\u001b[1;32m----> 3\u001b[1;33m \u001b[0mf\u001b[0m\u001b[1;33m.\u001b[0m\u001b[0mwrite\u001b[0m\u001b[1;33m(\u001b[0m\u001b[0mdata\u001b[0m\u001b[1;33m)\u001b[0m\u001b[1;33m\u001b[0m\u001b[0m\n\u001b[0m\u001b[0;32m      4\u001b[0m \u001b[0mf\u001b[0m\u001b[1;33m.\u001b[0m\u001b[0mclose\u001b[0m\u001b[1;33m(\u001b[0m\u001b[1;33m)\u001b[0m\u001b[1;33m\u001b[0m\u001b[0m\n",
      "\u001b[1;31mTypeError\u001b[0m: write() argument must be str, not list"
     ]
    }
   ],
   "source": [
    "data = [{\"hostname\":\"www.localhost.com\",\"database\":\"db1\",\"db_user\":\"databaseuser\",\"app_user\":\"user1\"}]\n",
    "f=open(\"data.txt\",\"w\")\n",
    "f.write(data)\n",
    "f.close()"
   ]
  },
  {
   "cell_type": "code",
   "execution_count": 22,
   "metadata": {},
   "outputs": [
    {
     "ename": "TypeError",
     "evalue": "write() argument must be str, not dict",
     "output_type": "error",
     "traceback": [
      "\u001b[1;31m---------------------------------------------------------------------------\u001b[0m",
      "\u001b[1;31mTypeError\u001b[0m                                 Traceback (most recent call last)",
      "\u001b[1;32m<ipython-input-22-0c133972a0f9>\u001b[0m in \u001b[0;36m<module>\u001b[1;34m()\u001b[0m\n\u001b[0;32m      1\u001b[0m \u001b[0mdata\u001b[0m \u001b[1;33m=\u001b[0m \u001b[1;33m[\u001b[0m\u001b[1;33m{\u001b[0m\u001b[1;34m\"hostname\"\u001b[0m\u001b[1;33m:\u001b[0m\u001b[1;34m\"www.localhost.com\"\u001b[0m\u001b[1;33m,\u001b[0m\u001b[1;34m\"database\"\u001b[0m\u001b[1;33m:\u001b[0m\u001b[1;34m\"db1\"\u001b[0m\u001b[1;33m,\u001b[0m\u001b[1;34m\"db_user\"\u001b[0m\u001b[1;33m:\u001b[0m\u001b[1;34m\"databaseuser\"\u001b[0m\u001b[1;33m,\u001b[0m\u001b[1;34m\"app_user\"\u001b[0m\u001b[1;33m:\u001b[0m\u001b[1;34m\"user1\"\u001b[0m\u001b[1;33m}\u001b[0m\u001b[1;33m]\u001b[0m\u001b[1;33m\u001b[0m\u001b[0m\n\u001b[0;32m      2\u001b[0m \u001b[0mf\u001b[0m\u001b[1;33m=\u001b[0m\u001b[0mopen\u001b[0m\u001b[1;33m(\u001b[0m\u001b[1;34m\"data.txt\"\u001b[0m\u001b[1;33m,\u001b[0m\u001b[1;34m\"w\"\u001b[0m\u001b[1;33m)\u001b[0m\u001b[1;33m\u001b[0m\u001b[0m\n\u001b[1;32m----> 3\u001b[1;33m \u001b[0mf\u001b[0m\u001b[1;33m.\u001b[0m\u001b[0mwritelines\u001b[0m\u001b[1;33m(\u001b[0m\u001b[0mdata\u001b[0m\u001b[1;33m)\u001b[0m\u001b[1;33m\u001b[0m\u001b[0m\n\u001b[0m\u001b[0;32m      4\u001b[0m \u001b[0mf\u001b[0m\u001b[1;33m.\u001b[0m\u001b[0mclose\u001b[0m\u001b[1;33m(\u001b[0m\u001b[1;33m)\u001b[0m\u001b[1;33m\u001b[0m\u001b[0m\n",
      "\u001b[1;31mTypeError\u001b[0m: write() argument must be str, not dict"
     ]
    }
   ],
   "source": [
    "data = [{\"hostname\":\"www.localhost.com\",\"database\":\"db1\",\"db_user\":\"databaseuser\",\"app_user\":\"user1\"}]\n",
    "f=open(\"data.txt\",\"w\")\n",
    "f.writelines(data)\n",
    "f.close()"
   ]
  },
  {
   "cell_type": "code",
   "execution_count": 23,
   "metadata": {},
   "outputs": [],
   "source": [
    "data = [{\"hostname\":\"www.localhost.com\",\"database\":\"db1\",\"db_user\":\"databaseuser\",\"app_user\":\"user1\"}]\n",
    "f=open(\"data.txt\",\"w\")\n",
    "f.writelines(str(data))\n",
    "f.close()"
   ]
  },
  {
   "cell_type": "code",
   "execution_count": 24,
   "metadata": {},
   "outputs": [
    {
     "name": "stdout",
     "output_type": "stream",
     "text": [
      "[{'hostname': 'www.localhost.com', 'database': 'db1', 'db_user': 'databaseuser', 'app_user': 'user1'}] <class 'str'>\n"
     ]
    }
   ],
   "source": [
    "f=open(\"data.txt\")\n",
    "data=f.read()\n",
    "print(data,type(data))"
   ]
  },
  {
   "cell_type": "code",
   "execution_count": 25,
   "metadata": {},
   "outputs": [],
   "source": [
    "#pickling\n",
    "data = [{\"hostname\":\"www.localhost.com\",\"database\":\"db1\",\"db_user\":\"databaseuser\",\"app_user\":\"user1\"}]\n",
    "import pickle\n",
    "f=open(\"data.txt\",\"wb\")\n",
    "pickle.dump(data,f)\n",
    "f.close()"
   ]
  },
  {
   "cell_type": "code",
   "execution_count": 26,
   "metadata": {},
   "outputs": [
    {
     "name": "stdout",
     "output_type": "stream",
     "text": [
      "€\u0003]q\u0000}q\u0001(X\b\u0000\u0000\u0000hostnameq\u0002X\u0011\u0000\u0000\u0000www.localhost.comq\u0003X\b\u0000\u0000\u0000databaseq\u0004X\u0003\u0000\u0000\u0000db1q\u0005X\u0007\u0000\u0000\u0000db_userq\u0006X\f",
      "\u0000\u0000\u0000databaseuserq\u0007X\b\u0000\u0000\u0000app_userq\bX\u0005\u0000\u0000\u0000user1q\tua.\n"
     ]
    }
   ],
   "source": [
    "f=open(\"data.txt\")\n",
    "data=f.read()\n",
    "print(data)"
   ]
  },
  {
   "cell_type": "code",
   "execution_count": 28,
   "metadata": {},
   "outputs": [
    {
     "name": "stdout",
     "output_type": "stream",
     "text": [
      "[{'hostname': 'www.localhost.com', 'database': 'db1', 'db_user': 'databaseuser', 'app_user': 'user1'}]\n",
      "<class 'list'>\n"
     ]
    }
   ],
   "source": [
    "f=open(\"data.txt\",\"rb\")\n",
    "import pickle\n",
    "data = pickle.load(f)\n",
    "print(data)\n",
    "print(type(data))"
   ]
  },
  {
   "cell_type": "code",
   "execution_count": 1,
   "metadata": {},
   "outputs": [
    {
     "name": "stdout",
     "output_type": "stream",
     "text": [
      "id,name,sal\n",
      "0,sara,120000\n",
      "1,sara,580000\n",
      "2,krish,840000\n",
      "3,varun,880000\n",
      "4,krish,990000\n",
      "5,krish,690000\n",
      "6,shreyas,650000\n",
      "7,krish,100000\n",
      "8,latha,950000\n",
      "9,sara,530000\n",
      "10,sara,470000\n",
      "11,krish,280000\n",
      "12,krish,890000\n",
      "13,rahul,120000\n",
      "14,latha,370000\n",
      "15,krish,460000\n",
      "16,latha,90000\n",
      "17,krish,310000\n",
      "18,shreyas,760000\n",
      "19,krish,540000\n",
      "20,sara,540000\n",
      "21,latha,880000\n",
      "22,krish,880000\n",
      "23,sara,260000\n",
      "24,krish,910000\n",
      "25,varun,550000\n",
      "26,shreyas,120000\n",
      "27,varun,160000\n",
      "28,varun,400000\n",
      "29,latha,90000\n",
      "30,sara,790000\n",
      "31,shreyas,80000\n",
      "32,varun,170000\n",
      "33,shreyas,770000\n",
      "34,sara,550000\n",
      "35,varun,490000\n",
      "36,rahul,60000\n",
      "37,rahul,730000\n",
      "38,sara,70000\n",
      "39,sara,440000\n",
      "40,sara,240000\n",
      "41,sara,490000\n",
      "42,rahul,900000\n",
      "43,shreyas,850000\n",
      "44,latha,330000\n",
      "45,sara,100000\n",
      "46,rahul,920000\n",
      "47,latha,930000\n",
      "48,varun,580000\n",
      "49,shreyas,250000\n",
      "50,sara,340000\n",
      "51,sara,30000\n",
      "52,latha,670000\n",
      "53,latha,580000\n",
      "54,latha,770000\n",
      "55,shreyas,880000\n",
      "56,rahul,910000\n",
      "57,latha,80000\n",
      "58,sara,360000\n",
      "59,rahul,40000\n",
      "60,rahul,820000\n",
      "61,shreyas,340000\n",
      "62,krish,60000\n",
      "63,varun,130000\n",
      "64,krish,560000\n",
      "65,varun,440000\n",
      "66,rahul,830000\n",
      "67,krish,490000\n",
      "68,varun,460000\n",
      "69,krish,650000\n",
      "70,latha,620000\n",
      "71,varun,140000\n",
      "72,krish,400000\n",
      "73,rahul,690000\n",
      "74,sara,910000\n",
      "75,varun,110000\n",
      "76,krish,40000\n",
      "77,rahul,580000\n",
      "78,latha,410000\n",
      "79,varun,950000\n",
      "80,sara,780000\n",
      "81,rahul,380000\n",
      "82,latha,220000\n",
      "83,shreyas,690000\n",
      "84,latha,160000\n",
      "85,krish,80000\n",
      "86,shreyas,420000\n",
      "87,varun,800000\n",
      "88,sara,600000\n",
      "89,krish,700000\n",
      "90,krish,210000\n",
      "91,krish,960000\n",
      "92,rahul,850000\n",
      "93,shreyas,820000\n",
      "94,varun,790000\n",
      "95,varun,280000\n",
      "96,sara,690000\n",
      "97,varun,480000\n",
      "98,latha,490000\n",
      "99,rahul,300000\n"
     ]
    }
   ],
   "source": [
    "f=open(\"data.csv\")\n",
    "data=f.read()\n",
    "def fun(data):\n",
    "    print(data)\n",
    "fun(data)"
   ]
  },
  {
   "cell_type": "code",
   "execution_count": null,
   "metadata": {},
   "outputs": [],
   "source": []
  }
 ],
 "metadata": {
  "kernelspec": {
   "display_name": "Python 3",
   "language": "python",
   "name": "python3"
  },
  "language_info": {
   "codemirror_mode": {
    "name": "ipython",
    "version": 3
   },
   "file_extension": ".py",
   "mimetype": "text/x-python",
   "name": "python",
   "nbconvert_exporter": "python",
   "pygments_lexer": "ipython3",
   "version": "3.7.0"
  }
 },
 "nbformat": 4,
 "nbformat_minor": 2
}
