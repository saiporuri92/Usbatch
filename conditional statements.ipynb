{
 "cells": [
  {
   "cell_type": "code",
   "execution_count": 1,
   "metadata": {},
   "outputs": [
    {
     "name": "stdout",
     "output_type": "stream",
     "text": [
      "welcome\n",
      "enter an age:10\n",
      "thank you\n"
     ]
    }
   ],
   "source": [
    "print(\"welcome\")\n",
    "a=input(\"enter an age:\")\n",
    "a=int(a)\n",
    "if a<10:\n",
    "    print(\"kid\")\n",
    "if a>10 and a<20:\n",
    "    print(\"teenager\")\n",
    "if a>20 and a<40:\n",
    "    print(\"adult\")\n",
    "if a>40:\n",
    "    print(\"old\")\n",
    "print(\"thank you\")"
   ]
  },
  {
   "cell_type": "code",
   "execution_count": 2,
   "metadata": {},
   "outputs": [
    {
     "name": "stdout",
     "output_type": "stream",
     "text": [
      "welcome\n",
      "enter an age:1\n",
      "kid\n",
      "thank you\n"
     ]
    }
   ],
   "source": [
    "print(\"welcome\")\n",
    "a=input(\"enter an age:\")\n",
    "a=int(a)\n",
    "if a<10:\n",
    "    print(\"kid\")\n",
    "if a>10 and a<20:\n",
    "    print(\"teenager\")\n",
    "if a>20 and a<40:\n",
    "    print(\"adult\")\n",
    "if a>40:\n",
    "    print(\"old\")\n",
    "print(\"thank you\")"
   ]
  },
  {
   "cell_type": "code",
   "execution_count": 3,
   "metadata": {},
   "outputs": [
    {
     "name": "stdout",
     "output_type": "stream",
     "text": [
      "welcome\n",
      "enter an age:10\n",
      "kid\n",
      "thank you\n"
     ]
    }
   ],
   "source": [
    "print(\"welcome\")\n",
    "a=input(\"enter an age:\")\n",
    "a=int(a)\n",
    "if a<=10:\n",
    "    print(\"kid\")\n",
    "if a>10 and a<=20:\n",
    "    print(\"teenager\")\n",
    "if a>20 and a<=40:\n",
    "    print(\"adult\")\n",
    "if a>40:\n",
    "    print(\"old\")\n",
    "print(\"thank you\")"
   ]
  },
  {
   "cell_type": "code",
   "execution_count": 4,
   "metadata": {},
   "outputs": [
    {
     "name": "stdout",
     "output_type": "stream",
     "text": [
      "welcome\n",
      "enter an age:0\n",
      "kid\n",
      "thank you\n"
     ]
    }
   ],
   "source": [
    "print(\"welcome\")\n",
    "a=input(\"enter an age:\")\n",
    "a=int(a)\n",
    "if a<=10:\n",
    "    print(\"kid\")\n",
    "if a>10 and a<=20:\n",
    "    print(\"teenager\")\n",
    "if a>20 and a<=40:\n",
    "    print(\"adult\")\n",
    "if a>40:\n",
    "    print(\"old\")\n",
    "print(\"thank you\")"
   ]
  },
  {
   "cell_type": "code",
   "execution_count": 5,
   "metadata": {},
   "outputs": [
    {
     "name": "stdout",
     "output_type": "stream",
     "text": [
      "welcome\n",
      "enter an age:-23\n",
      "kid\n",
      "thank you\n"
     ]
    }
   ],
   "source": [
    "print(\"welcome\")\n",
    "a=input(\"enter an age:\")\n",
    "a=int(a)\n",
    "if a<=10:\n",
    "    print(\"kid\")\n",
    "if a>10 and a<=20:\n",
    "    print(\"teenager\")\n",
    "if a>20 and a<=40:\n",
    "    print(\"adult\")\n",
    "if a>40:\n",
    "    print(\"old\")\n",
    "print(\"thank you\")"
   ]
  },
  {
   "cell_type": "code",
   "execution_count": 6,
   "metadata": {},
   "outputs": [
    {
     "name": "stdout",
     "output_type": "stream",
     "text": [
      "welcome\n",
      "enter an age:-12\n",
      "invalid age\n"
     ]
    }
   ],
   "source": [
    "print(\"welcome\")\n",
    "a=input(\"enter an age:\")\n",
    "a=int(a)\n",
    "if a>0:\n",
    "    if a<=10:\n",
    "        print(\"kid\")\n",
    "    if a>10 and a<=20:\n",
    "        print(\"teenager\")\n",
    "    if a>20 and a<=40:\n",
    "        print(\"adult\")\n",
    "    if a>40:\n",
    "        print(\"old\")\n",
    "    print(\"thank you\")\n",
    "else:\n",
    "    print(\"invalid age\")"
   ]
  },
  {
   "cell_type": "code",
   "execution_count": 7,
   "metadata": {},
   "outputs": [
    {
     "name": "stdout",
     "output_type": "stream",
     "text": [
      "welcome\n",
      "enter an age:23\n",
      "adult\n",
      "thank you\n"
     ]
    }
   ],
   "source": [
    "print(\"welcome\")\n",
    "a=input(\"enter an age:\")\n",
    "a=int(a)\n",
    "if a>0:\n",
    "    if a<=10:\n",
    "        print(\"kid\")\n",
    "    elif a>10 and a<=20:\n",
    "        print(\"teenager\")\n",
    "    elif a>20 and a<=40:\n",
    "        print(\"adult\")\n",
    "    elif a>40:\n",
    "        print(\"old\")\n",
    "    print(\"thank you\")\n",
    "else:\n",
    "    print(\"invalid age\")"
   ]
  },
  {
   "cell_type": "code",
   "execution_count": 8,
   "metadata": {},
   "outputs": [
    {
     "name": "stdout",
     "output_type": "stream",
     "text": [
      "welcome\n",
      "enter an age:45\n",
      "old\n",
      "thank you\n"
     ]
    }
   ],
   "source": [
    "print(\"welcome\")\n",
    "a=input(\"enter an age:\")\n",
    "a=int(a)\n",
    "if a>0:\n",
    "    if a<=10:\n",
    "        print(\"kid\")\n",
    "    elif a>10 and a<=20:\n",
    "        print(\"teenager\")\n",
    "    elif a>20 and a<=40:\n",
    "        print(\"adult\")\n",
    "    elif a>40:\n",
    "        print(\"old\")\n",
    "    print(\"thank you\")\n",
    "else:\n",
    "    print(\"invalid age\")"
   ]
  },
  {
   "cell_type": "code",
   "execution_count": 9,
   "metadata": {},
   "outputs": [
    {
     "name": "stdout",
     "output_type": "stream",
     "text": [
      "welcome\n",
      "enter an age:15\n",
      "teenager\n",
      "thank you\n"
     ]
    }
   ],
   "source": [
    "print(\"welcome\")\n",
    "a=input(\"enter an age:\")\n",
    "a=int(a)\n",
    "if a>0:\n",
    "    if a<=10:\n",
    "        print(\"kid\")\n",
    "    elif a>10 and a<=20:\n",
    "        print(\"teenager\")\n",
    "    elif a>20 and a<=40:\n",
    "        print(\"adult\")\n",
    "    elif a>40:\n",
    "        print(\"old\")\n",
    "    print(\"thank you\")\n",
    "else:\n",
    "    print(\"invalid age\")"
   ]
  },
  {
   "cell_type": "code",
   "execution_count": 10,
   "metadata": {},
   "outputs": [
    {
     "name": "stdout",
     "output_type": "stream",
     "text": [
      "welcome\n",
      "enter an age:15\n",
      "teenager\n",
      "thank you\n"
     ]
    }
   ],
   "source": [
    "print(\"welcome\")\n",
    "a=input(\"enter an age:\")\n",
    "a=int(a)\n",
    "if a>0:\n",
    "    if a<=10:\n",
    "        print(\"kid\")\n",
    "    elif a<=20:\n",
    "        print(\"teenager\")\n",
    "    elif a<=40:\n",
    "        print(\"adult\")\n",
    "    elif a>40:\n",
    "        print(\"old\")\n",
    "    print(\"thank you\")\n",
    "else:\n",
    "    print(\"invalid age\")"
   ]
  },
  {
   "cell_type": "code",
   "execution_count": 11,
   "metadata": {},
   "outputs": [
    {
     "name": "stdout",
     "output_type": "stream",
     "text": [
      "enter a value:12\n",
      "even\n"
     ]
    }
   ],
   "source": [
    "a=float(input(\"enter a value:\"))\n",
    "if a%2==0:\n",
    "    print(\"even\")\n",
    "else:\n",
    "    print(\"odd\")"
   ]
  },
  {
   "cell_type": "code",
   "execution_count": 12,
   "metadata": {},
   "outputs": [
    {
     "name": "stdout",
     "output_type": "stream",
     "text": [
      "enter a value:33\n",
      "odd\n"
     ]
    }
   ],
   "source": [
    "a=float(input(\"enter a value:\"))\n",
    "if a%2==0:\n",
    "    print(\"even\")\n",
    "else:\n",
    "    print(\"odd\")"
   ]
  },
  {
   "cell_type": "code",
   "execution_count": 14,
   "metadata": {},
   "outputs": [
    {
     "name": "stdout",
     "output_type": "stream",
     "text": [
      "welcome\n",
      "enter a value:12\n",
      "even\n",
      "thank you!!\n"
     ]
    }
   ],
   "source": [
    "print(\"welcome\")\n",
    "a=float(input(\"enter a value:\"))\n",
    "if a%2==0:\n",
    "    print(\"even\")\n",
    "else:\n",
    "    print(\"odd\")\n",
    "print(\"thank you!!\")"
   ]
  },
  {
   "cell_type": "code",
   "execution_count": 15,
   "metadata": {},
   "outputs": [
    {
     "name": "stdout",
     "output_type": "stream",
     "text": [
      "welcome\n",
      "enter a value:12\n",
      "EVEN\n",
      "thank you!!\n"
     ]
    }
   ],
   "source": [
    "print(\"welcome\")\n",
    "a=float(input(\"enter a value:\"))\n",
    "print(\"EVEN\" if a%2==0 else \"ODD\")\n",
    "print(\"thank you!!\")"
   ]
  },
  {
   "cell_type": "code",
   "execution_count": 16,
   "metadata": {},
   "outputs": [
    {
     "name": "stdout",
     "output_type": "stream",
     "text": [
      "welcome\n",
      "enter a value:33\n",
      "ODD\n",
      "thank you!!\n"
     ]
    }
   ],
   "source": [
    "print(\"welcome\")\n",
    "a=float(input(\"enter a value:\"))\n",
    "print(\"EVEN\" if a%2==0 else \"ODD\")\n",
    "print(\"thank you!!\")"
   ]
  },
  {
   "cell_type": "code",
   "execution_count": 17,
   "metadata": {},
   "outputs": [
    {
     "name": "stdout",
     "output_type": "stream",
     "text": [
      "welcome\n",
      "enter a value:24.56\n",
      "ODD\n",
      "thank you!!\n"
     ]
    }
   ],
   "source": [
    "print(\"welcome\")\n",
    "a=float(input(\"enter a value:\"))\n",
    "print(\"EVEN\" if a%2==0 else \"ODD\")\n",
    "print(\"thank you!!\")"
   ]
  },
  {
   "cell_type": "code",
   "execution_count": null,
   "metadata": {},
   "outputs": [],
   "source": []
  }
 ],
 "metadata": {
  "kernelspec": {
   "display_name": "Python 3",
   "language": "python",
   "name": "python3"
  },
  "language_info": {
   "codemirror_mode": {
    "name": "ipython",
    "version": 3
   },
   "file_extension": ".py",
   "mimetype": "text/x-python",
   "name": "python",
   "nbconvert_exporter": "python",
   "pygments_lexer": "ipython3",
   "version": "3.7.0"
  }
 },
 "nbformat": 4,
 "nbformat_minor": 2
}
