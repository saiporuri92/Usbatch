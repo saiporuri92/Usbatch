{
 "cells": [
  {
   "cell_type": "code",
   "execution_count": 1,
   "metadata": {},
   "outputs": [],
   "source": [
    "def fun(a,b):\n",
    "    return a+b"
   ]
  },
  {
   "cell_type": "code",
   "execution_count": 2,
   "metadata": {},
   "outputs": [],
   "source": [
    "def upper(f):\n",
    "    def inner(a,b):\n",
    "        print(\"this is inner\")\n"
   ]
  },
  {
   "cell_type": "code",
   "execution_count": 3,
   "metadata": {},
   "outputs": [
    {
     "name": "stdout",
     "output_type": "stream",
     "text": [
      "res= <function fun at 0x000001BCB70419D8>\n"
     ]
    }
   ],
   "source": [
    "def fun(a,b):\n",
    "    return a+b\n",
    "res=fun\n",
    "print(\"res=\",res)"
   ]
  },
  {
   "cell_type": "code",
   "execution_count": 4,
   "metadata": {},
   "outputs": [
    {
     "name": "stdout",
     "output_type": "stream",
     "text": [
      "res= <function fun at 0x000001BCB7041A60>\n",
      "r1= 30\n"
     ]
    }
   ],
   "source": [
    "def fun(a,b):\n",
    "    return a+b\n",
    "res=fun\n",
    "print(\"res=\",res)\n",
    "r1=res(10,20)\n",
    "print(\"r1=\",r1)"
   ]
  },
  {
   "cell_type": "code",
   "execution_count": 5,
   "metadata": {},
   "outputs": [
    {
     "name": "stdout",
     "output_type": "stream",
     "text": [
      "this is upper\n",
      "res= None\n"
     ]
    }
   ],
   "source": [
    "def upper(f):\n",
    "    print(\"this is upper\")\n",
    "    def inner(a,b):\n",
    "        print(\"this is inner\")\n",
    "res=upper(10)\n",
    "print(\"res=\",res)"
   ]
  },
  {
   "cell_type": "code",
   "execution_count": 6,
   "metadata": {},
   "outputs": [
    {
     "name": "stdout",
     "output_type": "stream",
     "text": [
      "this is upper\n",
      "res= <function upper.<locals>.inner at 0x000001BCB7041EA0>\n"
     ]
    }
   ],
   "source": [
    "def upper(f):\n",
    "    print(\"this is upper\")\n",
    "    def inner(a,b):\n",
    "        print(\"this is inner\")\n",
    "    return inner\n",
    "res=upper(10)\n",
    "print(\"res=\",res)"
   ]
  },
  {
   "cell_type": "code",
   "execution_count": 7,
   "metadata": {},
   "outputs": [
    {
     "name": "stdout",
     "output_type": "stream",
     "text": [
      "this is upper\n",
      "res= <function upper.<locals>.inner at 0x000001BCB7041D90>\n",
      "this is inner\n",
      "r1= 30\n"
     ]
    }
   ],
   "source": [
    "def upper(f):\n",
    "    print(\"this is upper\")\n",
    "    def inner(a,b):\n",
    "        print(\"this is inner\")\n",
    "        return a+b\n",
    "    return inner\n",
    "res=upper(10)\n",
    "print(\"res=\",res)\n",
    "r1=res(10,20)\n",
    "print(\"r1=\",r1)"
   ]
  },
  {
   "cell_type": "code",
   "execution_count": 8,
   "metadata": {},
   "outputs": [
    {
     "name": "stdout",
     "output_type": "stream",
     "text": [
      "r1= result=150\n"
     ]
    }
   ],
   "source": [
    "def fun(x,y):\n",
    "    return x+y\n",
    "def upper(f):\n",
    "    def inner(a,b):\n",
    "        return \"result=%s\"%f(a,b)\n",
    "    return inner\n",
    "res=upper(fun)\n",
    "r1=res(100,50)\n",
    "print(\"r1=\",r1)"
   ]
  },
  {
   "cell_type": "code",
   "execution_count": 9,
   "metadata": {},
   "outputs": [
    {
     "name": "stdout",
     "output_type": "stream",
     "text": [
      "r1= result=150\n"
     ]
    }
   ],
   "source": [
    "def upper(f):\n",
    "    def inner(a,b):\n",
    "        return \"result=%s\"%f(a,b)\n",
    "    return inner\n",
    "def fun(x,y):\n",
    "    return x+y\n",
    "res=upper(fun)\n",
    "r1=res(100,50)\n",
    "print(\"r1=\",r1)"
   ]
  },
  {
   "cell_type": "code",
   "execution_count": 10,
   "metadata": {},
   "outputs": [
    {
     "name": "stdout",
     "output_type": "stream",
     "text": [
      "res= 30\n"
     ]
    }
   ],
   "source": [
    "def upper(f):\n",
    "    def inner(a,b):\n",
    "        return \"result=%s\"%f(a,b)\n",
    "    return inner\n",
    "def fun(x,y):\n",
    "    return x+y\n",
    "res=fun(10,20)\n",
    "print(\"res=\",res)"
   ]
  },
  {
   "cell_type": "code",
   "execution_count": 11,
   "metadata": {},
   "outputs": [
    {
     "name": "stdout",
     "output_type": "stream",
     "text": [
      "res= result=30\n"
     ]
    }
   ],
   "source": [
    "def upper(f): #closure\n",
    "    def inner(a,b):\n",
    "        return \"result=%s\"%f(a,b)\n",
    "    return inner\n",
    "\n",
    "@upper #decorator\n",
    "def fun(x,y):\n",
    "    return x+y\n",
    "res=fun(10,20)\n",
    "\"\"\"\n",
    "res=upper(fun)\n",
    "r1=res(100,50)\n",
    "\"\"\"\n",
    "print(\"res=\",res)"
   ]
  },
  {
   "cell_type": "code",
   "execution_count": 12,
   "metadata": {},
   "outputs": [
    {
     "name": "stdout",
     "output_type": "stream",
     "text": [
      "this is fun1\n",
      "this is fun2\n",
      "this is fun3\n"
     ]
    }
   ],
   "source": [
    "def fun1():\n",
    "    print(\"this is fun1\")\n",
    "def fun2():\n",
    "    print(\"this is fun2\")\n",
    "def fun3():\n",
    "    print(\"this is fun3\")\n",
    "fun1()\n",
    "fun2()\n",
    "fun3()"
   ]
  },
  {
   "cell_type": "code",
   "execution_count": 13,
   "metadata": {},
   "outputs": [
    {
     "name": "stdout",
     "output_type": "stream",
     "text": [
      "this is fun1\n",
      "this is fun2\n",
      "this is fun3\n"
     ]
    }
   ],
   "source": [
    "authenticated=True\n",
    "def fun1():\n",
    "    if authenticated:\n",
    "        print(\"this is fun1\")\n",
    "    else:\n",
    "        print(\"not authenticated\")\n",
    "def fun2():\n",
    "    if authenticated:\n",
    "        print(\"this is fun2\")\n",
    "    else:\n",
    "        print(\"not authenticated\")\n",
    "def fun3():\n",
    "    if authenticated:\n",
    "        print(\"this is fun3\")\n",
    "    else:\n",
    "        print(\"not authenticated\")\n",
    "fun1()\n",
    "fun2()\n",
    "fun3()"
   ]
  },
  {
   "cell_type": "code",
   "execution_count": 14,
   "metadata": {},
   "outputs": [
    {
     "name": "stdout",
     "output_type": "stream",
     "text": [
      "this is fun1\n",
      "this is fun2\n",
      "this is fun3\n"
     ]
    }
   ],
   "source": [
    "def authenticate(f):\n",
    "    authenticated=True\n",
    "    def inner(*k,**kw):\n",
    "        if authenticated:\n",
    "            return f(*k,**kw)\n",
    "        else:\n",
    "            print(\"not authenticated\")\n",
    "    return inner\n",
    "\n",
    "@authenticate\n",
    "def fun1():\n",
    "    print(\"this is fun1\")\n",
    "@authenticate\n",
    "def fun2():\n",
    "    print(\"this is fun2\")\n",
    "@authenticate\n",
    "def fun3():\n",
    "    print(\"this is fun3\")\n",
    "fun1()\n",
    "fun2()\n",
    "fun3()"
   ]
  },
  {
   "cell_type": "code",
   "execution_count": 15,
   "metadata": {},
   "outputs": [
    {
     "name": "stdout",
     "output_type": "stream",
     "text": [
      "not authenticated\n",
      "not authenticated\n",
      "not authenticated\n"
     ]
    }
   ],
   "source": [
    "def authenticate(f):\n",
    "    authenticated=False\n",
    "    def inner(*k,**kw):\n",
    "        if authenticated:\n",
    "            return f(*k,**kw)\n",
    "        else:\n",
    "            print(\"not authenticated\")\n",
    "    return inner\n",
    "\n",
    "@authenticate\n",
    "def fun1():\n",
    "    print(\"this is fun1\")\n",
    "@authenticate\n",
    "def fun2():\n",
    "    print(\"this is fun2\")\n",
    "@authenticate\n",
    "def fun3():\n",
    "    print(\"this is fun3\")\n",
    "fun1()\n",
    "fun2()\n",
    "fun3()"
   ]
  },
  {
   "cell_type": "code",
   "execution_count": 16,
   "metadata": {},
   "outputs": [],
   "source": [
    "class Emp:\n",
    "    company_name=\"KHYAAHI\"\n",
    "    compan_address=\"maithrivanam\"\n",
    "    def __init__(self,name,e_id):\n",
    "        self.name=name\n",
    "        self.id=e_id\n",
    "    def get(self):\n",
    "        return self.name,self.id,self.company_name,self.compan_address\n",
    "    def get_company(self):\n",
    "        return self.company_name,self.compan_address\n",
    "sai=Emp(\"sai laxmi\",23)"
   ]
  },
  {
   "cell_type": "code",
   "execution_count": 17,
   "metadata": {},
   "outputs": [
    {
     "name": "stdout",
     "output_type": "stream",
     "text": [
      "('KHYAAHI', 'maithrivanam')\n"
     ]
    }
   ],
   "source": [
    "class Emp:\n",
    "    company_name=\"KHYAAHI\"\n",
    "    compan_address=\"maithrivanam\"\n",
    "    def __init__(self,name,e_id):\n",
    "        self.name=name\n",
    "        self.id=e_id\n",
    "    def get(self): # instancemethod\n",
    "        return self.name,self.id,self.company_name,self.compan_address\n",
    "    def get_company(self): #instance method\n",
    "        return self.company_name,self.compan_address\n",
    "sai=Emp(\"sai laxmi\",23)\n",
    "print(sai.get_company())"
   ]
  },
  {
   "cell_type": "code",
   "execution_count": 18,
   "metadata": {},
   "outputs": [
    {
     "name": "stdout",
     "output_type": "stream",
     "text": [
      "('KHYAAHI', 'maithrivanam')\n"
     ]
    }
   ],
   "source": [
    "class Emp:\n",
    "    company_name=\"KHYAAHI\"\n",
    "    compan_address=\"maithrivanam\"\n",
    "    def __init__(self,name,e_id):\n",
    "        self.name=name\n",
    "        self.id=e_id\n",
    "    def get(self): # instancemethod\n",
    "        return self.name,self.id,self.company_name,self.compan_address\n",
    "    @classmethod\n",
    "    def get_company(self): #class method\n",
    "        return self.company_name,self.compan_address\n",
    "sai=Emp(\"sai laxmi\",23)\n",
    "print(sai.get_company())"
   ]
  },
  {
   "cell_type": "code",
   "execution_count": 19,
   "metadata": {},
   "outputs": [
    {
     "name": "stdout",
     "output_type": "stream",
     "text": [
      "1910031007656\n",
      "1910031007656\n",
      "('KHYAAHI', 'maithrivanam')\n"
     ]
    }
   ],
   "source": [
    "class Emp:\n",
    "    company_name=\"KHYAAHI\"\n",
    "    compan_address=\"maithrivanam\"\n",
    "    def __init__(self,name,e_id):\n",
    "        self.name=name\n",
    "        self.id=e_id\n",
    "    def get(self): # instancemethod\n",
    "        return self.name,self.id,self.company_name,self.compan_address\n",
    "    @classmethod\n",
    "    def get_company(self): #class method\n",
    "        print(id(self))\n",
    "        return self.company_name,self.compan_address\n",
    "print(id(Emp))\n",
    "sai=Emp(\"sai laxmi\",23)\n",
    "print(sai.get_company())"
   ]
  },
  {
   "cell_type": "code",
   "execution_count": 20,
   "metadata": {},
   "outputs": [
    {
     "name": "stdout",
     "output_type": "stream",
     "text": [
      "1910031012376\n"
     ]
    },
    {
     "data": {
      "text/plain": [
       "('KHYAAHI', 'maithrivanam')"
      ]
     },
     "execution_count": 20,
     "metadata": {},
     "output_type": "execute_result"
    }
   ],
   "source": [
    "class Emp:\n",
    "    company_name=\"KHYAAHI\"\n",
    "    compan_address=\"maithrivanam\"\n",
    "    def __init__(self,name,e_id):\n",
    "        self.name=name\n",
    "        self.id=e_id\n",
    "    def get(self): # instancemethod\n",
    "        return self.name,self.id,self.company_name,self.compan_address\n",
    "    @classmethod\n",
    "    def get_company(self): #class method\n",
    "        print(id(self))\n",
    "        return self.company_name,self.compan_address\n",
    "Emp.get_company()"
   ]
  },
  {
   "cell_type": "code",
   "execution_count": 22,
   "metadata": {},
   "outputs": [
    {
     "name": "stdout",
     "output_type": "stream",
     "text": [
      "('sailaxmi', 12, 'KHYAAHI', 'maithrivanam')\n",
      "('KHYAAHI', 'maithrivanam')\n",
      "('KHYAAHI', 'maithrivanam')\n",
      "10 20\n",
      "10 20\n"
     ]
    }
   ],
   "source": [
    "class Emp:\n",
    "    company_name=\"KHYAAHI\"\n",
    "    compan_address=\"maithrivanam\"\n",
    "    def __init__(self,name,e_id):\n",
    "        self.name=name\n",
    "        self.id=e_id\n",
    "    def get(self): # instancemethod\n",
    "        return self.name,self.id,self.company_name,self.compan_address\n",
    "    @classmethod\n",
    "    def get_company(cls): #class method\n",
    "        return cls.company_name,cls.compan_address\n",
    "    @staticmethod\n",
    "    def sta(x,y):\n",
    "        print(x,y)\n",
    "sai=Emp(\"sailaxmi\",12)\n",
    "print(sai.get())\n",
    "print(sai.get_company())\n",
    "print(Emp.get_company())\n",
    "Emp.sta(10,20)\n",
    "sai.sta(10,20)"
   ]
  },
  {
   "cell_type": "code",
   "execution_count": 23,
   "metadata": {},
   "outputs": [
    {
     "name": "stdout",
     "output_type": "stream",
     "text": [
      "('sai laxmi', 12, 'KHYAAHI', 'maithrivanam')\n"
     ]
    }
   ],
   "source": [
    "class Emp:\n",
    "    company_name=\"KHYAAHI\"\n",
    "    compan_address=\"maithrivanam\"\n",
    "    def __init__(self,fname,sname,e_id):\n",
    "        self.firstname=fname\n",
    "        self.secondname=sname\n",
    "        self.id=e_id\n",
    "        self.name=self.firstname+\" \"+self.secondname\n",
    "    def get(self): # instancemethod\n",
    "        return self.name,self.id,self.company_name,self.compan_address\n",
    "    \n",
    "sai=Emp(\"sai\",\"laxmi\",12)\n",
    "print(sai.get())\n"
   ]
  },
  {
   "cell_type": "code",
   "execution_count": 27,
   "metadata": {},
   "outputs": [
    {
     "name": "stdout",
     "output_type": "stream",
     "text": [
      "('sai laxmi', 12, 'KHYAAHI', 'maithrivanam')\n",
      "('sai laxmi', 12, 'KHYAAHI', 'maithrivanam')\n"
     ]
    }
   ],
   "source": [
    "class Emp:\n",
    "    company_name=\"KHYAAHI\"\n",
    "    compan_address=\"maithrivanam\"\n",
    "    def __init__(self,fname,sname,e_id):\n",
    "        self.firstname=fname\n",
    "        self.secondname=sname\n",
    "        self.id=e_id\n",
    "        self.name=self.firstname+\" \"+self.secondname\n",
    "    def get(self): # instancemethod\n",
    "        return self.name,self.id,self.company_name,self.compan_address\n",
    "    \n",
    "sai=Emp(\"sai\",\"laxmi\",12)\n",
    "print(sai.get())\n",
    "sai.secondname=\"LAKSHMI\"\n",
    "print(sai.get())\n"
   ]
  },
  {
   "cell_type": "code",
   "execution_count": 28,
   "metadata": {},
   "outputs": [
    {
     "name": "stdout",
     "output_type": "stream",
     "text": [
      "('sai laxmi', 12, 'KHYAAHI', 'maithrivanam')\n",
      "('sai LAKSHMI', 12, 'KHYAAHI', 'maithrivanam')\n"
     ]
    }
   ],
   "source": [
    "class Emp:\n",
    "    company_name=\"KHYAAHI\"\n",
    "    compan_address=\"maithrivanam\"\n",
    "    def __init__(self,fname,sname,e_id):\n",
    "        self.firstname=fname\n",
    "        self.secondname=sname\n",
    "        self.id=e_id\n",
    "    def name(self):\n",
    "        return self.firstname+\" \"+self.secondname\n",
    "    def get(self): # instancemethod\n",
    "        return self.name(),self.id,self.company_name,self.compan_address\n",
    "    \n",
    "sai=Emp(\"sai\",\"laxmi\",12)\n",
    "print(sai.get())\n",
    "sai.secondname=\"LAKSHMI\"\n",
    "print(sai.get())\n"
   ]
  },
  {
   "cell_type": "code",
   "execution_count": 29,
   "metadata": {},
   "outputs": [
    {
     "name": "stdout",
     "output_type": "stream",
     "text": [
      "name method called\n",
      "('sai laxmi', 12, 'KHYAAHI', 'maithrivanam')\n",
      "name method called\n",
      "('sai LAKSHMI', 12, 'KHYAAHI', 'maithrivanam')\n"
     ]
    }
   ],
   "source": [
    "class Emp:\n",
    "    company_name=\"KHYAAHI\"\n",
    "    compan_address=\"maithrivanam\"\n",
    "    def __init__(self,fname,sname,e_id):\n",
    "        self.firstname=fname\n",
    "        self.secondname=sname\n",
    "        self.id=e_id\n",
    "    @property\n",
    "    def name(self):\n",
    "        print(\"name method called\")\n",
    "        return self.firstname+\" \"+self.secondname\n",
    "    def get(self): # instancemethod\n",
    "        return self.name,self.id,self.company_name,self.compan_address\n",
    "    \n",
    "sai=Emp(\"sai\",\"laxmi\",12)\n",
    "print(sai.get())\n",
    "sai.secondname=\"LAKSHMI\"\n",
    "print(sai.get())\n"
   ]
  },
  {
   "cell_type": "code",
   "execution_count": null,
   "metadata": {},
   "outputs": [],
   "source": [
    "#10%\n",
    "#30% 45%\n",
    "#solid principle\n",
    "#singleton\n",
    "#unittest\n",
    "#unit test in django\n",
    "#docker"
   ]
  }
 ],
 "metadata": {
  "kernelspec": {
   "display_name": "Python 3",
   "language": "python",
   "name": "python3"
  },
  "language_info": {
   "codemirror_mode": {
    "name": "ipython",
    "version": 3
   },
   "file_extension": ".py",
   "mimetype": "text/x-python",
   "name": "python",
   "nbconvert_exporter": "python",
   "pygments_lexer": "ipython3",
   "version": "3.7.0"
  }
 },
 "nbformat": 4,
 "nbformat_minor": 2
}
