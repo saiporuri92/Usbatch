{
 "cells": [
  {
   "cell_type": "code",
   "execution_count": 1,
   "metadata": {},
   "outputs": [
    {
     "name": "stdout",
     "output_type": "stream",
     "text": [
      "this is class\n"
     ]
    }
   ],
   "source": [
    "def fun():\n",
    "    print(\"this is fun\")\n",
    "class Emp:\n",
    "    print(\"this is class\")\n"
   ]
  },
  {
   "cell_type": "code",
   "execution_count": 2,
   "metadata": {},
   "outputs": [
    {
     "name": "stdout",
     "output_type": "stream",
     "text": [
      "this is class\n",
      "Jayaram\n"
     ]
    }
   ],
   "source": [
    "def fun():\n",
    "    print(\"this is fun\")\n",
    "class Emp:\n",
    "    print(\"this is class\")\n",
    "    name=\"Jayaram\"\n",
    "print(Emp.name)"
   ]
  },
  {
   "cell_type": "code",
   "execution_count": 3,
   "metadata": {},
   "outputs": [
    {
     "name": "stdout",
     "output_type": "stream",
     "text": [
      "this is class\n",
      "Jayaram\n",
      "10\n"
     ]
    }
   ],
   "source": [
    "def fun():\n",
    "    print(\"this is fun\")\n",
    "class Emp:\n",
    "    print(\"this is class\")\n",
    "    name=\"Jayaram\"\n",
    "    def fun(x):\n",
    "        print(x)\n",
    "print(Emp.name)\n",
    "Emp.fun(10)"
   ]
  },
  {
   "cell_type": "code",
   "execution_count": 5,
   "metadata": {},
   "outputs": [
    {
     "name": "stdout",
     "output_type": "stream",
     "text": [
      "this is class\n",
      "<__main__.Emp object at 0x0000023F756D1CC0>\n"
     ]
    }
   ],
   "source": [
    "class Emp:\n",
    "    print(\"this is class\")\n",
    "    name=\"Jayaram\"\n",
    "    def fun(x):\n",
    "        print(x)\n",
    "jay=Emp()\n",
    "Emp.fun(jay)"
   ]
  },
  {
   "cell_type": "code",
   "execution_count": 7,
   "metadata": {},
   "outputs": [
    {
     "name": "stdout",
     "output_type": "stream",
     "text": [
      "this is class\n",
      "<__main__.Emp object at 0x0000023F7574F128>\n",
      "<__main__.Emp object at 0x0000023F7574F128>\n"
     ]
    }
   ],
   "source": [
    "class Emp:\n",
    "    print(\"this is class\")\n",
    "    name=\"Jayaram\"\n",
    "    def fun(x):\n",
    "        print(x)\n",
    "jay=Emp()\n",
    "Emp.fun(jay)\n",
    "jay.fun()"
   ]
  },
  {
   "cell_type": "code",
   "execution_count": 8,
   "metadata": {},
   "outputs": [
    {
     "name": "stdout",
     "output_type": "stream",
     "text": [
      "this is class\n",
      "<__main__.Emp object at 0x0000023F756D1FD0>\n"
     ]
    }
   ],
   "source": [
    "class Emp:\n",
    "    print(\"this is class\")\n",
    "    name=\"Jayaram\"\n",
    "    def fun(x):\n",
    "        print(x)\n",
    "jay=Emp()\n",
    "jay.fun()"
   ]
  },
  {
   "cell_type": "code",
   "execution_count": 9,
   "metadata": {},
   "outputs": [
    {
     "name": "stdout",
     "output_type": "stream",
     "text": [
      "this is class\n"
     ]
    },
    {
     "ename": "TypeError",
     "evalue": "fun() missing 1 required positional argument: 'y'",
     "output_type": "error",
     "traceback": [
      "\u001b[1;31m---------------------------------------------------------------------------\u001b[0m",
      "\u001b[1;31mTypeError\u001b[0m                                 Traceback (most recent call last)",
      "\u001b[1;32m<ipython-input-9-84c0fa2fa96a>\u001b[0m in \u001b[0;36m<module>\u001b[1;34m()\u001b[0m\n\u001b[0;32m      6\u001b[0m         \u001b[0mprint\u001b[0m\u001b[1;33m(\u001b[0m\u001b[0my\u001b[0m\u001b[1;33m)\u001b[0m\u001b[1;33m\u001b[0m\u001b[0m\n\u001b[0;32m      7\u001b[0m \u001b[0mjay\u001b[0m\u001b[1;33m=\u001b[0m\u001b[0mEmp\u001b[0m\u001b[1;33m(\u001b[0m\u001b[1;33m)\u001b[0m\u001b[1;33m\u001b[0m\u001b[0m\n\u001b[1;32m----> 8\u001b[1;33m \u001b[0mjay\u001b[0m\u001b[1;33m.\u001b[0m\u001b[0mfun\u001b[0m\u001b[1;33m(\u001b[0m\u001b[1;33m)\u001b[0m\u001b[1;33m\u001b[0m\u001b[0m\n\u001b[0m",
      "\u001b[1;31mTypeError\u001b[0m: fun() missing 1 required positional argument: 'y'"
     ]
    }
   ],
   "source": [
    "class Emp:\n",
    "    print(\"this is class\")\n",
    "    name=\"Jayaram\"\n",
    "    def fun(x,y):\n",
    "        print(x)\n",
    "        print(y)\n",
    "jay=Emp()\n",
    "jay.fun()"
   ]
  },
  {
   "cell_type": "code",
   "execution_count": 10,
   "metadata": {},
   "outputs": [
    {
     "name": "stdout",
     "output_type": "stream",
     "text": [
      "this is class\n",
      "<__main__.Emp object at 0x0000023F756B3828>\n",
      "100\n"
     ]
    }
   ],
   "source": [
    "class Emp:\n",
    "    print(\"this is class\")\n",
    "    name=\"Jayaram\"\n",
    "    def fun(x,y):\n",
    "        print(x)\n",
    "        print(y)\n",
    "jay=Emp()\n",
    "jay.fun(100) # Emp.fun(jay,100)"
   ]
  },
  {
   "cell_type": "code",
   "execution_count": 11,
   "metadata": {},
   "outputs": [
    {
     "name": "stdout",
     "output_type": "stream",
     "text": [
      "this is class\n",
      "<__main__.Emp object at 0x0000023F755E29E8>\n",
      "100\n"
     ]
    }
   ],
   "source": [
    "class Emp:\n",
    "    print(\"this is class\")\n",
    "    name=\"Jayaram\"\n",
    "    def fun(self,y):\n",
    "        print(self)\n",
    "        print(y)\n",
    "jay=Emp()\n",
    "jay.fun(100) # Emp.fun(jay,100)"
   ]
  },
  {
   "cell_type": "code",
   "execution_count": 12,
   "metadata": {},
   "outputs": [
    {
     "name": "stdout",
     "output_type": "stream",
     "text": [
      "this is class\n",
      "<__main__.Emp object at 0x0000023F7574F630>\n",
      "100\n"
     ]
    }
   ],
   "source": [
    "class Emp:\n",
    "    print(\"this is class\")\n",
    "    name=\"Jayaram\"\n",
    "    def fun(self,y):\n",
    "        print(self)\n",
    "        print(y)\n",
    "jay=Emp()\n",
    "jay.fun(100) # Emp.fun(jay,100)"
   ]
  },
  {
   "cell_type": "code",
   "execution_count": 14,
   "metadata": {},
   "outputs": [
    {
     "name": "stdout",
     "output_type": "stream",
     "text": [
      "['abcd;abcd;def;fsf;sdfds;fds;fdsf;dsf;dsfds;fds;fds;f;dsdsf;', 'sf', 'dsf', 'ds', 'fds', 'fdsf']\n"
     ]
    }
   ],
   "source": [
    "s=\"abcd;abcd;def;fsf;sdfds;fds;fdsf;dsf;dsfds;fds;fds;f;dsdsf;;sf;dsf;ds;fds;fdsf\"\n",
    "l=s.rsplit(\";\",5)\n",
    "print(l)"
   ]
  },
  {
   "cell_type": "code",
   "execution_count": 16,
   "metadata": {},
   "outputs": [
    {
     "name": "stdout",
     "output_type": "stream",
     "text": [
      "abcd;abcd;def;fsf;sdfds;fds;fdsf;dsf;dsfds;fds;fds;f;dsdsf;;sf1dsf2ds3fds4fd5sf\n"
     ]
    }
   ],
   "source": [
    "s=\"abcd;abcd;def;fsf;sdfds;fds;fdsf;dsf;dsfds;fds;fds;f;dsdsf;;sf1;dsf2;ds3;fds4;fd5;sf\"\n",
    "l=s.rsplit(\";\",5)\n",
    "print(\"\".join(l))"
   ]
  },
  {
   "cell_type": "code",
   "execution_count": 17,
   "metadata": {},
   "outputs": [
    {
     "name": "stdout",
     "output_type": "stream",
     "text": [
      "apple,orange,banana,apple,apple,,\n"
     ]
    }
   ],
   "source": [
    "s=\"apple,orange,banana,apple,apple,apple,apple\"\n",
    "l=s.rsplit(\"apple\",2)\n",
    "print(\"\".join(l))"
   ]
  },
  {
   "cell_type": "code",
   "execution_count": 2,
   "metadata": {},
   "outputs": [
    {
     "name": "stdout",
     "output_type": "stream",
     "text": [
      "<__main__.Emp object at 0x000001A8640F8D30>\n",
      "this is get\n"
     ]
    }
   ],
   "source": [
    "class Emp:\n",
    "    def get(self):\n",
    "        print(self)\n",
    "        print(\"this is get\")\n",
    "jay=Emp()\n",
    "jay.get()\n",
    "#Emp is a reference class object\n",
    "# jay dataobject"
   ]
  },
  {
   "cell_type": "code",
   "execution_count": 3,
   "metadata": {},
   "outputs": [
    {
     "name": "stdout",
     "output_type": "stream",
     "text": [
      "JAYARAM 2.3 13\n"
     ]
    }
   ],
   "source": [
    "class Emp:\n",
    "    def get(self):\n",
    "        print(self)\n",
    "        print(\"this is get\")\n",
    "jay=Emp()\n",
    "jay.name=\"JAYARAM\"\n",
    "jay.age=2.3\n",
    "jay.weight=13\n",
    "print(jay.name,jay.age,jay.weight)\n",
    "#Emp is a reference class object\n",
    "# jay dataobject"
   ]
  },
  {
   "cell_type": "code",
   "execution_count": 4,
   "metadata": {},
   "outputs": [
    {
     "name": "stdout",
     "output_type": "stream",
     "text": [
      "('JAYARAM', 2.3, 13)\n"
     ]
    }
   ],
   "source": [
    "class Emp:\n",
    "    def get(self):\n",
    "        return self.name,self.age,self.weight\n",
    "jay=Emp()\n",
    "jay.name=\"JAYARAM\"\n",
    "jay.age=2.3\n",
    "jay.weight=13\n",
    "print(jay.get())\n",
    "#print(jay.name,jay.age,jay.weight)\n",
    "#Emp is a reference class object\n",
    "# jay dataobject"
   ]
  },
  {
   "cell_type": "code",
   "execution_count": 5,
   "metadata": {},
   "outputs": [
    {
     "name": "stdout",
     "output_type": "stream",
     "text": [
      "('JAYARAM', 2.3, 13, 'Khyaathi')\n"
     ]
    },
    {
     "ename": "AttributeError",
     "evalue": "'Emp' object has no attribute 'age'",
     "output_type": "error",
     "traceback": [
      "\u001b[1;31m---------------------------------------------------------------------------\u001b[0m",
      "\u001b[1;31mAttributeError\u001b[0m                            Traceback (most recent call last)",
      "\u001b[1;32m<ipython-input-5-711be93e71f5>\u001b[0m in \u001b[0;36m<module>\u001b[1;34m()\u001b[0m\n\u001b[0;32m     11\u001b[0m \u001b[0mvedha\u001b[0m\u001b[1;33m.\u001b[0m\u001b[0mcompany_name\u001b[0m\u001b[1;33m=\u001b[0m\u001b[1;34m\"Khyaathi\"\u001b[0m\u001b[1;33m\u001b[0m\u001b[0m\n\u001b[0;32m     12\u001b[0m \u001b[0mvedha\u001b[0m\u001b[1;33m.\u001b[0m\u001b[0mname\u001b[0m\u001b[1;33m=\u001b[0m\u001b[1;34m\"Vedhanvesh\"\u001b[0m\u001b[1;33m\u001b[0m\u001b[0m\n\u001b[1;32m---> 13\u001b[1;33m \u001b[0mprint\u001b[0m\u001b[1;33m(\u001b[0m\u001b[0mvedha\u001b[0m\u001b[1;33m.\u001b[0m\u001b[0mget\u001b[0m\u001b[1;33m(\u001b[0m\u001b[1;33m)\u001b[0m\u001b[1;33m)\u001b[0m\u001b[1;33m\u001b[0m\u001b[0m\n\u001b[0m",
      "\u001b[1;32m<ipython-input-5-711be93e71f5>\u001b[0m in \u001b[0;36mget\u001b[1;34m(self)\u001b[0m\n\u001b[0;32m      1\u001b[0m \u001b[1;32mclass\u001b[0m \u001b[0mEmp\u001b[0m\u001b[1;33m:\u001b[0m\u001b[1;33m\u001b[0m\u001b[0m\n\u001b[0;32m      2\u001b[0m     \u001b[1;32mdef\u001b[0m \u001b[0mget\u001b[0m\u001b[1;33m(\u001b[0m\u001b[0mself\u001b[0m\u001b[1;33m)\u001b[0m\u001b[1;33m:\u001b[0m\u001b[1;33m\u001b[0m\u001b[0m\n\u001b[1;32m----> 3\u001b[1;33m         \u001b[1;32mreturn\u001b[0m \u001b[0mself\u001b[0m\u001b[1;33m.\u001b[0m\u001b[0mname\u001b[0m\u001b[1;33m,\u001b[0m\u001b[0mself\u001b[0m\u001b[1;33m.\u001b[0m\u001b[0mage\u001b[0m\u001b[1;33m,\u001b[0m\u001b[0mself\u001b[0m\u001b[1;33m.\u001b[0m\u001b[0mweight\u001b[0m\u001b[1;33m,\u001b[0m\u001b[0mself\u001b[0m\u001b[1;33m.\u001b[0m\u001b[0mcompany_name\u001b[0m\u001b[1;33m\u001b[0m\u001b[0m\n\u001b[0m\u001b[0;32m      4\u001b[0m \u001b[0mjay\u001b[0m\u001b[1;33m=\u001b[0m\u001b[0mEmp\u001b[0m\u001b[1;33m(\u001b[0m\u001b[1;33m)\u001b[0m\u001b[1;33m\u001b[0m\u001b[0m\n\u001b[0;32m      5\u001b[0m \u001b[0mjay\u001b[0m\u001b[1;33m.\u001b[0m\u001b[0mcompany_name\u001b[0m\u001b[1;33m=\u001b[0m\u001b[1;34m\"Khyaathi\"\u001b[0m\u001b[1;33m\u001b[0m\u001b[0m\n",
      "\u001b[1;31mAttributeError\u001b[0m: 'Emp' object has no attribute 'age'"
     ]
    }
   ],
   "source": [
    "class Emp:\n",
    "    def get(self):\n",
    "        return self.name,self.age,self.weight,self.company_name\n",
    "jay=Emp()\n",
    "jay.company_name=\"Khyaathi\"\n",
    "jay.name=\"JAYARAM\"\n",
    "jay.age=2.3\n",
    "jay.weight=13\n",
    "print(jay.get())\n",
    "vedha = Emp()\n",
    "vedha.company_name=\"Khyaathi\"\n",
    "vedha.name=\"Vedhanvesh\"\n",
    "print(vedha.get())"
   ]
  },
  {
   "cell_type": "code",
   "execution_count": 6,
   "metadata": {},
   "outputs": [
    {
     "name": "stdout",
     "output_type": "stream",
     "text": [
      "('JAYARAM', 2.3, 13, 'KHYAATHI')\n",
      "('vedhanvesh', None, None, 'KHYAATHI')\n"
     ]
    }
   ],
   "source": [
    "class Emp:\n",
    "    def set_data(self,name,age=None,weight=None,company_name=\"KHYAATHI\"):\n",
    "        self.company_name=company_name\n",
    "        self.name=name\n",
    "        self.age=age\n",
    "        self.weight=weight\n",
    "        \n",
    "    def get(self):\n",
    "        return self.name,self.age,self.weight,self.company_name\n",
    "jay=Emp()\n",
    "jay.set_data(\"JAYARAM\",2.3,13,\"KHYAATHI\")\n",
    "'''\n",
    "jay.company_name=\"Khyaathi\"\n",
    "jay.name=\"JAYARAM\"\n",
    "jay.age=2.3\n",
    "jay.weight=13\n",
    "'''\n",
    "print(jay.get())\n",
    "vedha = Emp()\n",
    "vedha.set_data(name=\"vedhanvesh\",company_name=\"KHYAATHI\")\n",
    "'''\n",
    "vedha.company_name=\"Khyaathi\"\n",
    "vedha.name=\"Vedhanvesh\"\n",
    "'''\n",
    "print(vedha.get())"
   ]
  },
  {
   "cell_type": "code",
   "execution_count": 7,
   "metadata": {},
   "outputs": [
    {
     "name": "stdout",
     "output_type": "stream",
     "text": [
      "('JAYARAM', 2.3, 13, 'KHYAATHI')\n",
      "('vedhanvesh', None, None, 'KHYAATHI')\n"
     ]
    }
   ],
   "source": [
    "class Emp:\n",
    "    def set_data(self,name,age=None,weight=None,company_name=\"KHYAATHI\"):\n",
    "        self.company_name=company_name\n",
    "        self.name=name\n",
    "        self.age=age\n",
    "        self.weight=weight\n",
    "        \n",
    "    def get(self):\n",
    "        return self.name,self.age,self.weight,self.company_name\n",
    "jay=Emp()\n",
    "jay.set_data(\"JAYARAM\",2.3,13,\"KHYAATHI\")\n",
    "print(jay.get())\n",
    "vedha = Emp()\n",
    "vedha.set_data(name=\"vedhanvesh\",company_name=\"KHYAATHI\")\n",
    "print(vedha.get())"
   ]
  },
  {
   "cell_type": "code",
   "execution_count": 8,
   "metadata": {},
   "outputs": [
    {
     "name": "stdout",
     "output_type": "stream",
     "text": [
      "('JAYARAM', 2.3, 13, 'KHYAATHI')\n",
      "('vedhanvesh', None, None, 'KHYAATHI')\n"
     ]
    },
    {
     "ename": "AttributeError",
     "evalue": "'Emp' object has no attribute 'name'",
     "output_type": "error",
     "traceback": [
      "\u001b[1;31m---------------------------------------------------------------------------\u001b[0m",
      "\u001b[1;31mAttributeError\u001b[0m                            Traceback (most recent call last)",
      "\u001b[1;32m<ipython-input-8-40d47dfb1ef5>\u001b[0m in \u001b[0;36m<module>\u001b[1;34m()\u001b[0m\n\u001b[0;32m     15\u001b[0m \u001b[0mprint\u001b[0m\u001b[1;33m(\u001b[0m\u001b[0mvedha\u001b[0m\u001b[1;33m.\u001b[0m\u001b[0mget\u001b[0m\u001b[1;33m(\u001b[0m\u001b[1;33m)\u001b[0m\u001b[1;33m)\u001b[0m\u001b[1;33m\u001b[0m\u001b[0m\n\u001b[0;32m     16\u001b[0m \u001b[0msai\u001b[0m\u001b[1;33m=\u001b[0m\u001b[0mEmp\u001b[0m\u001b[1;33m(\u001b[0m\u001b[1;33m)\u001b[0m\u001b[1;33m\u001b[0m\u001b[0m\n\u001b[1;32m---> 17\u001b[1;33m \u001b[0mprint\u001b[0m\u001b[1;33m(\u001b[0m\u001b[0msai\u001b[0m\u001b[1;33m.\u001b[0m\u001b[0mget\u001b[0m\u001b[1;33m(\u001b[0m\u001b[1;33m)\u001b[0m\u001b[1;33m)\u001b[0m\u001b[1;33m\u001b[0m\u001b[0m\n\u001b[0m",
      "\u001b[1;32m<ipython-input-8-40d47dfb1ef5>\u001b[0m in \u001b[0;36mget\u001b[1;34m(self)\u001b[0m\n\u001b[0;32m      7\u001b[0m \u001b[1;33m\u001b[0m\u001b[0m\n\u001b[0;32m      8\u001b[0m     \u001b[1;32mdef\u001b[0m \u001b[0mget\u001b[0m\u001b[1;33m(\u001b[0m\u001b[0mself\u001b[0m\u001b[1;33m)\u001b[0m\u001b[1;33m:\u001b[0m\u001b[1;33m\u001b[0m\u001b[0m\n\u001b[1;32m----> 9\u001b[1;33m         \u001b[1;32mreturn\u001b[0m \u001b[0mself\u001b[0m\u001b[1;33m.\u001b[0m\u001b[0mname\u001b[0m\u001b[1;33m,\u001b[0m\u001b[0mself\u001b[0m\u001b[1;33m.\u001b[0m\u001b[0mage\u001b[0m\u001b[1;33m,\u001b[0m\u001b[0mself\u001b[0m\u001b[1;33m.\u001b[0m\u001b[0mweight\u001b[0m\u001b[1;33m,\u001b[0m\u001b[0mself\u001b[0m\u001b[1;33m.\u001b[0m\u001b[0mcompany_name\u001b[0m\u001b[1;33m\u001b[0m\u001b[0m\n\u001b[0m\u001b[0;32m     10\u001b[0m \u001b[0mjay\u001b[0m\u001b[1;33m=\u001b[0m\u001b[0mEmp\u001b[0m\u001b[1;33m(\u001b[0m\u001b[1;33m)\u001b[0m\u001b[1;33m\u001b[0m\u001b[0m\n\u001b[0;32m     11\u001b[0m \u001b[0mjay\u001b[0m\u001b[1;33m.\u001b[0m\u001b[0mset_data\u001b[0m\u001b[1;33m(\u001b[0m\u001b[1;34m\"JAYARAM\"\u001b[0m\u001b[1;33m,\u001b[0m\u001b[1;36m2.3\u001b[0m\u001b[1;33m,\u001b[0m\u001b[1;36m13\u001b[0m\u001b[1;33m,\u001b[0m\u001b[1;34m\"KHYAATHI\"\u001b[0m\u001b[1;33m)\u001b[0m\u001b[1;33m\u001b[0m\u001b[0m\n",
      "\u001b[1;31mAttributeError\u001b[0m: 'Emp' object has no attribute 'name'"
     ]
    }
   ],
   "source": [
    "class Emp:\n",
    "    def set_data(self,name,age=None,weight=None,company_name=\"KHYAATHI\"):\n",
    "        self.company_name=company_name\n",
    "        self.name=name\n",
    "        self.age=age\n",
    "        self.weight=weight\n",
    "        \n",
    "    def get(self):\n",
    "        return self.name,self.age,self.weight,self.company_name\n",
    "jay=Emp()\n",
    "jay.set_data(\"JAYARAM\",2.3,13,\"KHYAATHI\")\n",
    "print(jay.get())\n",
    "vedha = Emp()\n",
    "vedha.set_data(name=\"vedhanvesh\",company_name=\"KHYAATHI\")\n",
    "print(vedha.get())\n",
    "sai=Emp()\n",
    "print(sai.get())\n"
   ]
  },
  {
   "cell_type": "code",
   "execution_count": 9,
   "metadata": {},
   "outputs": [
    {
     "name": "stdout",
     "output_type": "stream",
     "text": [
      "this is class\n"
     ]
    }
   ],
   "source": [
    "class Emp:\n",
    "    print(\"this is class\")\n",
    "    def get(self):\n",
    "        print(\"this is get\")\n"
   ]
  },
  {
   "cell_type": "code",
   "execution_count": 10,
   "metadata": {},
   "outputs": [
    {
     "name": "stdout",
     "output_type": "stream",
     "text": [
      "this is class\n"
     ]
    }
   ],
   "source": [
    "class Emp:\n",
    "    print(\"this is class\")\n",
    "    def get(self):\n",
    "        print(\"this is get\")\n",
    "    def __init__(self):\n",
    "        print(\"this is init\")"
   ]
  },
  {
   "cell_type": "code",
   "execution_count": 11,
   "metadata": {},
   "outputs": [
    {
     "name": "stdout",
     "output_type": "stream",
     "text": [
      "this is class\n",
      "this is init\n",
      "this is init\n",
      "this is init\n"
     ]
    }
   ],
   "source": [
    "class Emp:\n",
    "    print(\"this is class\")\n",
    "    def get(self):\n",
    "        print(\"this is get\")\n",
    "    def __init__(self):\n",
    "        print(\"this is init\")\n",
    "jay=Emp()\n",
    "vedha=Emp()\n",
    "sai=Emp()"
   ]
  },
  {
   "cell_type": "code",
   "execution_count": 12,
   "metadata": {},
   "outputs": [
    {
     "name": "stdout",
     "output_type": "stream",
     "text": [
      "('JAYARAM', 2.3, 13, 'KHYAATHI')\n",
      "('vedhanvesh', None, None, 'KHYAATHI')\n"
     ]
    }
   ],
   "source": [
    "class Emp:\n",
    "    def __init__(self,name,age=None,weight=None,company_name=\"KHYAATHI\"):\n",
    "        self.company_name=company_name\n",
    "        self.name=name\n",
    "        self.age=age\n",
    "        self.weight=weight\n",
    "        \n",
    "    def get(self):\n",
    "        return self.name,self.age,self.weight,self.company_name\n",
    "jay=Emp(\"JAYARAM\",2.3,13)\n",
    "print(jay.get())\n",
    "vedha = Emp(name=\"vedhanvesh\")\n",
    "print(vedha.get())\n",
    "\n"
   ]
  },
  {
   "cell_type": "code",
   "execution_count": 13,
   "metadata": {},
   "outputs": [
    {
     "name": "stdout",
     "output_type": "stream",
     "text": [
      "('JAYARAM', 2.3, 13, 'KHYAATHI')\n",
      "('vedhanvesh', None, None, 'KHYAATHI')\n"
     ]
    },
    {
     "ename": "TypeError",
     "evalue": "__init__() missing 1 required positional argument: 'name'",
     "output_type": "error",
     "traceback": [
      "\u001b[1;31m---------------------------------------------------------------------------\u001b[0m",
      "\u001b[1;31mTypeError\u001b[0m                                 Traceback (most recent call last)",
      "\u001b[1;32m<ipython-input-13-ea05ebe0dd12>\u001b[0m in \u001b[0;36m<module>\u001b[1;34m()\u001b[0m\n\u001b[0;32m     12\u001b[0m \u001b[0mvedha\u001b[0m \u001b[1;33m=\u001b[0m \u001b[0mEmp\u001b[0m\u001b[1;33m(\u001b[0m\u001b[0mname\u001b[0m\u001b[1;33m=\u001b[0m\u001b[1;34m\"vedhanvesh\"\u001b[0m\u001b[1;33m)\u001b[0m\u001b[1;33m\u001b[0m\u001b[0m\n\u001b[0;32m     13\u001b[0m \u001b[0mprint\u001b[0m\u001b[1;33m(\u001b[0m\u001b[0mvedha\u001b[0m\u001b[1;33m.\u001b[0m\u001b[0mget\u001b[0m\u001b[1;33m(\u001b[0m\u001b[1;33m)\u001b[0m\u001b[1;33m)\u001b[0m\u001b[1;33m\u001b[0m\u001b[0m\n\u001b[1;32m---> 14\u001b[1;33m \u001b[0msai\u001b[0m\u001b[1;33m=\u001b[0m\u001b[0mEmp\u001b[0m\u001b[1;33m(\u001b[0m\u001b[1;33m)\u001b[0m\u001b[1;33m\u001b[0m\u001b[0m\n\u001b[0m\u001b[0;32m     15\u001b[0m \u001b[0mprint\u001b[0m\u001b[1;33m(\u001b[0m\u001b[0msai\u001b[0m\u001b[1;33m.\u001b[0m\u001b[0mget\u001b[0m\u001b[1;33m(\u001b[0m\u001b[1;33m)\u001b[0m\u001b[1;33m)\u001b[0m\u001b[1;33m\u001b[0m\u001b[0m\n",
      "\u001b[1;31mTypeError\u001b[0m: __init__() missing 1 required positional argument: 'name'"
     ]
    }
   ],
   "source": [
    "class Emp:\n",
    "    def __init__(self,name,age=None,weight=None,company_name=\"KHYAATHI\"):\n",
    "        self.company_name=company_name\n",
    "        self.name=name\n",
    "        self.age=age\n",
    "        self.weight=weight\n",
    "        \n",
    "    def get(self):\n",
    "        return self.name,self.age,self.weight,self.company_name\n",
    "jay=Emp(\"JAYARAM\",2.3,13)\n",
    "print(jay.get())\n",
    "vedha = Emp(name=\"vedhanvesh\")\n",
    "print(vedha.get())\n",
    "sai=Emp()\n",
    "print(sai.get())"
   ]
  },
  {
   "cell_type": "code",
   "execution_count": 14,
   "metadata": {},
   "outputs": [
    {
     "name": "stdout",
     "output_type": "stream",
     "text": [
      "('JAYARAM', 2.3, 13, 'KHYAATHI')\n",
      "('vedhanvesh', None, None, 'KHYAATHI')\n",
      "('Sailaxmi', None, None, 'KHYAATHI')\n"
     ]
    }
   ],
   "source": [
    "class Emp:\n",
    "    def __init__(self,name,age=None,weight=None,company_name=\"KHYAATHI\"):\n",
    "        self.company_name=company_name\n",
    "        self.name=name\n",
    "        self.age=age\n",
    "        self.weight=weight\n",
    "        \n",
    "    def get(self):\n",
    "        return self.name,self.age,self.weight,self.company_name\n",
    "jay=Emp(\"JAYARAM\",2.3,13)\n",
    "print(jay.get())\n",
    "vedha = Emp(name=\"vedhanvesh\")\n",
    "print(vedha.get())\n",
    "sai=Emp(\"Sailaxmi\")\n",
    "print(sai.get())"
   ]
  },
  {
   "cell_type": "code",
   "execution_count": 18,
   "metadata": {},
   "outputs": [
    {
     "name": "stdout",
     "output_type": "stream",
     "text": [
      "('JAYARAM', 2.3, 13, 'KHYAATHI', 'Maithrivanam')\n",
      "('vedhanvesh', None, None, 'KHYAATHI', 'Maithrivanam')\n",
      "('Sailaxmi', None, None, 'KHYAATHI', 'Maithrivanam')\n"
     ]
    }
   ],
   "source": [
    "class Emp:\n",
    "    company_name=\"KHYAATHI\"\n",
    "    company_address=\"Maithrivanam\"\n",
    "    def __init__(self,name,age=None,weight=None):\n",
    "        self.name=name\n",
    "        self.age=age\n",
    "        self.weight=weight\n",
    "    def get(self):\n",
    "        return self.name,self.age,self.weight,self.company_name,self.company_address\n",
    "jay=Emp(\"JAYARAM\",2.3,13)\n",
    "print(jay.get())\n",
    "vedha = Emp(name=\"vedhanvesh\")\n",
    "print(vedha.get())\n",
    "sai=Emp(\"Sailaxmi\")\n",
    "print(sai.get())"
   ]
  },
  {
   "cell_type": "code",
   "execution_count": 19,
   "metadata": {},
   "outputs": [
    {
     "name": "stdout",
     "output_type": "stream",
     "text": [
      "('JAYARAM', 2.3, 13, 'KHYAATHI', 'Maithrivanam')\n",
      "Maithrivanam\n",
      "KHYAATHI\n"
     ]
    }
   ],
   "source": [
    "class Emp:\n",
    "    company_name=\"KHYAATHI\"\n",
    "    company_address=\"Maithrivanam\"\n",
    "    def __init__(self,name,age=None,weight=None):\n",
    "        self.name=name\n",
    "        self.age=age\n",
    "        self.weight=weight\n",
    "    def get(self):\n",
    "        return self.name,self.age,self.weight,self.company_name,self.company_address\n",
    "jay=Emp(\"JAYARAM\",2.3,13)\n",
    "print(jay.get())\n",
    "print(Emp.company_address)\n",
    "print(Emp.company_name)"
   ]
  },
  {
   "cell_type": "code",
   "execution_count": 20,
   "metadata": {},
   "outputs": [
    {
     "name": "stdout",
     "output_type": "stream",
     "text": [
      "('JAYARAM', 2.3, 13, 'KHYAATHI', 'Maithrivanam')\n",
      "Maithrivanam\n",
      "KHYAATHI\n"
     ]
    },
    {
     "ename": "AttributeError",
     "evalue": "type object 'Emp' has no attribute 'name'",
     "output_type": "error",
     "traceback": [
      "\u001b[1;31m---------------------------------------------------------------------------\u001b[0m",
      "\u001b[1;31mAttributeError\u001b[0m                            Traceback (most recent call last)",
      "\u001b[1;32m<ipython-input-20-c47049e67654>\u001b[0m in \u001b[0;36m<module>\u001b[1;34m()\u001b[0m\n\u001b[0;32m     12\u001b[0m \u001b[0mprint\u001b[0m\u001b[1;33m(\u001b[0m\u001b[0mEmp\u001b[0m\u001b[1;33m.\u001b[0m\u001b[0mcompany_address\u001b[0m\u001b[1;33m)\u001b[0m\u001b[1;33m\u001b[0m\u001b[0m\n\u001b[0;32m     13\u001b[0m \u001b[0mprint\u001b[0m\u001b[1;33m(\u001b[0m\u001b[0mEmp\u001b[0m\u001b[1;33m.\u001b[0m\u001b[0mcompany_name\u001b[0m\u001b[1;33m)\u001b[0m\u001b[1;33m\u001b[0m\u001b[0m\n\u001b[1;32m---> 14\u001b[1;33m \u001b[0mprint\u001b[0m\u001b[1;33m(\u001b[0m\u001b[0mEmp\u001b[0m\u001b[1;33m.\u001b[0m\u001b[0mname\u001b[0m\u001b[1;33m)\u001b[0m\u001b[1;33m\u001b[0m\u001b[0m\n\u001b[0m",
      "\u001b[1;31mAttributeError\u001b[0m: type object 'Emp' has no attribute 'name'"
     ]
    }
   ],
   "source": [
    "class Emp:\n",
    "    company_name=\"KHYAATHI\"\n",
    "    company_address=\"Maithrivanam\"\n",
    "    def __init__(self,name,age=None,weight=None):\n",
    "        self.name=name\n",
    "        self.age=age\n",
    "        self.weight=weight\n",
    "    def get(self):\n",
    "        return self.name,self.age,self.weight,self.company_name,self.company_address\n",
    "jay=Emp(\"JAYARAM\",2.3,13)\n",
    "print(jay.get())\n",
    "print(Emp.company_address)\n",
    "print(Emp.company_name)\n",
    "print(Emp.name)"
   ]
  },
  {
   "cell_type": "code",
   "execution_count": 21,
   "metadata": {},
   "outputs": [
    {
     "name": "stdout",
     "output_type": "stream",
     "text": [
      "('JAYARAM', 2.3, 13, 'KHYAATHI', 'Maithrivanam')\n",
      "Maithrivanam\n",
      "KHYAATHI\n",
      "Maithrivanam\n"
     ]
    }
   ],
   "source": [
    "class Emp:\n",
    "    company_name=\"KHYAATHI\"\n",
    "    company_address=\"Maithrivanam\"\n",
    "    def __init__(self,name,age=None,weight=None):\n",
    "        self.name=name\n",
    "        self.age=age\n",
    "        self.weight=weight\n",
    "    def get(self):\n",
    "        return self.name,self.age,self.weight,self.company_name,self.company_address\n",
    "jay=Emp(\"JAYARAM\",2.3,13)\n",
    "print(jay.get())\n",
    "print(Emp.company_address)\n",
    "print(Emp.company_name)\n",
    "print(jay.company_address)"
   ]
  },
  {
   "cell_type": "code",
   "execution_count": 23,
   "metadata": {},
   "outputs": [
    {
     "name": "stdout",
     "output_type": "stream",
     "text": [
      "('Sailaxmi', None, None, 'KHYAATHI', 'Maithrivanam', '2018-03-01')\n",
      "('JAYARAM', 2.3, 13, 'KHYAATHI', 'Maithrivanam', '2016-03-01')\n",
      "('vedhanvesh', None, None, 'KHYAATHI', 'Maithrivanam', '2017-03-01')\n"
     ]
    }
   ],
   "source": [
    "class Emp:\n",
    "    company_name=\"KHYAATHI\"\n",
    "    company_address=\"Maithrivanam\"\n",
    "    def __init__(self,name,doj,age=None,weight=None):\n",
    "        self.name=name\n",
    "        self.age=age\n",
    "        self.weight=weight\n",
    "        self.doj=doj\n",
    "    def get(self):\n",
    "        return self.name,self.age,self.weight,self.company_name,self.company_address,self.doj\n",
    "jay=Emp(\"JAYARAM\",\"2016-03-01\",2.3,13)\n",
    "vedha = Emp(name=\"vedhanvesh\",doj=\"2017-03-01\")\n",
    "sai=Emp(\"Sailaxmi\",\"2018-03-01\")\n",
    "print(sai.get())\n",
    "print(jay.get())\n",
    "print(vedha.get())"
   ]
  },
  {
   "cell_type": "code",
   "execution_count": 24,
   "metadata": {},
   "outputs": [
    {
     "name": "stdout",
     "output_type": "stream",
     "text": [
      "('Sailaxmi', None, None, 'KHYAATHI', 'Maithrivanam', '2018-03-01')\n",
      "('JAYARAM', 2.3, 13, 'KHYAATHI', 'Maithrivanam', None)\n",
      "('vedhanvesh', None, None, 'KHYAATHI', 'Maithrivanam', '2017-03-01')\n"
     ]
    }
   ],
   "source": [
    "# databinding\n",
    "class Emp:\n",
    "    company_name=\"KHYAATHI\"\n",
    "    company_address=\"Maithrivanam\"\n",
    "    def __init__(self,name,doj,age=None,weight=None):\n",
    "        self.name=name\n",
    "        self.age=age\n",
    "        self.weight=weight\n",
    "        self.doj=doj\n",
    "    def get(self):\n",
    "        return self.name,self.age,self.weight,self.company_name,self.company_address,self.doj\n",
    "jay=Emp(\"JAYARAM\",\"2016-03-01\",2.3,13)\n",
    "vedha = Emp(name=\"vedhanvesh\",doj=\"2017-03-01\")\n",
    "sai=Emp(\"Sailaxmi\",\"2018-03-01\")\n",
    "jay.doj=None\n",
    "print(sai.get())\n",
    "print(jay.get())\n",
    "print(vedha.get())"
   ]
  },
  {
   "cell_type": "code",
   "execution_count": 25,
   "metadata": {},
   "outputs": [
    {
     "name": "stdout",
     "output_type": "stream",
     "text": [
      "('Sailaxmi', None, None, 'KHYAATHI', 'Maithrivanam', '2018-03-01')\n",
      "('JAYARAM', 2.3, 13, 'KHYAATHI', 'Maithrivanam', '2016-03-01')\n",
      "('vedhanvesh', None, None, 'KHYAATHI', 'Maithrivanam', '2017-03-01')\n"
     ]
    }
   ],
   "source": [
    "# encapsulation\n",
    "class Emp:\n",
    "    company_name=\"KHYAATHI\"\n",
    "    company_address=\"Maithrivanam\"\n",
    "    def __init__(self,name,doj,age=None,weight=None):\n",
    "        self.name=name\n",
    "        self.age=age\n",
    "        self.weight=weight\n",
    "        self.__doj=doj   #__doj it's a secured attribute\n",
    "    def get(self):\n",
    "        return self.name,self.age,self.weight,self.company_name,self.company_address,self.__doj\n",
    "jay=Emp(\"JAYARAM\",\"2016-03-01\",2.3,13)\n",
    "vedha = Emp(name=\"vedhanvesh\",doj=\"2017-03-01\")\n",
    "sai=Emp(\"Sailaxmi\",\"2018-03-01\")\n",
    "jay.__doj=None\n",
    "print(sai.get())\n",
    "print(jay.get())\n",
    "print(vedha.get())"
   ]
  },
  {
   "cell_type": "code",
   "execution_count": 26,
   "metadata": {},
   "outputs": [
    {
     "name": "stdout",
     "output_type": "stream",
     "text": [
      "('Sailaxmi', None, None, 'KHYAATHI', 'Maithrivanam', '2018-03-01')\n",
      "('JAYARAM', 2.3, 13, 'KHYAATHI', 'Maithrivanam', None)\n",
      "('vedhanvesh', None, None, 'KHYAATHI', 'Maithrivanam', '2017-03-01')\n"
     ]
    }
   ],
   "source": [
    "# encapsulation\n",
    "class Emp:\n",
    "    company_name=\"KHYAATHI\"\n",
    "    company_address=\"Maithrivanam\"\n",
    "    def __init__(self,name,doj,age=None,weight=None):\n",
    "        self.name=name\n",
    "        self.age=age\n",
    "        self.weight=weight\n",
    "        self.__doj=doj   #__doj it's a secured attribute\n",
    "    def change_doj(self,new_doj):\n",
    "        self.__doj=new_doj\n",
    "    def get(self):\n",
    "        return self.name,self.age,self.weight,self.company_name,self.company_address,self.__doj\n",
    "jay=Emp(\"JAYARAM\",\"2016-03-01\",2.3,13)\n",
    "vedha = Emp(name=\"vedhanvesh\",doj=\"2017-03-01\")\n",
    "sai=Emp(\"Sailaxmi\",\"2018-03-01\")\n",
    "jay.change_doj(None)\n",
    "print(sai.get())\n",
    "print(jay.get())\n",
    "print(vedha.get())"
   ]
  },
  {
   "cell_type": "code",
   "execution_count": 27,
   "metadata": {},
   "outputs": [
    {
     "ename": "AttributeError",
     "evalue": "'Emp' object has no attribute '__change_doj'",
     "output_type": "error",
     "traceback": [
      "\u001b[1;31m---------------------------------------------------------------------------\u001b[0m",
      "\u001b[1;31mAttributeError\u001b[0m                            Traceback (most recent call last)",
      "\u001b[1;32m<ipython-input-27-886692a72296>\u001b[0m in \u001b[0;36m<module>\u001b[1;34m()\u001b[0m\n\u001b[0;32m     15\u001b[0m \u001b[0mvedha\u001b[0m \u001b[1;33m=\u001b[0m \u001b[0mEmp\u001b[0m\u001b[1;33m(\u001b[0m\u001b[0mname\u001b[0m\u001b[1;33m=\u001b[0m\u001b[1;34m\"vedhanvesh\"\u001b[0m\u001b[1;33m,\u001b[0m\u001b[0mdoj\u001b[0m\u001b[1;33m=\u001b[0m\u001b[1;34m\"2017-03-01\"\u001b[0m\u001b[1;33m)\u001b[0m\u001b[1;33m\u001b[0m\u001b[0m\n\u001b[0;32m     16\u001b[0m \u001b[0msai\u001b[0m\u001b[1;33m=\u001b[0m\u001b[0mEmp\u001b[0m\u001b[1;33m(\u001b[0m\u001b[1;34m\"Sailaxmi\"\u001b[0m\u001b[1;33m,\u001b[0m\u001b[1;34m\"2018-03-01\"\u001b[0m\u001b[1;33m)\u001b[0m\u001b[1;33m\u001b[0m\u001b[0m\n\u001b[1;32m---> 17\u001b[1;33m \u001b[0mjay\u001b[0m\u001b[1;33m.\u001b[0m\u001b[0m__change_doj\u001b[0m\u001b[1;33m(\u001b[0m\u001b[1;32mNone\u001b[0m\u001b[1;33m)\u001b[0m\u001b[1;33m\u001b[0m\u001b[0m\n\u001b[0m\u001b[0;32m     18\u001b[0m \u001b[0mprint\u001b[0m\u001b[1;33m(\u001b[0m\u001b[0msai\u001b[0m\u001b[1;33m.\u001b[0m\u001b[0mget\u001b[0m\u001b[1;33m(\u001b[0m\u001b[1;33m)\u001b[0m\u001b[1;33m)\u001b[0m\u001b[1;33m\u001b[0m\u001b[0m\n\u001b[0;32m     19\u001b[0m \u001b[0mprint\u001b[0m\u001b[1;33m(\u001b[0m\u001b[0mjay\u001b[0m\u001b[1;33m.\u001b[0m\u001b[0mget\u001b[0m\u001b[1;33m(\u001b[0m\u001b[1;33m)\u001b[0m\u001b[1;33m)\u001b[0m\u001b[1;33m\u001b[0m\u001b[0m\n",
      "\u001b[1;31mAttributeError\u001b[0m: 'Emp' object has no attribute '__change_doj'"
     ]
    }
   ],
   "source": [
    "# encapsulation\n",
    "class Emp:\n",
    "    company_name=\"KHYAATHI\"\n",
    "    company_address=\"Maithrivanam\"\n",
    "    def __init__(self,name,doj,age=None,weight=None):\n",
    "        self.name=name\n",
    "        self.age=age\n",
    "        self.weight=weight\n",
    "        self.__doj=doj   #__doj it's a secured attribute\n",
    "    def __change_doj(self,new_doj):\n",
    "        #autherization\n",
    "        self.__doj=new_doj\n",
    "    def get(self):\n",
    "        return self.name,self.age,self.weight,self.company_name,self.company_address,self.__doj\n",
    "jay=Emp(\"JAYARAM\",\"2016-03-01\",2.3,13)\n",
    "vedha = Emp(name=\"vedhanvesh\",doj=\"2017-03-01\")\n",
    "sai=Emp(\"Sailaxmi\",\"2018-03-01\")\n",
    "jay.__change_doj(None)\n",
    "print(sai.get())\n",
    "print(jay.get())\n",
    "print(vedha.get())"
   ]
  },
  {
   "cell_type": "code",
   "execution_count": 30,
   "metadata": {},
   "outputs": [
    {
     "name": "stdout",
     "output_type": "stream",
     "text": [
      "You dont have permission to do this operation\n",
      "('Sailaxmi', None, None, 'KHYAATHI', 'Maithrivanam', '2018-03-01')\n",
      "('JAYARAM', 2.3, 13, 'KHYAATHI', 'Maithrivanam', '2016-03-01')\n",
      "('vedhanvesh', None, None, 'KHYAATHI', 'Maithrivanam', '2017-03-01')\n"
     ]
    }
   ],
   "source": [
    "# encapsulation\n",
    "class Emp:\n",
    "    company_name=\"KHYAATHI\"\n",
    "    company_address=\"Maithrivanam\"\n",
    "    def __init__(self,name,doj,age=None,weight=None,role=\"EMP\"):\n",
    "        self.name=name\n",
    "        self.age=age\n",
    "        self.weight=weight\n",
    "        self.role=role\n",
    "        self.__doj=doj   #__doj it's a secured attribute\n",
    "    def change_doj(self,new_doj):\n",
    "        #autherization\n",
    "        if self.role==\"EMP\":\n",
    "            return \"You dont have permission to do this operation\"\n",
    "        self.__doj=new_doj\n",
    "    def get(self):\n",
    "        return self.name,self.age,self.weight,self.company_name,self.company_address,self.__doj\n",
    "jay=Emp(\"JAYARAM\",\"2016-03-01\",2.3,13)\n",
    "vedha = Emp(name=\"vedhanvesh\",doj=\"2017-03-01\",role=\"Manager\")\n",
    "sai=Emp(\"Sailaxmi\",\"2018-03-01\")\n",
    "print(jay.change_doj(None))\n",
    "print(sai.get())\n",
    "print(jay.get())\n",
    "print(vedha.get())\n"
   ]
  },
  {
   "cell_type": "code",
   "execution_count": 33,
   "metadata": {},
   "outputs": [
    {
     "name": "stdout",
     "output_type": "stream",
     "text": [
      "You dont have permission to do this operation\n",
      "('Sailaxmi', None, None, 'KHYAATHI', 'Maithrivanam', '2018-03-01')\n",
      "('JAYARAM', 2.3, 13, 'KHYAATHI', 'Maithrivanam', '2016-03-01')\n",
      "('vedhanvesh', None, None, 'KHYAATHI', 'Maithrivanam', None)\n"
     ]
    }
   ],
   "source": [
    "# encapsulation\n",
    "class Emp:\n",
    "    company_name=\"KHYAATHI\"\n",
    "    company_address=\"Maithrivanam\"\n",
    "    def __init__(self,name,doj,age=None,weight=None,role=\"EMP\"):\n",
    "        self.name=name\n",
    "        self.age=age\n",
    "        self.weight=weight\n",
    "        self.role=role\n",
    "        self.__doj=doj   #__doj it's a secured attribute\n",
    "    def change_doj(self,new_doj):\n",
    "        #autherization\n",
    "        if self.role==\"EMP\":\n",
    "            return \"You dont have permission to do this operation\"\n",
    "        self.__change(new_doj)\n",
    "    def __change(self,doj):\n",
    "        self.__doj=doj\n",
    "        \n",
    "    def get(self):\n",
    "        return self.name,self.age,self.weight,self.company_name,self.company_address,self.__doj\n",
    "jay=Emp(\"JAYARAM\",\"2016-03-01\",2.3,13)\n",
    "vedha = Emp(name=\"vedhanvesh\",doj=\"2017-03-01\",role=\"Manager\")\n",
    "sai=Emp(\"Sailaxmi\",\"2018-03-01\")\n",
    "print(jay.change_doj(None))\n",
    "vedha.change_doj(None)\n",
    "print(sai.get())\n",
    "print(jay.get())\n",
    "print(vedha.get())\n"
   ]
  },
  {
   "cell_type": "code",
   "execution_count": null,
   "metadata": {},
   "outputs": [],
   "source": [
    "# class is a keyword, which can be helps to construct my own datatype.\n",
    "class Emp:\n",
    "    company_name=\"KHYAATHI\"\n",
    "    company_address=\"Maithrivanam\"\n",
    "    def __init__(self,name,doj,age=None,weight=None,role=\"EMP\"):\n",
    "        self.name=name\n",
    "        self.age=age\n",
    "        self.weight=weight\n",
    "        self.role=role\n",
    "        self.__doj=doj   #__doj it's a secured attribute\n",
    "    def get(self):\n",
    "        return self.name,self.age,self.weight,self.company_name,self.company_address,self.__doj\n",
    "jay=Emp(\"JAYARAM\",\"2016-03-01\",2.3,13)\n",
    "vedha = Emp(name=\"vedhanvesh\",doj=\"2017-03-01\",role=\"Manager\")\n",
    "sai=Emp(\"Sailaxmi\",\"2018-03-01\")"
   ]
  },
  {
   "cell_type": "code",
   "execution_count": 34,
   "metadata": {},
   "outputs": [],
   "source": [
    "#datatypes\n",
    "a=100\n",
    "b=200"
   ]
  },
  {
   "cell_type": "code",
   "execution_count": 35,
   "metadata": {},
   "outputs": [],
   "source": [
    "l=[1,2,3,4]"
   ]
  },
  {
   "cell_type": "code",
   "execution_count": 36,
   "metadata": {},
   "outputs": [
    {
     "ename": "TypeError",
     "evalue": "unsupported operand type(s) for +: 'Emp' and 'Emp'",
     "output_type": "error",
     "traceback": [
      "\u001b[1;31m---------------------------------------------------------------------------\u001b[0m",
      "\u001b[1;31mTypeError\u001b[0m                                 Traceback (most recent call last)",
      "\u001b[1;32m<ipython-input-36-71ef14e58d9a>\u001b[0m in \u001b[0;36m<module>\u001b[1;34m()\u001b[0m\n\u001b[0;32m     14\u001b[0m \u001b[0mvedha\u001b[0m \u001b[1;33m=\u001b[0m \u001b[0mEmp\u001b[0m\u001b[1;33m(\u001b[0m\u001b[0mname\u001b[0m\u001b[1;33m=\u001b[0m\u001b[1;34m\"vedhanvesh\"\u001b[0m\u001b[1;33m,\u001b[0m\u001b[0mdoj\u001b[0m\u001b[1;33m=\u001b[0m\u001b[1;34m\"2017-03-01\"\u001b[0m\u001b[1;33m,\u001b[0m\u001b[0mrole\u001b[0m\u001b[1;33m=\u001b[0m\u001b[1;34m\"Manager\"\u001b[0m\u001b[1;33m)\u001b[0m\u001b[1;33m\u001b[0m\u001b[0m\n\u001b[0;32m     15\u001b[0m \u001b[0msai\u001b[0m\u001b[1;33m=\u001b[0m\u001b[0mEmp\u001b[0m\u001b[1;33m(\u001b[0m\u001b[1;34m\"Sailaxmi\"\u001b[0m\u001b[1;33m,\u001b[0m\u001b[1;34m\"2018-03-01\"\u001b[0m\u001b[1;33m)\u001b[0m\u001b[1;33m\u001b[0m\u001b[0m\n\u001b[1;32m---> 16\u001b[1;33m \u001b[0msai\u001b[0m\u001b[1;33m+\u001b[0m\u001b[0mvedha\u001b[0m\u001b[1;33m\u001b[0m\u001b[0m\n\u001b[0m",
      "\u001b[1;31mTypeError\u001b[0m: unsupported operand type(s) for +: 'Emp' and 'Emp'"
     ]
    }
   ],
   "source": [
    "# class is a keyword, which can be helps to construct my own datatype.\n",
    "class Emp:\n",
    "    company_name=\"KHYAATHI\"\n",
    "    company_address=\"Maithrivanam\"\n",
    "    def __init__(self,name,doj,age=None,weight=None,role=\"EMP\"):\n",
    "        self.name=name\n",
    "        self.age=age\n",
    "        self.weight=weight\n",
    "        self.role=role\n",
    "        self.__doj=doj   #__doj it's a secured attribute\n",
    "    def get(self):\n",
    "        return self.name,self.age,self.weight,self.company_name,self.company_address,self.__doj\n",
    "jay=Emp(\"JAYARAM\",\"2016-03-01\",2.3,13)\n",
    "vedha = Emp(name=\"vedhanvesh\",doj=\"2017-03-01\",role=\"Manager\")\n",
    "sai=Emp(\"Sailaxmi\",\"2018-03-01\")\n",
    "sai+vedha"
   ]
  },
  {
   "cell_type": "code",
   "execution_count": 37,
   "metadata": {},
   "outputs": [
    {
     "data": {
      "text/plain": [
       "__main__.Emp"
      ]
     },
     "execution_count": 37,
     "metadata": {},
     "output_type": "execute_result"
    }
   ],
   "source": [
    "type(sai)"
   ]
  },
  {
   "cell_type": "code",
   "execution_count": 38,
   "metadata": {},
   "outputs": [
    {
     "data": {
      "text/plain": [
       "True"
      ]
     },
     "execution_count": 38,
     "metadata": {},
     "output_type": "execute_result"
    }
   ],
   "source": [
    "isinstance(10,int)"
   ]
  },
  {
   "cell_type": "code",
   "execution_count": 40,
   "metadata": {},
   "outputs": [
    {
     "data": {
      "text/plain": [
       "True"
      ]
     },
     "execution_count": 40,
     "metadata": {},
     "output_type": "execute_result"
    }
   ],
   "source": [
    "isinstance(sai,Emp)"
   ]
  },
  {
   "cell_type": "code",
   "execution_count": 41,
   "metadata": {},
   "outputs": [
    {
     "data": {
      "text/plain": [
       "False"
      ]
     },
     "execution_count": 41,
     "metadata": {},
     "output_type": "execute_result"
    }
   ],
   "source": [
    "isinstance(sai,int)"
   ]
  },
  {
   "cell_type": "code",
   "execution_count": 42,
   "metadata": {},
   "outputs": [],
   "source": [
    "a=100\n",
    "b=200"
   ]
  },
  {
   "cell_type": "code",
   "execution_count": 43,
   "metadata": {},
   "outputs": [
    {
     "data": {
      "text/plain": [
       "300"
      ]
     },
     "execution_count": 43,
     "metadata": {},
     "output_type": "execute_result"
    }
   ],
   "source": [
    "a+b"
   ]
  },
  {
   "cell_type": "code",
   "execution_count": 44,
   "metadata": {},
   "outputs": [
    {
     "ename": "TypeError",
     "evalue": "unsupported operand type(s) for +: 'dict' and 'dict'",
     "output_type": "error",
     "traceback": [
      "\u001b[1;31m---------------------------------------------------------------------------\u001b[0m",
      "\u001b[1;31mTypeError\u001b[0m                                 Traceback (most recent call last)",
      "\u001b[1;32m<ipython-input-44-1bda8da8c77c>\u001b[0m in \u001b[0;36m<module>\u001b[1;34m()\u001b[0m\n\u001b[0;32m      1\u001b[0m \u001b[0md1\u001b[0m\u001b[1;33m=\u001b[0m\u001b[1;33m{\u001b[0m\u001b[1;36m1\u001b[0m\u001b[1;33m:\u001b[0m\u001b[1;36m2\u001b[0m\u001b[1;33m}\u001b[0m\u001b[1;33m\u001b[0m\u001b[0m\n\u001b[0;32m      2\u001b[0m \u001b[0md2\u001b[0m\u001b[1;33m=\u001b[0m\u001b[1;33m{\u001b[0m\u001b[1;36m3\u001b[0m\u001b[1;33m:\u001b[0m\u001b[1;36m4\u001b[0m\u001b[1;33m}\u001b[0m\u001b[1;33m\u001b[0m\u001b[0m\n\u001b[1;32m----> 3\u001b[1;33m \u001b[0md1\u001b[0m\u001b[1;33m+\u001b[0m\u001b[0md2\u001b[0m\u001b[1;33m\u001b[0m\u001b[0m\n\u001b[0m",
      "\u001b[1;31mTypeError\u001b[0m: unsupported operand type(s) for +: 'dict' and 'dict'"
     ]
    }
   ],
   "source": [
    "d1={1:2}\n",
    "d2={3:4}\n",
    "d1+d2"
   ]
  },
  {
   "cell_type": "code",
   "execution_count": 45,
   "metadata": {},
   "outputs": [
    {
     "name": "stdout",
     "output_type": "stream",
     "text": [
      "s\n",
      "d\n",
      "f\n",
      "d\n",
      "s\n",
      "f\n"
     ]
    }
   ],
   "source": [
    "for i in \"sdfdsf\":\n",
    "    print(i)"
   ]
  },
  {
   "cell_type": "code",
   "execution_count": 46,
   "metadata": {},
   "outputs": [
    {
     "ename": "TypeError",
     "evalue": "'int' object is not iterable",
     "output_type": "error",
     "traceback": [
      "\u001b[1;31m---------------------------------------------------------------------------\u001b[0m",
      "\u001b[1;31mTypeError\u001b[0m                                 Traceback (most recent call last)",
      "\u001b[1;32m<ipython-input-46-d84c485ddbc3>\u001b[0m in \u001b[0;36m<module>\u001b[1;34m()\u001b[0m\n\u001b[1;32m----> 1\u001b[1;33m \u001b[1;32mfor\u001b[0m \u001b[0mi\u001b[0m \u001b[1;32min\u001b[0m \u001b[1;36m1000\u001b[0m\u001b[1;33m:\u001b[0m\u001b[1;33m\u001b[0m\u001b[0m\n\u001b[0m\u001b[0;32m      2\u001b[0m     \u001b[0mprint\u001b[0m\u001b[1;33m(\u001b[0m\u001b[0mi\u001b[0m\u001b[1;33m)\u001b[0m\u001b[1;33m\u001b[0m\u001b[0m\n",
      "\u001b[1;31mTypeError\u001b[0m: 'int' object is not iterable"
     ]
    }
   ],
   "source": [
    "for i in 1000:\n",
    "    print(i)"
   ]
  },
  {
   "cell_type": "code",
   "execution_count": 48,
   "metadata": {},
   "outputs": [
    {
     "name": "stdout",
     "output_type": "stream",
     "text": [
      "10\n"
     ]
    }
   ],
   "source": [
    "# class is a keyword, which can be helps to construct my own datatype.\n",
    "class Emp:\n",
    "    company_name=\"KHYAATHI\"\n",
    "    company_address=\"Maithrivanam\"\n",
    "    def __init__(self,name,doj,age=None,weight=None,role=\"EMP\"):\n",
    "        self.name=name\n",
    "        self.age=age\n",
    "        self.weight=weight\n",
    "        self.role=role\n",
    "        self.__doj=doj   #__doj it's a secured attribute\n",
    "    def get(self):\n",
    "        return self.name,self.age,self.weight,self.company_name,self.company_address,self.__doj\n",
    "    def __add__(self1,self2):\n",
    "        return 10\n",
    "jay=Emp(\"JAYARAM\",\"2016-03-01\",2.3,13)\n",
    "vedha = Emp(name=\"vedhanvesh\",doj=\"2017-03-01\",role=\"Manager\")\n",
    "sai=Emp(\"Sailaxmi\",\"2018-03-01\")\n",
    "print(sai+vedha)"
   ]
  },
  {
   "cell_type": "code",
   "execution_count": 50,
   "metadata": {},
   "outputs": [
    {
     "name": "stdout",
     "output_type": "stream",
     "text": [
      "('Sailaxmi', 'vedhanvesh')\n"
     ]
    }
   ],
   "source": [
    "# class is a keyword, which can be helps to construct my own datatype.\n",
    "class Emp:\n",
    "    company_name=\"KHYAATHI\"\n",
    "    company_address=\"Maithrivanam\"\n",
    "    def __init__(self,name,doj,age=None,weight=None,role=\"EMP\"):\n",
    "        self.name=name\n",
    "        self.age=age\n",
    "        self.weight=weight\n",
    "        self.role=role\n",
    "        self.__doj=doj   #__doj it's a secured attribute\n",
    "    def get(self):\n",
    "        return self.name,self.age,self.weight,self.company_name,self.company_address,self.__doj\n",
    "    def __add__(self1,self2):\n",
    "        return self1.name,self2.name\n",
    "jay=Emp(\"JAYARAM\",\"2016-03-01\",2.3,13)\n",
    "vedha = Emp(name=\"vedhanvesh\",doj=\"2017-03-01\",role=\"Manager\")\n",
    "sai=Emp(\"Sailaxmi\",\"2018-03-01\")\n",
    "print(sai+vedha)"
   ]
  },
  {
   "cell_type": "code",
   "execution_count": 51,
   "metadata": {},
   "outputs": [
    {
     "name": "stdout",
     "output_type": "stream",
     "text": [
      "('Sailaxmi', 'vedhanvesh')\n"
     ]
    },
    {
     "ename": "TypeError",
     "evalue": "object of type 'Emp' has no len()",
     "output_type": "error",
     "traceback": [
      "\u001b[1;31m---------------------------------------------------------------------------\u001b[0m",
      "\u001b[1;31mTypeError\u001b[0m                                 Traceback (most recent call last)",
      "\u001b[1;32m<ipython-input-51-a991fd65760e>\u001b[0m in \u001b[0;36m<module>\u001b[1;34m()\u001b[0m\n\u001b[0;32m     17\u001b[0m \u001b[0msai\u001b[0m\u001b[1;33m=\u001b[0m\u001b[0mEmp\u001b[0m\u001b[1;33m(\u001b[0m\u001b[1;34m\"Sailaxmi\"\u001b[0m\u001b[1;33m,\u001b[0m\u001b[1;34m\"2018-03-01\"\u001b[0m\u001b[1;33m)\u001b[0m\u001b[1;33m\u001b[0m\u001b[0m\n\u001b[0;32m     18\u001b[0m \u001b[0mprint\u001b[0m\u001b[1;33m(\u001b[0m\u001b[0msai\u001b[0m\u001b[1;33m+\u001b[0m\u001b[0mvedha\u001b[0m\u001b[1;33m)\u001b[0m\u001b[1;33m\u001b[0m\u001b[0m\n\u001b[1;32m---> 19\u001b[1;33m \u001b[0mprint\u001b[0m\u001b[1;33m(\u001b[0m\u001b[0mlen\u001b[0m\u001b[1;33m(\u001b[0m\u001b[0msai\u001b[0m\u001b[1;33m)\u001b[0m\u001b[1;33m)\u001b[0m\u001b[1;33m\u001b[0m\u001b[0m\n\u001b[0m",
      "\u001b[1;31mTypeError\u001b[0m: object of type 'Emp' has no len()"
     ]
    }
   ],
   "source": [
    "# class is a keyword, which can be helps to construct my own datatype.\n",
    "class Emp:\n",
    "    company_name=\"KHYAATHI\"\n",
    "    company_address=\"Maithrivanam\"\n",
    "    def __init__(self,name,doj,age=None,weight=None,role=\"EMP\"):\n",
    "        self.name=name\n",
    "        self.age=age\n",
    "        self.weight=weight\n",
    "        self.role=role\n",
    "        self.__doj=doj   #__doj it's a secured attribute\n",
    "    def get(self):\n",
    "        return self.name,self.age,self.weight,self.company_name,self.company_address,self.__doj\n",
    "    def __add__(self1,self2):\n",
    "        return self1.name,self2.name\n",
    "jay=Emp(\"JAYARAM\",\"2016-03-01\",2.3,13)\n",
    "vedha = Emp(name=\"vedhanvesh\",doj=\"2017-03-01\",role=\"Manager\")\n",
    "sai=Emp(\"Sailaxmi\",\"2018-03-01\")\n",
    "print(sai+vedha)\n",
    "print(len(sai))"
   ]
  },
  {
   "cell_type": "code",
   "execution_count": 52,
   "metadata": {},
   "outputs": [
    {
     "name": "stdout",
     "output_type": "stream",
     "text": [
      "('Sailaxmi', 'vedhanvesh')\n",
      "20\n"
     ]
    }
   ],
   "source": [
    "# class is a keyword, which can be helps to construct my own datatype.\n",
    "class Emp:\n",
    "    company_name=\"KHYAATHI\"\n",
    "    company_address=\"Maithrivanam\"\n",
    "    def __init__(self,name,doj,age=None,weight=None,role=\"EMP\"):\n",
    "        self.name=name\n",
    "        self.age=age\n",
    "        self.weight=weight\n",
    "        self.role=role\n",
    "        self.__doj=doj   #__doj it's a secured attribute\n",
    "    def get(self):\n",
    "        return self.name,self.age,self.weight,self.company_name,self.company_address,self.__doj\n",
    "    def __add__(self1,self2):\n",
    "        return self1.name,self2.name\n",
    "    def __len__(self):\n",
    "        return 20\n",
    "jay=Emp(\"JAYARAM\",\"2016-03-01\",2.3,13)\n",
    "vedha = Emp(name=\"vedhanvesh\",doj=\"2017-03-01\",role=\"Manager\")\n",
    "sai=Emp(\"Sailaxmi\",\"2018-03-01\")\n",
    "print(sai+vedha)\n",
    "print(len(sai))"
   ]
  },
  {
   "cell_type": "code",
   "execution_count": 53,
   "metadata": {},
   "outputs": [
    {
     "name": "stdout",
     "output_type": "stream",
     "text": [
      "('Sailaxmi', 'vedhanvesh')\n",
      "5\n"
     ]
    }
   ],
   "source": [
    "# class is a keyword, which can be helps to construct my own datatype.\n",
    "class Emp:\n",
    "    company_name=\"KHYAATHI\"\n",
    "    company_address=\"Maithrivanam\"\n",
    "    def __init__(self,name,doj,age=None,weight=None,role=\"EMP\"):\n",
    "        self.name=name\n",
    "        self.age=age\n",
    "        self.weight=weight\n",
    "        self.role=role\n",
    "        self.__doj=doj   #__doj it's a secured attribute\n",
    "    def get(self):\n",
    "        return self.name,self.age,self.weight,self.company_name,self.company_address,self.__doj\n",
    "    def __add__(self1,self2):\n",
    "        return self1.name,self2.name\n",
    "    def __len__(self):\n",
    "        return len(self.__dict__)a\n",
    "jay=Emp(\"JAYARAM\",\"2016-03-01\",2.3,13)\n",
    "vedha = Emp(name=\"vedhanvesh\",doj=\"2017-03-01\",role=\"Manager\")\n",
    "sai=Emp(\"Sailaxmi\",\"2018-03-01\")\n",
    "print(sai+vedha)\n",
    "print(len(sai))"
   ]
  },
  {
   "cell_type": "code",
   "execution_count": 54,
   "metadata": {},
   "outputs": [
    {
     "data": {
      "text/plain": [
       "{'name': 'Sailaxmi',\n",
       " 'age': None,\n",
       " 'weight': None,\n",
       " 'role': 'EMP',\n",
       " '_Emp__doj': '2018-03-01'}"
      ]
     },
     "execution_count": 54,
     "metadata": {},
     "output_type": "execute_result"
    }
   ],
   "source": [
    "sai.__dict__"
   ]
  },
  {
   "cell_type": "code",
   "execution_count": 57,
   "metadata": {},
   "outputs": [
    {
     "name": "stdout",
     "output_type": "stream",
     "text": [
      "('Sailaxmi', 'vedhanvesh')\n",
      "5\n"
     ]
    },
    {
     "ename": "TypeError",
     "evalue": "'Emp' object is not iterable",
     "output_type": "error",
     "traceback": [
      "\u001b[1;31m---------------------------------------------------------------------------\u001b[0m",
      "\u001b[1;31mTypeError\u001b[0m                                 Traceback (most recent call last)",
      "\u001b[1;32m<ipython-input-57-58d59b492f07>\u001b[0m in \u001b[0;36m<module>\u001b[1;34m()\u001b[0m\n\u001b[0;32m     20\u001b[0m \u001b[0mprint\u001b[0m\u001b[1;33m(\u001b[0m\u001b[0msai\u001b[0m\u001b[1;33m+\u001b[0m\u001b[0mvedha\u001b[0m\u001b[1;33m)\u001b[0m\u001b[1;33m\u001b[0m\u001b[0m\n\u001b[0;32m     21\u001b[0m \u001b[0mprint\u001b[0m\u001b[1;33m(\u001b[0m\u001b[0mlen\u001b[0m\u001b[1;33m(\u001b[0m\u001b[0msai\u001b[0m\u001b[1;33m)\u001b[0m\u001b[1;33m)\u001b[0m\u001b[1;33m\u001b[0m\u001b[0m\n\u001b[1;32m---> 22\u001b[1;33m \u001b[1;32mfor\u001b[0m \u001b[0mi\u001b[0m \u001b[1;32min\u001b[0m \u001b[0msai\u001b[0m\u001b[1;33m:\u001b[0m\u001b[1;33m\u001b[0m\u001b[0m\n\u001b[0m\u001b[0;32m     23\u001b[0m     \u001b[0mprint\u001b[0m\u001b[1;33m(\u001b[0m\u001b[0mi\u001b[0m\u001b[1;33m)\u001b[0m\u001b[1;33m\u001b[0m\u001b[0m\n",
      "\u001b[1;31mTypeError\u001b[0m: 'Emp' object is not iterable"
     ]
    }
   ],
   "source": [
    "# class is a keyword, which can be helps to construct my own datatype.\n",
    "class Emp:\n",
    "    company_name=\"KHYAATHI\"\n",
    "    company_address=\"Maithrivanam\"\n",
    "    def __init__(self,name,doj,age=None,weight=None,role=\"EMP\"):\n",
    "        self.name=name\n",
    "        self.age=age\n",
    "        self.weight=weight\n",
    "        self.role=role\n",
    "        self.__doj=doj   #__doj it's a secured attribute\n",
    "    def get(self):\n",
    "        return self.name,self.age,self.weight,self.company_name,self.company_address,self.__doj\n",
    "    def __add__(self1,self2):\n",
    "        return self1.name,self2.name\n",
    "    def __len__(self):\n",
    "        return len(self.__dict__)\n",
    "jay=Emp(\"JAYARAM\",\"2016-03-01\",2.3,13)\n",
    "vedha = Emp(name=\"vedhanvesh\",doj=\"2017-03-01\",role=\"Manager\")\n",
    "sai=Emp(\"Sailaxmi\",\"2018-03-01\")\n",
    "print(sai+vedha)\n",
    "print(len(sai))\n",
    "for i in sai:\n",
    "    print(i)"
   ]
  },
  {
   "cell_type": "code",
   "execution_count": 58,
   "metadata": {},
   "outputs": [
    {
     "name": "stdout",
     "output_type": "stream",
     "text": [
      "('Sailaxmi', 'vedhanvesh')\n",
      "5\n",
      "10\n",
      "20\n",
      "30\n"
     ]
    }
   ],
   "source": [
    "# class is a keyword, which can be helps to construct my own datatype.\n",
    "class Emp:\n",
    "    company_name=\"KHYAATHI\"\n",
    "    company_address=\"Maithrivanam\"\n",
    "    def __init__(self,name,doj,age=None,weight=None,role=\"EMP\"):\n",
    "        self.name=name\n",
    "        self.age=age\n",
    "        self.weight=weight\n",
    "        self.role=role\n",
    "        self.__doj=doj   #__doj it's a secured attribute\n",
    "    def get(self):\n",
    "        return self.name,self.age,self.weight,self.company_name,self.company_address,self.__doj\n",
    "    def __add__(self1,self2):\n",
    "        return self1.name,self2.name\n",
    "    def __len__(self):\n",
    "        return len(self.__dict__)\n",
    "    def __iter__(self):\n",
    "        yield 10\n",
    "        yield 20\n",
    "        yield 30\n",
    "jay=Emp(\"JAYARAM\",\"2016-03-01\",2.3,13)\n",
    "vedha = Emp(name=\"vedhanvesh\",doj=\"2017-03-01\",role=\"Manager\")\n",
    "sai=Emp(\"Sailaxmi\",\"2018-03-01\")\n",
    "print(sai+vedha)\n",
    "print(len(sai))\n",
    "for i in sai:\n",
    "    print(i)"
   ]
  },
  {
   "cell_type": "code",
   "execution_count": 59,
   "metadata": {},
   "outputs": [
    {
     "name": "stdout",
     "output_type": "stream",
     "text": [
      "('Sailaxmi', 'vedhanvesh')\n",
      "5\n",
      "name\n",
      "age\n",
      "weight\n",
      "role\n",
      "_Emp__doj\n"
     ]
    }
   ],
   "source": [
    "# class is a keyword, which can be helps to construct my own datatype.\n",
    "class Emp:\n",
    "    company_name=\"KHYAATHI\"\n",
    "    company_address=\"Maithrivanam\"\n",
    "    def __init__(self,name,doj,age=None,weight=None,role=\"EMP\"):\n",
    "        self.name=name\n",
    "        self.age=age\n",
    "        self.weight=weight\n",
    "        self.role=role\n",
    "        self.__doj=doj   #__doj it's a secured attribute\n",
    "    def get(self):\n",
    "        return self.name,self.age,self.weight,self.company_name,self.company_address,self.__doj\n",
    "    def __add__(self1,self2):\n",
    "        return self1.name,self2.name\n",
    "    def __len__(self):\n",
    "        return len(self.__dict__)\n",
    "    def __iter__(self):\n",
    "        for i in self.__dict__.keys():\n",
    "            yield i\n",
    "jay=Emp(\"JAYARAM\",\"2016-03-01\",2.3,13)\n",
    "vedha = Emp(name=\"vedhanvesh\",doj=\"2017-03-01\",role=\"Manager\")\n",
    "sai=Emp(\"Sailaxmi\",\"2018-03-01\")\n",
    "print(sai+vedha)\n",
    "print(len(sai))\n",
    "for i in sai:\n",
    "    print(i)"
   ]
  },
  {
   "cell_type": "code",
   "execution_count": 61,
   "metadata": {},
   "outputs": [
    {
     "name": "stdout",
     "output_type": "stream",
     "text": [
      "('Sailaxmi', 'vedhanvesh')\n",
      "5\n",
      "('name', 'Sailaxmi')\n",
      "('age', None)\n",
      "('weight', None)\n",
      "('role', 'EMP')\n",
      "('_Emp__doj', '2018-03-01')\n"
     ]
    }
   ],
   "source": [
    "# class is a keyword, which can be helps to construct my own datatype.\n",
    "class Emp:\n",
    "    company_name=\"KHYAATHI\"\n",
    "    company_address=\"Maithrivanam\"\n",
    "    def __init__(self,name,doj,age=None,weight=None,role=\"EMP\"):\n",
    "        self.name=name\n",
    "        self.age=age\n",
    "        self.weight=weight\n",
    "        self.role=role\n",
    "        self.__doj=doj   #__doj it's a secured attribute\n",
    "    def get(self):\n",
    "        return self.name,self.age,self.weight,self.company_name,self.company_address,self.__doj\n",
    "    def __add__(self1,self2):\n",
    "        return self1.name,self2.name\n",
    "    def __len__(self):\n",
    "        return len(self.__dict__)\n",
    "    def __iter__(self):\n",
    "        for i in self.__dict__.items():\n",
    "            yield i\n",
    "#method overloading\n",
    "jay=Emp(\"JAYARAM\",\"2016-03-01\",2.3,13)\n",
    "vedha = Emp(name=\"vedhanvesh\",doj=\"2017-03-01\",role=\"Manager\")\n",
    "sai=Emp(\"Sailaxmi\",\"2018-03-01\")\n",
    "#operator overloading\n",
    "print(sai+vedha)\n",
    "print(len(sai))\n",
    "for i in sai:\n",
    "    print(i)"
   ]
  },
  {
   "cell_type": "code",
   "execution_count": 62,
   "metadata": {},
   "outputs": [
    {
     "ename": "TypeError",
     "evalue": "fun1() missing 1 required positional argument: 'c'",
     "output_type": "error",
     "traceback": [
      "\u001b[1;31m---------------------------------------------------------------------------\u001b[0m",
      "\u001b[1;31mTypeError\u001b[0m                                 Traceback (most recent call last)",
      "\u001b[1;32m<ipython-input-62-e98d029123c9>\u001b[0m in \u001b[0;36m<module>\u001b[1;34m()\u001b[0m\n\u001b[0;32m      3\u001b[0m \u001b[1;32mdef\u001b[0m \u001b[0mfun1\u001b[0m\u001b[1;33m(\u001b[0m\u001b[0ma\u001b[0m\u001b[1;33m,\u001b[0m\u001b[0mb\u001b[0m\u001b[1;33m,\u001b[0m\u001b[0mc\u001b[0m\u001b[1;33m)\u001b[0m\u001b[1;33m:\u001b[0m\u001b[1;33m\u001b[0m\u001b[0m\n\u001b[0;32m      4\u001b[0m     \u001b[0mprint\u001b[0m\u001b[1;33m(\u001b[0m\u001b[0ma\u001b[0m\u001b[1;33m,\u001b[0m\u001b[0mb\u001b[0m\u001b[1;33m,\u001b[0m\u001b[0mc\u001b[0m\u001b[1;33m)\u001b[0m\u001b[1;33m\u001b[0m\u001b[0m\n\u001b[1;32m----> 5\u001b[1;33m \u001b[0mfun1\u001b[0m\u001b[1;33m(\u001b[0m\u001b[1;36m10\u001b[0m\u001b[1;33m,\u001b[0m\u001b[1;36m20\u001b[0m\u001b[1;33m)\u001b[0m\u001b[1;33m\u001b[0m\u001b[0m\n\u001b[0m",
      "\u001b[1;31mTypeError\u001b[0m: fun1() missing 1 required positional argument: 'c'"
     ]
    }
   ],
   "source": [
    "def fun1(a,b):\n",
    "    print(a,b)\n",
    "def fun1(a,b,c):\n",
    "    print(a,b,c)\n",
    "fun1(10,20)"
   ]
  },
  {
   "cell_type": "code",
   "execution_count": 64,
   "metadata": {},
   "outputs": [
    {
     "name": "stdout",
     "output_type": "stream",
     "text": [
      "this is op1 in c1\n",
      "this is op2 in c2\n"
     ]
    }
   ],
   "source": [
    "class c1:\n",
    "    def op1(self):\n",
    "        print(\"this is op1 in c1\")\n",
    "class c2:\n",
    "    def op2(self):\n",
    "        print(\"this is op2 in c2\")\n",
    "o1=c1()\n",
    "o1.op1()\n",
    "o2=c2()\n",
    "o2.op2()"
   ]
  },
  {
   "cell_type": "code",
   "execution_count": 66,
   "metadata": {},
   "outputs": [
    {
     "name": "stdout",
     "output_type": "stream",
     "text": [
      "100\n",
      "this is op1 in c1\n",
      "a= 100\n",
      "this is op2 in c2\n"
     ]
    }
   ],
   "source": [
    "class c1:\n",
    "    def __init__(self,a):\n",
    "        self.a=a\n",
    "    def op1(self):\n",
    "        print(self.a)\n",
    "        print(\"this is op1 in c1\")\n",
    "class c2:\n",
    "    def __init__(self,a):\n",
    "        self.a=a\n",
    "    def op2(self):\n",
    "        print(\"a=\",self.a)\n",
    "        print(\"this is op2 in c2\")\n",
    "o1=c1(100)\n",
    "o1.op1()\n",
    "o2=c2(100)\n",
    "o2.op2()"
   ]
  },
  {
   "cell_type": "code",
   "execution_count": 67,
   "metadata": {},
   "outputs": [
    {
     "name": "stdout",
     "output_type": "stream",
     "text": [
      "a= 100\n",
      "this is op2 in c2\n"
     ]
    },
    {
     "ename": "AttributeError",
     "evalue": "'c2' object has no attribute 'op1'",
     "output_type": "error",
     "traceback": [
      "\u001b[1;31m---------------------------------------------------------------------------\u001b[0m",
      "\u001b[1;31mAttributeError\u001b[0m                            Traceback (most recent call last)",
      "\u001b[1;32m<ipython-input-67-c7d56e4e5939>\u001b[0m in \u001b[0;36m<module>\u001b[1;34m()\u001b[0m\n\u001b[0;32m     13\u001b[0m \u001b[0mo2\u001b[0m\u001b[1;33m=\u001b[0m\u001b[0mc2\u001b[0m\u001b[1;33m(\u001b[0m\u001b[1;36m100\u001b[0m\u001b[1;33m)\u001b[0m\u001b[1;33m\u001b[0m\u001b[0m\n\u001b[0;32m     14\u001b[0m \u001b[0mo2\u001b[0m\u001b[1;33m.\u001b[0m\u001b[0mop2\u001b[0m\u001b[1;33m(\u001b[0m\u001b[1;33m)\u001b[0m\u001b[1;33m\u001b[0m\u001b[0m\n\u001b[1;32m---> 15\u001b[1;33m \u001b[0mo2\u001b[0m\u001b[1;33m.\u001b[0m\u001b[0mop1\u001b[0m\u001b[1;33m(\u001b[0m\u001b[1;33m)\u001b[0m\u001b[1;33m\u001b[0m\u001b[0m\n\u001b[0m",
      "\u001b[1;31mAttributeError\u001b[0m: 'c2' object has no attribute 'op1'"
     ]
    }
   ],
   "source": [
    "class c1:\n",
    "    def __init__(self,a):\n",
    "        self.a=a\n",
    "    def op1(self):\n",
    "        print(self.a)\n",
    "        print(\"this is op1 in c1\")\n",
    "class c2:\n",
    "    def __init__(self,a):\n",
    "        self.a=a\n",
    "    def op2(self):\n",
    "        print(\"a=\",self.a)\n",
    "        print(\"this is op2 in c2\")\n",
    "o2=c2(100)\n",
    "o2.op2()\n",
    "o2.op1()"
   ]
  },
  {
   "cell_type": "code",
   "execution_count": 68,
   "metadata": {},
   "outputs": [
    {
     "name": "stdout",
     "output_type": "stream",
     "text": [
      "a= 100\n",
      "this is op2 in c2\n"
     ]
    },
    {
     "ename": "AttributeError",
     "evalue": "'c2' object has no attribute 'op1'",
     "output_type": "error",
     "traceback": [
      "\u001b[1;31m---------------------------------------------------------------------------\u001b[0m",
      "\u001b[1;31mAttributeError\u001b[0m                            Traceback (most recent call last)",
      "\u001b[1;32m<ipython-input-68-a181d0b0e573>\u001b[0m in \u001b[0;36m<module>\u001b[1;34m()\u001b[0m\n\u001b[0;32m     16\u001b[0m \u001b[1;33m\u001b[0m\u001b[0m\n\u001b[0;32m     17\u001b[0m \u001b[0mo2\u001b[0m\u001b[1;33m=\u001b[0m\u001b[0mc2\u001b[0m\u001b[1;33m(\u001b[0m\u001b[1;36m100\u001b[0m\u001b[1;33m)\u001b[0m\u001b[1;33m\u001b[0m\u001b[0m\n\u001b[1;32m---> 18\u001b[1;33m \u001b[0mo2\u001b[0m\u001b[1;33m.\u001b[0m\u001b[0moperations\u001b[0m\u001b[1;33m(\u001b[0m\u001b[1;33m)\u001b[0m\u001b[1;33m\u001b[0m\u001b[0m\n\u001b[0m",
      "\u001b[1;32m<ipython-input-68-a181d0b0e573>\u001b[0m in \u001b[0;36moperations\u001b[1;34m(self)\u001b[0m\n\u001b[0;32m     13\u001b[0m     \u001b[1;32mdef\u001b[0m \u001b[0moperations\u001b[0m\u001b[1;33m(\u001b[0m\u001b[0mself\u001b[0m\u001b[1;33m)\u001b[0m\u001b[1;33m:\u001b[0m\u001b[1;33m\u001b[0m\u001b[0m\n\u001b[0;32m     14\u001b[0m         \u001b[0mself\u001b[0m\u001b[1;33m.\u001b[0m\u001b[0mop2\u001b[0m\u001b[1;33m(\u001b[0m\u001b[1;33m)\u001b[0m\u001b[1;33m\u001b[0m\u001b[0m\n\u001b[1;32m---> 15\u001b[1;33m         \u001b[0mself\u001b[0m\u001b[1;33m.\u001b[0m\u001b[0mop1\u001b[0m\u001b[1;33m(\u001b[0m\u001b[1;33m)\u001b[0m\u001b[1;33m\u001b[0m\u001b[0m\n\u001b[0m\u001b[0;32m     16\u001b[0m \u001b[1;33m\u001b[0m\u001b[0m\n\u001b[0;32m     17\u001b[0m \u001b[0mo2\u001b[0m\u001b[1;33m=\u001b[0m\u001b[0mc2\u001b[0m\u001b[1;33m(\u001b[0m\u001b[1;36m100\u001b[0m\u001b[1;33m)\u001b[0m\u001b[1;33m\u001b[0m\u001b[0m\n",
      "\u001b[1;31mAttributeError\u001b[0m: 'c2' object has no attribute 'op1'"
     ]
    }
   ],
   "source": [
    "class c1:\n",
    "    def __init__(self,a):\n",
    "        self.a=a\n",
    "    def op1(self):\n",
    "        print(self.a)\n",
    "        print(\"this is op1 in c1\")\n",
    "class c2:\n",
    "    def __init__(self,a):\n",
    "        self.a=a\n",
    "    def op2(self):\n",
    "        print(\"a=\",self.a)\n",
    "        print(\"this is op2 in c2\")\n",
    "    def operations(self):\n",
    "        self.op2()\n",
    "        self.op1()\n",
    "        \n",
    "o2=c2(100)\n",
    "o2.operations()"
   ]
  },
  {
   "cell_type": "code",
   "execution_count": 70,
   "metadata": {},
   "outputs": [
    {
     "name": "stdout",
     "output_type": "stream",
     "text": [
      "a= 100\n",
      "this is op2 in c2\n",
      "100\n",
      "this is op1 in c1\n"
     ]
    }
   ],
   "source": [
    "class c1:\n",
    "    def __init__(self,a):\n",
    "        self.a=a\n",
    "    def op1(self):\n",
    "        print(self.a)\n",
    "        print(\"this is op1 in c1\")\n",
    "class c2:\n",
    "    def __init__(self,a):\n",
    "        self.a=a\n",
    "    def op2(self):\n",
    "        print(\"a=\",self.a)\n",
    "        print(\"this is op2 in c2\")\n",
    "    def operations(self):\n",
    "        self.op2()\n",
    "        o1=c1(self.a)\n",
    "        o1.op1()\n",
    "        \n",
    "o2=c2(100)\n",
    "o2.operations()"
   ]
  },
  {
   "cell_type": "code",
   "execution_count": 72,
   "metadata": {},
   "outputs": [
    {
     "name": "stdout",
     "output_type": "stream",
     "text": [
      "this is op2 in c2\n",
      "this is op1 in c1\n"
     ]
    }
   ],
   "source": [
    "class c1:\n",
    "    def op1(self):\n",
    "        print(\"this is op1 in c1\")\n",
    "class c2(c1):\n",
    "    def op2(self):\n",
    "        print(\"this is op2 in c2\")\n",
    "    def operations(self):\n",
    "        self.op2()\n",
    "        self.op1()\n",
    "        \n",
    "o2=c2()\n",
    "o2.operations()"
   ]
  },
  {
   "cell_type": "code",
   "execution_count": 73,
   "metadata": {},
   "outputs": [
    {
     "name": "stdout",
     "output_type": "stream",
     "text": [
      "this is op2 in c2\n",
      "this is op1 in c1\n",
      "this is op3 in c3\n"
     ]
    }
   ],
   "source": [
    "class c1:\n",
    "    def op1(self):\n",
    "        print(\"this is op1 in c1\")\n",
    "class c3:\n",
    "    def op3(self):\n",
    "        print(\"this is op3 in c3\")\n",
    "class c2(c1,c3):\n",
    "    def op2(self):\n",
    "        print(\"this is op2 in c2\")\n",
    "    def operations(self):\n",
    "        self.op2()\n",
    "        self.op1()\n",
    "        self.op3()\n",
    "        \n",
    "o2=c2()\n",
    "o2.operations()"
   ]
  },
  {
   "cell_type": "code",
   "execution_count": 74,
   "metadata": {},
   "outputs": [
    {
     "name": "stdout",
     "output_type": "stream",
     "text": [
      "this is op2 in c2\n",
      "this is op1 in c2\n",
      "this is op3 in c3\n"
     ]
    }
   ],
   "source": [
    "class c1:\n",
    "    def op1(self):\n",
    "        print(\"this is op1 in c1\")\n",
    "class c3:\n",
    "    def op3(self):\n",
    "        print(\"this is op3 in c3\")\n",
    "class c2(c1,c3):\n",
    "    def op2(self):\n",
    "        print(\"this is op2 in c2\")\n",
    "    def operations(self):\n",
    "        self.op2()\n",
    "        self.op1()\n",
    "        self.op3()\n",
    "    def op1(self):\n",
    "        print(\"this is op1 in c2\")\n",
    "        \n",
    "o2=c2()\n",
    "o2.operations()"
   ]
  },
  {
   "cell_type": "code",
   "execution_count": 75,
   "metadata": {},
   "outputs": [
    {
     "name": "stdout",
     "output_type": "stream",
     "text": [
      "this is op2 in c2\n",
      "this is op1 in c1\n",
      "this is op1 in c2\n",
      "this is op3 in c3\n"
     ]
    }
   ],
   "source": [
    "class c1:\n",
    "    def op1(self):\n",
    "        print(\"this is op1 in c1\")\n",
    "class c3:\n",
    "    def op3(self):\n",
    "        print(\"this is op3 in c3\")\n",
    "class c2(c1,c3):\n",
    "    def op2(self):\n",
    "        print(\"this is op2 in c2\")\n",
    "    def operations(self):\n",
    "        self.op2()\n",
    "        self.op1()\n",
    "        self.op3()\n",
    "    def op1(self):\n",
    "        #self.op1()\n",
    "        c1.op1(self)\n",
    "        print(\"this is op1 in c2\")\n",
    "        \n",
    "o2=c2()\n",
    "o2.operations()"
   ]
  },
  {
   "cell_type": "code",
   "execution_count": 76,
   "metadata": {},
   "outputs": [
    {
     "ename": "TypeError",
     "evalue": "__init__() missing 1 required positional argument: 'a'",
     "output_type": "error",
     "traceback": [
      "\u001b[1;31m---------------------------------------------------------------------------\u001b[0m",
      "\u001b[1;31mTypeError\u001b[0m                                 Traceback (most recent call last)",
      "\u001b[1;32m<ipython-input-76-a8bec634f3b4>\u001b[0m in \u001b[0;36m<module>\u001b[1;34m()\u001b[0m\n\u001b[0;32m      7\u001b[0m     \u001b[1;32mdef\u001b[0m \u001b[0mget_a\u001b[0m\u001b[1;33m(\u001b[0m\u001b[0mself\u001b[0m\u001b[1;33m)\u001b[0m\u001b[1;33m:\u001b[0m\u001b[1;33m\u001b[0m\u001b[0m\n\u001b[0;32m      8\u001b[0m         \u001b[1;32mreturn\u001b[0m \u001b[0mself\u001b[0m\u001b[1;33m.\u001b[0m\u001b[0ma\u001b[0m\u001b[1;33m\u001b[0m\u001b[0m\n\u001b[1;32m----> 9\u001b[1;33m \u001b[0mo2\u001b[0m\u001b[1;33m=\u001b[0m\u001b[0mc2\u001b[0m\u001b[1;33m(\u001b[0m\u001b[1;33m)\u001b[0m\u001b[1;33m\u001b[0m\u001b[0m\n\u001b[0m\u001b[0;32m     10\u001b[0m \u001b[0mprint\u001b[0m\u001b[1;33m(\u001b[0m\u001b[0mo2\u001b[0m\u001b[1;33m.\u001b[0m\u001b[0mget_a\u001b[0m\u001b[1;33m(\u001b[0m\u001b[1;33m)\u001b[0m\u001b[1;33m)\u001b[0m\u001b[1;33m\u001b[0m\u001b[0m\n",
      "\u001b[1;31mTypeError\u001b[0m: __init__() missing 1 required positional argument: 'a'"
     ]
    }
   ],
   "source": [
    "class c1:\n",
    "    def __init__(self,a):\n",
    "        self.a=a\n",
    "    def get(self):\n",
    "        return self.a\n",
    "class c2(c1):\n",
    "    def get_a(self):\n",
    "        return self.a\n",
    "o2=c2()\n",
    "print(o2.get_a())"
   ]
  },
  {
   "cell_type": "code",
   "execution_count": 77,
   "metadata": {},
   "outputs": [
    {
     "name": "stdout",
     "output_type": "stream",
     "text": [
      "1000\n"
     ]
    }
   ],
   "source": [
    "class c1:\n",
    "    def __init__(self,a):\n",
    "        self.a=a\n",
    "    def get(self):\n",
    "        return self.a\n",
    "class c2(c1):\n",
    "    def get_a(self):\n",
    "        return self.a\n",
    "o2=c2(1000)\n",
    "print(o2.get_a())"
   ]
  },
  {
   "cell_type": "code",
   "execution_count": 78,
   "metadata": {},
   "outputs": [
    {
     "name": "stdout",
     "output_type": "stream",
     "text": [
      "('c2:', 1000)\n"
     ]
    }
   ],
   "source": [
    "class c1:\n",
    "    def __init__(self,a):\n",
    "        self.a=\"c1:\",a\n",
    "    def get(self):\n",
    "        return self.a\n",
    "class c2(c1):\n",
    "    def __init__(self,a):\n",
    "        self.a=\"c2:\",a\n",
    "    def get_a(self):\n",
    "        return self.a\n",
    "o2=c2(1000)\n",
    "print(o2.get_a())"
   ]
  },
  {
   "cell_type": "code",
   "execution_count": 79,
   "metadata": {},
   "outputs": [
    {
     "ename": "AttributeError",
     "evalue": "'c2' object has no attribute 'a'",
     "output_type": "error",
     "traceback": [
      "\u001b[1;31m---------------------------------------------------------------------------\u001b[0m",
      "\u001b[1;31mAttributeError\u001b[0m                            Traceback (most recent call last)",
      "\u001b[1;32m<ipython-input-79-0b5887f86070>\u001b[0m in \u001b[0;36m<module>\u001b[1;34m()\u001b[0m\n\u001b[0;32m     10\u001b[0m         \u001b[1;32mreturn\u001b[0m \u001b[0mself\u001b[0m\u001b[1;33m.\u001b[0m\u001b[0ma\u001b[0m\u001b[1;33m+\u001b[0m\u001b[0mself\u001b[0m\u001b[1;33m.\u001b[0m\u001b[0mb\u001b[0m\u001b[1;33m\u001b[0m\u001b[0m\n\u001b[0;32m     11\u001b[0m \u001b[0mo2\u001b[0m\u001b[1;33m=\u001b[0m\u001b[0mc2\u001b[0m\u001b[1;33m(\u001b[0m\u001b[1;36m1000\u001b[0m\u001b[1;33m)\u001b[0m\u001b[1;33m\u001b[0m\u001b[0m\n\u001b[1;32m---> 12\u001b[1;33m \u001b[0mprint\u001b[0m\u001b[1;33m(\u001b[0m\u001b[0mo2\u001b[0m\u001b[1;33m.\u001b[0m\u001b[0msum_a_b\u001b[0m\u001b[1;33m(\u001b[0m\u001b[1;33m)\u001b[0m\u001b[1;33m)\u001b[0m\u001b[1;33m\u001b[0m\u001b[0m\n\u001b[0m",
      "\u001b[1;32m<ipython-input-79-0b5887f86070>\u001b[0m in \u001b[0;36msum_a_b\u001b[1;34m(self)\u001b[0m\n\u001b[0;32m      8\u001b[0m         \u001b[0mself\u001b[0m\u001b[1;33m.\u001b[0m\u001b[0mb\u001b[0m\u001b[1;33m=\u001b[0m\u001b[0mb\u001b[0m\u001b[1;33m\u001b[0m\u001b[0m\n\u001b[0;32m      9\u001b[0m     \u001b[1;32mdef\u001b[0m \u001b[0msum_a_b\u001b[0m\u001b[1;33m(\u001b[0m\u001b[0mself\u001b[0m\u001b[1;33m)\u001b[0m\u001b[1;33m:\u001b[0m\u001b[1;33m\u001b[0m\u001b[0m\n\u001b[1;32m---> 10\u001b[1;33m         \u001b[1;32mreturn\u001b[0m \u001b[0mself\u001b[0m\u001b[1;33m.\u001b[0m\u001b[0ma\u001b[0m\u001b[1;33m+\u001b[0m\u001b[0mself\u001b[0m\u001b[1;33m.\u001b[0m\u001b[0mb\u001b[0m\u001b[1;33m\u001b[0m\u001b[0m\n\u001b[0m\u001b[0;32m     11\u001b[0m \u001b[0mo2\u001b[0m\u001b[1;33m=\u001b[0m\u001b[0mc2\u001b[0m\u001b[1;33m(\u001b[0m\u001b[1;36m1000\u001b[0m\u001b[1;33m)\u001b[0m\u001b[1;33m\u001b[0m\u001b[0m\n\u001b[0;32m     12\u001b[0m \u001b[0mprint\u001b[0m\u001b[1;33m(\u001b[0m\u001b[0mo2\u001b[0m\u001b[1;33m.\u001b[0m\u001b[0msum_a_b\u001b[0m\u001b[1;33m(\u001b[0m\u001b[1;33m)\u001b[0m\u001b[1;33m)\u001b[0m\u001b[1;33m\u001b[0m\u001b[0m\n",
      "\u001b[1;31mAttributeError\u001b[0m: 'c2' object has no attribute 'a'"
     ]
    }
   ],
   "source": [
    "class c1:\n",
    "    def __init__(self,a):\n",
    "        self.a=\"c1:\",a\n",
    "    def get(self):\n",
    "        return self.a\n",
    "class c2(c1):\n",
    "    def __init__(self,b):\n",
    "        self.b=b\n",
    "    def sum_a_b(self):\n",
    "        return self.a+self.b\n",
    "o2=c2(1000)\n",
    "print(o2.sum_a_b())"
   ]
  },
  {
   "cell_type": "code",
   "execution_count": 80,
   "metadata": {},
   "outputs": [
    {
     "name": "stdout",
     "output_type": "stream",
     "text": [
      "3000\n"
     ]
    }
   ],
   "source": [
    "class c1:\n",
    "    def __init__(self,a):\n",
    "        self.a=\"c1:\",a\n",
    "    def get(self):\n",
    "        return self.a\n",
    "class c2(c1):\n",
    "    def __init__(self,b,a):\n",
    "        self.a=a\n",
    "        self.b=b\n",
    "    def sum_a_b(self):\n",
    "        return self.a+self.b\n",
    "o2=c2(1000,2000)\n",
    "print(o2.sum_a_b())"
   ]
  },
  {
   "cell_type": "code",
   "execution_count": 82,
   "metadata": {},
   "outputs": [
    {
     "name": "stdout",
     "output_type": "stream",
     "text": [
      "3000\n"
     ]
    }
   ],
   "source": [
    "class c1:\n",
    "    def __init__(self,a):\n",
    "        self.a=a\n",
    "    def get(self):\n",
    "        return self.a\n",
    "class c2(c1):\n",
    "    def __init__(self,b,a):\n",
    "        c1.__init__(self,a)\n",
    "        self.b=b\n",
    "    def sum_a_b(self):\n",
    "        return self.a+self.b\n",
    "o2=c2(1000,2000)\n",
    "print(o2.sum_a_b())"
   ]
  },
  {
   "cell_type": "code",
   "execution_count": 1,
   "metadata": {},
   "outputs": [
    {
     "data": {
      "text/plain": [
       "'PYTHON'"
      ]
     },
     "execution_count": 1,
     "metadata": {},
     "output_type": "execute_result"
    }
   ],
   "source": [
    "s=\"python\"\n",
    "s.upper()"
   ]
  },
  {
   "cell_type": "code",
   "execution_count": 2,
   "metadata": {},
   "outputs": [
    {
     "name": "stdout",
     "output_type": "stream",
     "text": [
      "[10, 20, 400, 30, 40]\n"
     ]
    }
   ],
   "source": [
    "l=[10,20,30,40]\n",
    "l.insert(2,400)\n",
    "print(l)"
   ]
  },
  {
   "cell_type": "code",
   "execution_count": 4,
   "metadata": {},
   "outputs": [
    {
     "data": {
      "text/plain": [
       "[10, 20, 400, 30, 40]"
      ]
     },
     "execution_count": 4,
     "metadata": {},
     "output_type": "execute_result"
    }
   ],
   "source": [
    "def own_insert(index,value,l):\n",
    "    return l[:index]+[value]+l[index:]\n",
    "l=[10,20,30,40]\n",
    "own_insert(2,400,l)\n",
    "\n"
   ]
  },
  {
   "cell_type": "code",
   "execution_count": null,
   "metadata": {},
   "outputs": [],
   "source": [
    "#"
   ]
  }
 ],
 "metadata": {
  "kernelspec": {
   "display_name": "Python 3",
   "language": "python",
   "name": "python3"
  },
  "language_info": {
   "codemirror_mode": {
    "name": "ipython",
    "version": 3
   },
   "file_extension": ".py",
   "mimetype": "text/x-python",
   "name": "python",
   "nbconvert_exporter": "python",
   "pygments_lexer": "ipython3",
   "version": "3.7.0"
  }
 },
 "nbformat": 4,
 "nbformat_minor": 2
}
