{
 "cells": [
  {
   "cell_type": "markdown",
   "metadata": {},
   "source": []
  },
  {
   "cell_type": "code",
   "execution_count": 1,
   "metadata": {},
   "outputs": [
    {
     "name": "stdout",
     "output_type": "stream",
     "text": [
      "Vedhanvesh\n"
     ]
    }
   ],
   "source": [
    "class c1:\n",
    "    def __init__(self, name):\n",
    "        self.name=name\n",
    "class c2(c1):\n",
    "    def get(self):\n",
    "        return self.name\n",
    "o2=c2(\"Vedhanvesh\")\n",
    "print(o2.get())"
   ]
  },
  {
   "cell_type": "code",
   "execution_count": 2,
   "metadata": {},
   "outputs": [
    {
     "name": "stdout",
     "output_type": "stream",
     "text": [
      "('Vedhanvesh', '11M')\n"
     ]
    }
   ],
   "source": [
    "class c1:\n",
    "    def __init__(self, name):\n",
    "        self.name=name\n",
    "class c2(c1):\n",
    "    def __init__(self, name ,age):\n",
    "        self.name=name\n",
    "        self.age=age\n",
    "    def get(self):\n",
    "        return self.name,self.age\n",
    "o2=c2(\"Vedhanvesh\",\"11M\")\n",
    "print(o2.get())"
   ]
  },
  {
   "cell_type": "code",
   "execution_count": 3,
   "metadata": {},
   "outputs": [
    {
     "name": "stdout",
     "output_type": "stream",
     "text": [
      "('Vedhanvesh', '11M')\n"
     ]
    }
   ],
   "source": [
    "class c1:\n",
    "    def __init__(self, name):\n",
    "        self.name=name\n",
    "class c2(c1):\n",
    "    def __init__(self, name ,age):\n",
    "        c1.__init__(self,name)\n",
    "        self.age=age\n",
    "    def get(self):\n",
    "        return self.name,self.age\n",
    "o2=c2(\"Vedhanvesh\",\"11M\")\n",
    "print(o2.get())"
   ]
  },
  {
   "cell_type": "code",
   "execution_count": 4,
   "metadata": {},
   "outputs": [
    {
     "name": "stdout",
     "output_type": "stream",
     "text": [
      "('Vedhanvesh', '11M')\n"
     ]
    }
   ],
   "source": [
    "class c1:\n",
    "    def __init__(self, name):\n",
    "        self.name=name\n",
    "class c2(c1):\n",
    "    def __init__(self, name ,age):\n",
    "        super().__init__(name)\n",
    "        self.age=age\n",
    "    def get(self):\n",
    "        return self.name,self.age\n",
    "o2=c2(\"Vedhanvesh\",\"11M\")\n",
    "print(o2.get())"
   ]
  },
  {
   "cell_type": "code",
   "execution_count": 5,
   "metadata": {},
   "outputs": [
    {
     "name": "stdout",
     "output_type": "stream",
     "text": [
      "('Vedhanvesh', '11M')\n",
      "(<class '__main__.c2'>, <class '__main__.c1'>, <class '__main__.c3'>, <class 'object'>)\n"
     ]
    }
   ],
   "source": [
    "class c3:\n",
    "    def __init__(self, height):\n",
    "        self.height=height\n",
    "class c1:\n",
    "    def __init__(self, name):\n",
    "        self.name=name\n",
    "class c2(c1,c3):\n",
    "    def __init__(self, name ,age, height):\n",
    "        super().__init__(name)\n",
    "        self.age=age\n",
    "    def get(self):\n",
    "        return self.name,self.age\n",
    "o2=c2(\"Vedhanvesh\",\"11M\",\"2F\")\n",
    "print(o2.get())\n",
    "print(c2.__mro__)"
   ]
  },
  {
   "cell_type": "code",
   "execution_count": 6,
   "metadata": {},
   "outputs": [],
   "source": [
    "a=1000\n",
    "b=2000"
   ]
  },
  {
   "cell_type": "code",
   "execution_count": 7,
   "metadata": {},
   "outputs": [],
   "source": [
    "c=a\n",
    "d=b"
   ]
  },
  {
   "cell_type": "code",
   "execution_count": 8,
   "metadata": {},
   "outputs": [],
   "source": [
    "c=1000\n",
    "d=2000"
   ]
  },
  {
   "cell_type": "code",
   "execution_count": 9,
   "metadata": {},
   "outputs": [
    {
     "name": "stdout",
     "output_type": "stream",
     "text": [
      "1000 2000\n"
     ]
    }
   ],
   "source": [
    "a=1000\n",
    "b=2000\n",
    "def fun(c,d):\n",
    "    print(c,d)\n",
    "fun(a,b)\n"
   ]
  },
  {
   "cell_type": "code",
   "execution_count": 10,
   "metadata": {},
   "outputs": [
    {
     "name": "stdout",
     "output_type": "stream",
     "text": [
      "[1, 2, 3, 4]\n"
     ]
    }
   ],
   "source": [
    "l=[1,2,3,4]\n",
    "def fun(x):\n",
    "    x.append(10)\n",
    "print(l)"
   ]
  },
  {
   "cell_type": "code",
   "execution_count": 11,
   "metadata": {},
   "outputs": [
    {
     "name": "stdout",
     "output_type": "stream",
     "text": [
      "[1, 2, 3, 4, 10]\n"
     ]
    }
   ],
   "source": [
    "l=[1,2,3,4]\n",
    "def fun(x):\n",
    "    x.append(10)\n",
    "fun(l)\n",
    "print(l)"
   ]
  },
  {
   "cell_type": "code",
   "execution_count": null,
   "metadata": {},
   "outputs": [],
   "source": []
  }
 ],
 "metadata": {
  "kernelspec": {
   "display_name": "Python 3",
   "language": "python",
   "name": "python3"
  },
  "language_info": {
   "codemirror_mode": {
    "name": "ipython",
    "version": 3
   },
   "file_extension": ".py",
   "mimetype": "text/x-python",
   "name": "python",
   "nbconvert_exporter": "python",
   "pygments_lexer": "ipython3",
   "version": "3.7.3"
  }
 },
 "nbformat": 4,
 "nbformat_minor": 2
}
